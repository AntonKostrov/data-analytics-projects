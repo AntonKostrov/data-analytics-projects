{
 "cells": [
  {
   "cell_type": "markdown",
   "metadata": {},
   "source": [
    "# Исследование успешности игр"
   ]
  },
  {
   "cell_type": "markdown",
   "metadata": {},
   "source": [
    "## Оглавление\n",
    "\n",
    "1. [Введение](#intro)\n",
    "2. [Открытие данных](#open)\n",
    "3. [Предобработка данных](#preprocessing)\n",
    "    1. [Обработка названий столбцов](#columns)\n",
    "    2. [Изменение типов данных](#types)\n",
    "    3. [Обработка пропусков](#nulls)\n",
    "    4. [Обработка дубликатов](#duplicates)\n",
    "    5. [Суммирование продаж во всех регионах](#all_sales)\n",
    "4. [Исследовательский анализ данных](#analysis)\n",
    "    1. [Анализ количества игр, выпускаемых в разные годы](#count_by_year)\n",
    "    2. [Анализ количества выпускаемых игр на самых зарабатываемых платформах](#count_by_platform)\n",
    "    3. [Выбор актуального периода для анализа прогноза на 2017 год](#period)\n",
    "    4. [Поиск потенциально прибыльных платформ](#potential_platforms)\n",
    "    5. [Анализ глобальных продаж в разбивке по платформам](#sales_by_platforms)\n",
    "    6. [Анализ влияния отзывов пользователей и критиков на продажи](#sales_by_scores)\n",
    "    7. [Анализ общего распределения игр по жанрам](#games_by_genres)\n",
    "5. [Определение портрета пользователя для каждого региона](#profile)\n",
    "    1. [Анализ самых популярных платформ](#popular_platforms)\n",
    "    2. [Анализ самых популярных жанров](#popular_genres)\n",
    "    3. [Анализ влияния рейтинга ESRB на продажи](#sales_by_rating)\n",
    "6. [Проверка гипотез](#hypothesis)\n",
    "    1. [Сравнение пользовательских рейтингов платформ Xbox One и PC](#check_platforms)\n",
    "    2. [Сравнение пользовательских рейтингов жанров Action и Sports](#check_genres)\n",
    "7. [Общий вывод](#total)"
   ]
  },
  {
   "cell_type": "markdown",
   "metadata": {},
   "source": [
    "## Введение <a id=\"intro\"/>"
   ]
  },
  {
   "cell_type": "markdown",
   "metadata": {},
   "source": [
    "Задача: Выявить закономерности, определяющие успешность игры. Это позволит сделать ставку на потенциально популярный продукт и спланировать рекламные кампании интернет-магазина компьютерных игр на 2017-й год.\n",
    "\n",
    "Описание данных: Из открытых источников доступны исторические данные о продажах игр до 2016 года, оценки пользователей и экспертов, жанры и платформы (например, Xbox или PlayStation). Данные за 2016 год могут быть неполными.\n",
    "\n",
    "Описание датасета:\n",
    "- `Name` — название игры\n",
    "- `Platform` — платформа\n",
    "- `Year_of_Release` — год выпуска\n",
    "- `Genre` — жанр игры\n",
    "- `NA_sales` — продажи в Северной Америке (миллионы проданных копий)\n",
    "- `EU_sales` — продажи в Европе (миллионы проданных копий)\n",
    "- `JP_sales` — продажи в Японии (миллионы проданных копий)\n",
    "- `Other_sales` — продажи в других странах (миллионы проданных копий)\n",
    "- `Critic_Score` — оценка критиков (максимум 100)\n",
    "- `User_Score` — оценка пользователей (максимум 10)\n",
    "- `Rating` — рейтинг от организации ESRB (англ. Entertainment Software Rating Board). Эта ассоциация определяет рейтинг компьютерных игр и присваивает им подходящую возрастную категорию."
   ]
  },
  {
   "cell_type": "markdown",
   "metadata": {},
   "source": [
    "## Открытие данных <a id=\"open\"/>"
   ]
  },
  {
   "cell_type": "markdown",
   "metadata": {},
   "source": [
    "Загрузим необходимые для работы библиотеки."
   ]
  },
  {
   "cell_type": "code",
   "execution_count": 1,
   "metadata": {},
   "outputs": [],
   "source": [
    "import pandas as pd\n",
    "import numpy as np\n",
    "import matplotlib.pyplot as plt\n",
    "from scipy import stats as st"
   ]
  },
  {
   "cell_type": "markdown",
   "metadata": {},
   "source": [
    "Зададим необходимые константы."
   ]
  },
  {
   "cell_type": "code",
   "execution_count": 2,
   "metadata": {},
   "outputs": [],
   "source": [
    "# список часто встречающихся возрастных рейтингов ESRB по убыванию\n",
    "RATING_TYPES = ['M', 'T', 'E10+', 'E']"
   ]
  },
  {
   "cell_type": "markdown",
   "metadata": {},
   "source": [
    "Откроем файл с данными."
   ]
  },
  {
   "cell_type": "code",
   "execution_count": 3,
   "metadata": {},
   "outputs": [],
   "source": [
    "data = pd.read_csv('data.csv')"
   ]
  },
  {
   "cell_type": "markdown",
   "metadata": {},
   "source": [
    "Выведем первые 10 строк и общую информацию о датасете."
   ]
  },
  {
   "cell_type": "code",
   "execution_count": 4,
   "metadata": {},
   "outputs": [
    {
     "data": {
      "text/html": [
       "<div>\n",
       "<style scoped>\n",
       "    .dataframe tbody tr th:only-of-type {\n",
       "        vertical-align: middle;\n",
       "    }\n",
       "\n",
       "    .dataframe tbody tr th {\n",
       "        vertical-align: top;\n",
       "    }\n",
       "\n",
       "    .dataframe thead th {\n",
       "        text-align: right;\n",
       "    }\n",
       "</style>\n",
       "<table border=\"1\" class=\"dataframe\">\n",
       "  <thead>\n",
       "    <tr style=\"text-align: right;\">\n",
       "      <th></th>\n",
       "      <th>Name</th>\n",
       "      <th>Platform</th>\n",
       "      <th>Year_of_Release</th>\n",
       "      <th>Genre</th>\n",
       "      <th>NA_sales</th>\n",
       "      <th>EU_sales</th>\n",
       "      <th>JP_sales</th>\n",
       "      <th>Other_sales</th>\n",
       "      <th>Critic_Score</th>\n",
       "      <th>User_Score</th>\n",
       "      <th>Rating</th>\n",
       "    </tr>\n",
       "  </thead>\n",
       "  <tbody>\n",
       "    <tr>\n",
       "      <th>0</th>\n",
       "      <td>Wii Sports</td>\n",
       "      <td>Wii</td>\n",
       "      <td>2006.0</td>\n",
       "      <td>Sports</td>\n",
       "      <td>41.36</td>\n",
       "      <td>28.96</td>\n",
       "      <td>3.77</td>\n",
       "      <td>8.45</td>\n",
       "      <td>76.0</td>\n",
       "      <td>8</td>\n",
       "      <td>E</td>\n",
       "    </tr>\n",
       "    <tr>\n",
       "      <th>1</th>\n",
       "      <td>Super Mario Bros.</td>\n",
       "      <td>NES</td>\n",
       "      <td>1985.0</td>\n",
       "      <td>Platform</td>\n",
       "      <td>29.08</td>\n",
       "      <td>3.58</td>\n",
       "      <td>6.81</td>\n",
       "      <td>0.77</td>\n",
       "      <td>NaN</td>\n",
       "      <td>NaN</td>\n",
       "      <td>NaN</td>\n",
       "    </tr>\n",
       "    <tr>\n",
       "      <th>2</th>\n",
       "      <td>Mario Kart Wii</td>\n",
       "      <td>Wii</td>\n",
       "      <td>2008.0</td>\n",
       "      <td>Racing</td>\n",
       "      <td>15.68</td>\n",
       "      <td>12.76</td>\n",
       "      <td>3.79</td>\n",
       "      <td>3.29</td>\n",
       "      <td>82.0</td>\n",
       "      <td>8.3</td>\n",
       "      <td>E</td>\n",
       "    </tr>\n",
       "    <tr>\n",
       "      <th>3</th>\n",
       "      <td>Wii Sports Resort</td>\n",
       "      <td>Wii</td>\n",
       "      <td>2009.0</td>\n",
       "      <td>Sports</td>\n",
       "      <td>15.61</td>\n",
       "      <td>10.93</td>\n",
       "      <td>3.28</td>\n",
       "      <td>2.95</td>\n",
       "      <td>80.0</td>\n",
       "      <td>8</td>\n",
       "      <td>E</td>\n",
       "    </tr>\n",
       "    <tr>\n",
       "      <th>4</th>\n",
       "      <td>Pokemon Red/Pokemon Blue</td>\n",
       "      <td>GB</td>\n",
       "      <td>1996.0</td>\n",
       "      <td>Role-Playing</td>\n",
       "      <td>11.27</td>\n",
       "      <td>8.89</td>\n",
       "      <td>10.22</td>\n",
       "      <td>1.00</td>\n",
       "      <td>NaN</td>\n",
       "      <td>NaN</td>\n",
       "      <td>NaN</td>\n",
       "    </tr>\n",
       "    <tr>\n",
       "      <th>5</th>\n",
       "      <td>Tetris</td>\n",
       "      <td>GB</td>\n",
       "      <td>1989.0</td>\n",
       "      <td>Puzzle</td>\n",
       "      <td>23.20</td>\n",
       "      <td>2.26</td>\n",
       "      <td>4.22</td>\n",
       "      <td>0.58</td>\n",
       "      <td>NaN</td>\n",
       "      <td>NaN</td>\n",
       "      <td>NaN</td>\n",
       "    </tr>\n",
       "    <tr>\n",
       "      <th>6</th>\n",
       "      <td>New Super Mario Bros.</td>\n",
       "      <td>DS</td>\n",
       "      <td>2006.0</td>\n",
       "      <td>Platform</td>\n",
       "      <td>11.28</td>\n",
       "      <td>9.14</td>\n",
       "      <td>6.50</td>\n",
       "      <td>2.88</td>\n",
       "      <td>89.0</td>\n",
       "      <td>8.5</td>\n",
       "      <td>E</td>\n",
       "    </tr>\n",
       "    <tr>\n",
       "      <th>7</th>\n",
       "      <td>Wii Play</td>\n",
       "      <td>Wii</td>\n",
       "      <td>2006.0</td>\n",
       "      <td>Misc</td>\n",
       "      <td>13.96</td>\n",
       "      <td>9.18</td>\n",
       "      <td>2.93</td>\n",
       "      <td>2.84</td>\n",
       "      <td>58.0</td>\n",
       "      <td>6.6</td>\n",
       "      <td>E</td>\n",
       "    </tr>\n",
       "    <tr>\n",
       "      <th>8</th>\n",
       "      <td>New Super Mario Bros. Wii</td>\n",
       "      <td>Wii</td>\n",
       "      <td>2009.0</td>\n",
       "      <td>Platform</td>\n",
       "      <td>14.44</td>\n",
       "      <td>6.94</td>\n",
       "      <td>4.70</td>\n",
       "      <td>2.24</td>\n",
       "      <td>87.0</td>\n",
       "      <td>8.4</td>\n",
       "      <td>E</td>\n",
       "    </tr>\n",
       "    <tr>\n",
       "      <th>9</th>\n",
       "      <td>Duck Hunt</td>\n",
       "      <td>NES</td>\n",
       "      <td>1984.0</td>\n",
       "      <td>Shooter</td>\n",
       "      <td>26.93</td>\n",
       "      <td>0.63</td>\n",
       "      <td>0.28</td>\n",
       "      <td>0.47</td>\n",
       "      <td>NaN</td>\n",
       "      <td>NaN</td>\n",
       "      <td>NaN</td>\n",
       "    </tr>\n",
       "  </tbody>\n",
       "</table>\n",
       "</div>"
      ],
      "text/plain": [
       "                        Name Platform  Year_of_Release         Genre  \\\n",
       "0                 Wii Sports      Wii           2006.0        Sports   \n",
       "1          Super Mario Bros.      NES           1985.0      Platform   \n",
       "2             Mario Kart Wii      Wii           2008.0        Racing   \n",
       "3          Wii Sports Resort      Wii           2009.0        Sports   \n",
       "4   Pokemon Red/Pokemon Blue       GB           1996.0  Role-Playing   \n",
       "5                     Tetris       GB           1989.0        Puzzle   \n",
       "6      New Super Mario Bros.       DS           2006.0      Platform   \n",
       "7                   Wii Play      Wii           2006.0          Misc   \n",
       "8  New Super Mario Bros. Wii      Wii           2009.0      Platform   \n",
       "9                  Duck Hunt      NES           1984.0       Shooter   \n",
       "\n",
       "   NA_sales  EU_sales  JP_sales  Other_sales  Critic_Score User_Score Rating  \n",
       "0     41.36     28.96      3.77         8.45          76.0          8      E  \n",
       "1     29.08      3.58      6.81         0.77           NaN        NaN    NaN  \n",
       "2     15.68     12.76      3.79         3.29          82.0        8.3      E  \n",
       "3     15.61     10.93      3.28         2.95          80.0          8      E  \n",
       "4     11.27      8.89     10.22         1.00           NaN        NaN    NaN  \n",
       "5     23.20      2.26      4.22         0.58           NaN        NaN    NaN  \n",
       "6     11.28      9.14      6.50         2.88          89.0        8.5      E  \n",
       "7     13.96      9.18      2.93         2.84          58.0        6.6      E  \n",
       "8     14.44      6.94      4.70         2.24          87.0        8.4      E  \n",
       "9     26.93      0.63      0.28         0.47           NaN        NaN    NaN  "
      ]
     },
     "metadata": {},
     "output_type": "display_data"
    },
    {
     "data": {
      "text/html": [
       "<div>\n",
       "<style scoped>\n",
       "    .dataframe tbody tr th:only-of-type {\n",
       "        vertical-align: middle;\n",
       "    }\n",
       "\n",
       "    .dataframe tbody tr th {\n",
       "        vertical-align: top;\n",
       "    }\n",
       "\n",
       "    .dataframe thead th {\n",
       "        text-align: right;\n",
       "    }\n",
       "</style>\n",
       "<table border=\"1\" class=\"dataframe\">\n",
       "  <thead>\n",
       "    <tr style=\"text-align: right;\">\n",
       "      <th></th>\n",
       "      <th>count</th>\n",
       "      <th>unique</th>\n",
       "      <th>top</th>\n",
       "      <th>freq</th>\n",
       "      <th>mean</th>\n",
       "      <th>std</th>\n",
       "      <th>min</th>\n",
       "      <th>25%</th>\n",
       "      <th>50%</th>\n",
       "      <th>75%</th>\n",
       "      <th>max</th>\n",
       "    </tr>\n",
       "  </thead>\n",
       "  <tbody>\n",
       "    <tr>\n",
       "      <th>Name</th>\n",
       "      <td>16713</td>\n",
       "      <td>11559</td>\n",
       "      <td>Need for Speed: Most Wanted</td>\n",
       "      <td>12</td>\n",
       "      <td>NaN</td>\n",
       "      <td>NaN</td>\n",
       "      <td>NaN</td>\n",
       "      <td>NaN</td>\n",
       "      <td>NaN</td>\n",
       "      <td>NaN</td>\n",
       "      <td>NaN</td>\n",
       "    </tr>\n",
       "    <tr>\n",
       "      <th>Platform</th>\n",
       "      <td>16715</td>\n",
       "      <td>31</td>\n",
       "      <td>PS2</td>\n",
       "      <td>2161</td>\n",
       "      <td>NaN</td>\n",
       "      <td>NaN</td>\n",
       "      <td>NaN</td>\n",
       "      <td>NaN</td>\n",
       "      <td>NaN</td>\n",
       "      <td>NaN</td>\n",
       "      <td>NaN</td>\n",
       "    </tr>\n",
       "    <tr>\n",
       "      <th>Year_of_Release</th>\n",
       "      <td>16446.0</td>\n",
       "      <td>NaN</td>\n",
       "      <td>NaN</td>\n",
       "      <td>NaN</td>\n",
       "      <td>2006.484616</td>\n",
       "      <td>5.87705</td>\n",
       "      <td>1980.0</td>\n",
       "      <td>2003.0</td>\n",
       "      <td>2007.0</td>\n",
       "      <td>2010.0</td>\n",
       "      <td>2016.0</td>\n",
       "    </tr>\n",
       "    <tr>\n",
       "      <th>Genre</th>\n",
       "      <td>16713</td>\n",
       "      <td>12</td>\n",
       "      <td>Action</td>\n",
       "      <td>3369</td>\n",
       "      <td>NaN</td>\n",
       "      <td>NaN</td>\n",
       "      <td>NaN</td>\n",
       "      <td>NaN</td>\n",
       "      <td>NaN</td>\n",
       "      <td>NaN</td>\n",
       "      <td>NaN</td>\n",
       "    </tr>\n",
       "    <tr>\n",
       "      <th>NA_sales</th>\n",
       "      <td>16715.0</td>\n",
       "      <td>NaN</td>\n",
       "      <td>NaN</td>\n",
       "      <td>NaN</td>\n",
       "      <td>0.263377</td>\n",
       "      <td>0.813604</td>\n",
       "      <td>0.0</td>\n",
       "      <td>0.0</td>\n",
       "      <td>0.08</td>\n",
       "      <td>0.24</td>\n",
       "      <td>41.36</td>\n",
       "    </tr>\n",
       "    <tr>\n",
       "      <th>EU_sales</th>\n",
       "      <td>16715.0</td>\n",
       "      <td>NaN</td>\n",
       "      <td>NaN</td>\n",
       "      <td>NaN</td>\n",
       "      <td>0.14506</td>\n",
       "      <td>0.503339</td>\n",
       "      <td>0.0</td>\n",
       "      <td>0.0</td>\n",
       "      <td>0.02</td>\n",
       "      <td>0.11</td>\n",
       "      <td>28.96</td>\n",
       "    </tr>\n",
       "    <tr>\n",
       "      <th>JP_sales</th>\n",
       "      <td>16715.0</td>\n",
       "      <td>NaN</td>\n",
       "      <td>NaN</td>\n",
       "      <td>NaN</td>\n",
       "      <td>0.077617</td>\n",
       "      <td>0.308853</td>\n",
       "      <td>0.0</td>\n",
       "      <td>0.0</td>\n",
       "      <td>0.0</td>\n",
       "      <td>0.04</td>\n",
       "      <td>10.22</td>\n",
       "    </tr>\n",
       "    <tr>\n",
       "      <th>Other_sales</th>\n",
       "      <td>16715.0</td>\n",
       "      <td>NaN</td>\n",
       "      <td>NaN</td>\n",
       "      <td>NaN</td>\n",
       "      <td>0.047342</td>\n",
       "      <td>0.186731</td>\n",
       "      <td>0.0</td>\n",
       "      <td>0.0</td>\n",
       "      <td>0.01</td>\n",
       "      <td>0.03</td>\n",
       "      <td>10.57</td>\n",
       "    </tr>\n",
       "    <tr>\n",
       "      <th>Critic_Score</th>\n",
       "      <td>8137.0</td>\n",
       "      <td>NaN</td>\n",
       "      <td>NaN</td>\n",
       "      <td>NaN</td>\n",
       "      <td>68.967679</td>\n",
       "      <td>13.938165</td>\n",
       "      <td>13.0</td>\n",
       "      <td>60.0</td>\n",
       "      <td>71.0</td>\n",
       "      <td>79.0</td>\n",
       "      <td>98.0</td>\n",
       "    </tr>\n",
       "    <tr>\n",
       "      <th>User_Score</th>\n",
       "      <td>10014</td>\n",
       "      <td>96</td>\n",
       "      <td>tbd</td>\n",
       "      <td>2424</td>\n",
       "      <td>NaN</td>\n",
       "      <td>NaN</td>\n",
       "      <td>NaN</td>\n",
       "      <td>NaN</td>\n",
       "      <td>NaN</td>\n",
       "      <td>NaN</td>\n",
       "      <td>NaN</td>\n",
       "    </tr>\n",
       "    <tr>\n",
       "      <th>Rating</th>\n",
       "      <td>9949</td>\n",
       "      <td>8</td>\n",
       "      <td>E</td>\n",
       "      <td>3990</td>\n",
       "      <td>NaN</td>\n",
       "      <td>NaN</td>\n",
       "      <td>NaN</td>\n",
       "      <td>NaN</td>\n",
       "      <td>NaN</td>\n",
       "      <td>NaN</td>\n",
       "      <td>NaN</td>\n",
       "    </tr>\n",
       "  </tbody>\n",
       "</table>\n",
       "</div>"
      ],
      "text/plain": [
       "                   count unique                          top  freq  \\\n",
       "Name               16713  11559  Need for Speed: Most Wanted    12   \n",
       "Platform           16715     31                          PS2  2161   \n",
       "Year_of_Release  16446.0    NaN                          NaN   NaN   \n",
       "Genre              16713     12                       Action  3369   \n",
       "NA_sales         16715.0    NaN                          NaN   NaN   \n",
       "EU_sales         16715.0    NaN                          NaN   NaN   \n",
       "JP_sales         16715.0    NaN                          NaN   NaN   \n",
       "Other_sales      16715.0    NaN                          NaN   NaN   \n",
       "Critic_Score      8137.0    NaN                          NaN   NaN   \n",
       "User_Score         10014     96                          tbd  2424   \n",
       "Rating              9949      8                            E  3990   \n",
       "\n",
       "                        mean        std     min     25%     50%     75%  \\\n",
       "Name                     NaN        NaN     NaN     NaN     NaN     NaN   \n",
       "Platform                 NaN        NaN     NaN     NaN     NaN     NaN   \n",
       "Year_of_Release  2006.484616    5.87705  1980.0  2003.0  2007.0  2010.0   \n",
       "Genre                    NaN        NaN     NaN     NaN     NaN     NaN   \n",
       "NA_sales            0.263377   0.813604     0.0     0.0    0.08    0.24   \n",
       "EU_sales             0.14506   0.503339     0.0     0.0    0.02    0.11   \n",
       "JP_sales            0.077617   0.308853     0.0     0.0     0.0    0.04   \n",
       "Other_sales         0.047342   0.186731     0.0     0.0    0.01    0.03   \n",
       "Critic_Score       68.967679  13.938165    13.0    60.0    71.0    79.0   \n",
       "User_Score               NaN        NaN     NaN     NaN     NaN     NaN   \n",
       "Rating                   NaN        NaN     NaN     NaN     NaN     NaN   \n",
       "\n",
       "                    max  \n",
       "Name                NaN  \n",
       "Platform            NaN  \n",
       "Year_of_Release  2016.0  \n",
       "Genre               NaN  \n",
       "NA_sales          41.36  \n",
       "EU_sales          28.96  \n",
       "JP_sales          10.22  \n",
       "Other_sales       10.57  \n",
       "Critic_Score       98.0  \n",
       "User_Score          NaN  \n",
       "Rating              NaN  "
      ]
     },
     "execution_count": 4,
     "metadata": {},
     "output_type": "execute_result"
    }
   ],
   "source": [
    "display(data.head(10))\n",
    "# используем all, чтобы показать все столбцы\n",
    "data.describe(include='all').T"
   ]
  },
  {
   "cell_type": "markdown",
   "metadata": {},
   "source": [
    "Сразу видим, что в данных есть пропуски, и некоторые аномальные значения (например, `tbd` в числовом столбце `User_score`). Изучим и обработаем их на следующем этапе."
   ]
  },
  {
   "cell_type": "markdown",
   "metadata": {},
   "source": [
    "## Предобработка данных <a id=\"preprocessing\"/>"
   ]
  },
  {
   "cell_type": "markdown",
   "metadata": {},
   "source": [
    "### Обработка названий столбцов <a id=\"columns\">"
   ]
  },
  {
   "cell_type": "markdown",
   "metadata": {},
   "source": [
    "Для удобства работы со столбцами стоит привести их названия к нижнему регистру."
   ]
  },
  {
   "cell_type": "code",
   "execution_count": 5,
   "metadata": {},
   "outputs": [],
   "source": [
    "data.columns = data.columns.str.lower()"
   ]
  },
  {
   "cell_type": "markdown",
   "metadata": {},
   "source": [
    "### Изменение типов данных <a id=\"types\">"
   ]
  },
  {
   "cell_type": "markdown",
   "metadata": {},
   "source": [
    "Проверим, какие типы данных есть в текущем датасете."
   ]
  },
  {
   "cell_type": "code",
   "execution_count": 6,
   "metadata": {},
   "outputs": [
    {
     "name": "stdout",
     "output_type": "stream",
     "text": [
      "<class 'pandas.core.frame.DataFrame'>\n",
      "RangeIndex: 16715 entries, 0 to 16714\n",
      "Data columns (total 11 columns):\n",
      " #   Column           Non-Null Count  Dtype  \n",
      "---  ------           --------------  -----  \n",
      " 0   name             16713 non-null  object \n",
      " 1   platform         16715 non-null  object \n",
      " 2   year_of_release  16446 non-null  float64\n",
      " 3   genre            16713 non-null  object \n",
      " 4   na_sales         16715 non-null  float64\n",
      " 5   eu_sales         16715 non-null  float64\n",
      " 6   jp_sales         16715 non-null  float64\n",
      " 7   other_sales      16715 non-null  float64\n",
      " 8   critic_score     8137 non-null   float64\n",
      " 9   user_score       10014 non-null  object \n",
      " 10  rating           9949 non-null   object \n",
      "dtypes: float64(6), object(5)\n",
      "memory usage: 1.4+ MB\n"
     ]
    }
   ],
   "source": [
    "data.info()"
   ]
  },
  {
   "cell_type": "markdown",
   "metadata": {},
   "source": [
    "Для начала обработаем аномальные строковые значения `tbd` в столбце с оценками пользователей `user_score`, чтобы оставить в нем только числовые значения. Скорее всего, оно означает `to be determined` (значения будут объявлены позже). Так как на данный момент ожидаемых значений нет, то можем заменить их пропусками."
   ]
  },
  {
   "cell_type": "code",
   "execution_count": 7,
   "metadata": {},
   "outputs": [],
   "source": [
    "data.loc[data['user_score'] == 'tbd', 'user_score'] = np.nan"
   ]
  },
  {
   "cell_type": "markdown",
   "metadata": {},
   "source": [
    "Можно было бы изменить тип данных в столбце `year_of_release` с вещественного на целый числовой. Но пока в нем присутствуют пустые значения `NaN`, которые имеют вещественный тип, изменить тип данных на целый не можем. Обработаем пропуски в нем позже.\n",
    "\n",
    "В столбцах с числовыми значениями (`year_of_release`, `na_sales`, `eu_sales`, `jp_sales`, `other_sales`, `critic_score`, `user_score`) используется тип данных со слишком большим диапазоном допустимых значений. Можно заменить тип с `float64` на `float16` в них, чтобы сэкономить память."
   ]
  },
  {
   "cell_type": "code",
   "execution_count": 8,
   "metadata": {},
   "outputs": [],
   "source": [
    "# выносим в список столбцы, которым нужно поменять тип\n",
    "columns = ['year_of_release', 'na_sales', 'eu_sales', 'jp_sales', 'other_sales', 'critic_score', 'user_score']\n",
    "\n",
    "data.loc[:, columns] = data.loc[:, columns].astype('float16')"
   ]
  },
  {
   "cell_type": "markdown",
   "metadata": {},
   "source": [
    "### Обработка пропусков <a id=\"nulls\">"
   ]
  },
  {
   "cell_type": "markdown",
   "metadata": {},
   "source": [
    "Посмотрим, какой процент пропущенных значений во всех столбцах."
   ]
  },
  {
   "cell_type": "code",
   "execution_count": 9,
   "metadata": {},
   "outputs": [
    {
     "data": {
      "text/plain": [
       "name                0.011965\n",
       "platform            0.000000\n",
       "year_of_release     1.609333\n",
       "genre               0.011965\n",
       "na_sales            0.000000\n",
       "eu_sales            0.000000\n",
       "jp_sales            0.000000\n",
       "other_sales         0.000000\n",
       "critic_score       51.319174\n",
       "user_score         54.591684\n",
       "rating             40.478612\n",
       "dtype: float64"
      ]
     },
     "execution_count": 9,
     "metadata": {},
     "output_type": "execute_result"
    }
   ],
   "source": [
    "data.isnull().sum()*100/len(data)"
   ]
  },
  {
   "cell_type": "markdown",
   "metadata": {},
   "source": [
    "Пропуски присутствуют в столбцах `name`, `year_of_release`, `genre`, `critic_score`, `user_score`, `rating`. Попробуем обработать их.\n",
    "\n",
    "Но для начала посмотрим, какие значения записаны в столбце `name`. Важно, чтобы названия игр в этом столбце были записаны правильно без лишних символов, так как он очень сильно поможет в заполнении пропусков в дальнейшем."
   ]
  },
  {
   "cell_type": "code",
   "execution_count": 10,
   "metadata": {},
   "outputs": [
    {
     "name": "stdout",
     "output_type": "stream",
     "text": [
      "[' Beyblade Burst' ' Fire Emblem Fates' \" Frozen: Olaf's Quest\"\n",
      " ' Haikyu!! Cross Team Match!' ' Tales of Xillia 2' \"'98 Koshien\"\n",
      " '.hack//G.U. Vol.1//Rebirth' '.hack//G.U. Vol.2//Reminisce'\n",
      " '.hack//G.U. Vol.2//Reminisce (jp sales)' '.hack//G.U. Vol.3//Redemption'\n",
      " '.hack//Infection Part 1' '.hack//Link' '.hack//Mutation Part 2'\n",
      " '.hack//Outbreak Part 3' '.hack//Quarantine Part 4: The Final Chapter'\n",
      " '.hack: Sekai no Mukou ni + Versus' '007 Racing' '007: Quantum of Solace'\n",
      " '007: The World is not Enough' '007: Tomorrow Never Dies']\n",
      "['ef - a fairy tale of the two.' 'everGirl'\n",
      " 'futureU: The Prep Game for SAT' 'htoL#NiQ: The Firefly Diary' 'iCarly'\n",
      " 'iCarly 2: iJoin The Click!' 'inFAMOUS' 'inFAMOUS 2'\n",
      " 'inFAMOUS: Second Son' \"nail'd\" 'pro evolution soccer 2011'\n",
      " 'th!nk Logic Trainer' 'thinkSMART' 'thinkSMART FAMILY!'\n",
      " 'thinkSMART: Chess for Kids' 'uDraw Studio'\n",
      " 'uDraw Studio: Instant Artist' 'wwe Smackdown vs. Raw 2006'\n",
      " '¡Shin Chan Flipa en colores!' nan]\n"
     ]
    }
   ],
   "source": [
    "# сортируем, чтобы отобразить начало и конец возможных значений\n",
    "print(data['name'].sort_values().unique()[:20])\n",
    "print(data['name'].sort_values().unique()[-20:])"
   ]
  },
  {
   "cell_type": "markdown",
   "metadata": {},
   "source": [
    "Названия некоторых игр начинаются с пробела. Уберем его из начала названий, чтобы не искажать дальнейший анализ."
   ]
  },
  {
   "cell_type": "code",
   "execution_count": 11,
   "metadata": {},
   "outputs": [],
   "source": [
    "data['name'] = data['name'].str.lstrip()"
   ]
  },
  {
   "cell_type": "markdown",
   "metadata": {},
   "source": [
    "С остальными значениями, кажется, все в порядке. Названия игр могут начинаться с маленьких букв или некоторых символов (например, с точки)."
   ]
  },
  {
   "cell_type": "markdown",
   "metadata": {},
   "source": [
    "#### Заполнение пропусков в названиях игр и жанрах"
   ]
  },
  {
   "cell_type": "markdown",
   "metadata": {},
   "source": [
    "Посмотрим данные в строках с пустыми названиями игр."
   ]
  },
  {
   "cell_type": "code",
   "execution_count": 12,
   "metadata": {},
   "outputs": [
    {
     "data": {
      "text/html": [
       "<div>\n",
       "<style scoped>\n",
       "    .dataframe tbody tr th:only-of-type {\n",
       "        vertical-align: middle;\n",
       "    }\n",
       "\n",
       "    .dataframe tbody tr th {\n",
       "        vertical-align: top;\n",
       "    }\n",
       "\n",
       "    .dataframe thead th {\n",
       "        text-align: right;\n",
       "    }\n",
       "</style>\n",
       "<table border=\"1\" class=\"dataframe\">\n",
       "  <thead>\n",
       "    <tr style=\"text-align: right;\">\n",
       "      <th></th>\n",
       "      <th>name</th>\n",
       "      <th>platform</th>\n",
       "      <th>year_of_release</th>\n",
       "      <th>genre</th>\n",
       "      <th>na_sales</th>\n",
       "      <th>eu_sales</th>\n",
       "      <th>jp_sales</th>\n",
       "      <th>other_sales</th>\n",
       "      <th>critic_score</th>\n",
       "      <th>user_score</th>\n",
       "      <th>rating</th>\n",
       "    </tr>\n",
       "  </thead>\n",
       "  <tbody>\n",
       "    <tr>\n",
       "      <th>659</th>\n",
       "      <td>NaN</td>\n",
       "      <td>GEN</td>\n",
       "      <td>1993.0</td>\n",
       "      <td>NaN</td>\n",
       "      <td>1.780273</td>\n",
       "      <td>0.529785</td>\n",
       "      <td>0.000000</td>\n",
       "      <td>0.080017</td>\n",
       "      <td>NaN</td>\n",
       "      <td>NaN</td>\n",
       "      <td>NaN</td>\n",
       "    </tr>\n",
       "    <tr>\n",
       "      <th>14244</th>\n",
       "      <td>NaN</td>\n",
       "      <td>GEN</td>\n",
       "      <td>1993.0</td>\n",
       "      <td>NaN</td>\n",
       "      <td>0.000000</td>\n",
       "      <td>0.000000</td>\n",
       "      <td>0.029999</td>\n",
       "      <td>0.000000</td>\n",
       "      <td>NaN</td>\n",
       "      <td>NaN</td>\n",
       "      <td>NaN</td>\n",
       "    </tr>\n",
       "  </tbody>\n",
       "</table>\n",
       "</div>"
      ],
      "text/plain": [
       "      name platform  year_of_release genre  na_sales  eu_sales  jp_sales  \\\n",
       "659    NaN      GEN           1993.0   NaN  1.780273  0.529785  0.000000   \n",
       "14244  NaN      GEN           1993.0   NaN  0.000000  0.000000  0.029999   \n",
       "\n",
       "       other_sales  critic_score  user_score rating  \n",
       "659       0.080017           NaN         NaN    NaN  \n",
       "14244     0.000000           NaN         NaN    NaN  "
      ]
     },
     "execution_count": 12,
     "metadata": {},
     "output_type": "execute_result"
    }
   ],
   "source": [
    "data[data['name'].isna()]"
   ]
  },
  {
   "cell_type": "markdown",
   "metadata": {},
   "source": [
    "В строках без названий игры также отсутствует жанр, оценка критиков, оценка пользователей и рейтинг. Пропуски в данных значениях мы вряд ли сможем адекватно заполнить. Предлагаю удалить эти строки. Они занимают около 0.01% от всей выборки, поэтому на анализе это не должно сказаться."
   ]
  },
  {
   "cell_type": "code",
   "execution_count": 13,
   "metadata": {},
   "outputs": [],
   "source": [
    "data = data.dropna(subset=['name', 'genre'])"
   ]
  },
  {
   "cell_type": "markdown",
   "metadata": {},
   "source": [
    "#### Заполнение пропусков в годах выпуска"
   ]
  },
  {
   "cell_type": "markdown",
   "metadata": {},
   "source": [
    "Пропущенные значения в столбце `year_of_release` можно заполнить по году выпуска этой же игры на других платформах. Некоторые игры могли портировать на другие платформы в разные годы. Поэтому предлагаю ориентироваться на последний год выпуска игры из всех имеющихся платформ, если таких будет несколько."
   ]
  },
  {
   "cell_type": "code",
   "execution_count": 14,
   "metadata": {},
   "outputs": [],
   "source": [
    "def fill_year_by_name(row):\n",
    "    '''\n",
    "    фунция принимает: строку из датасета\n",
    "    функция возвращает: максимальный год выпуска у игр с таким же названием, либо пропуск, если игры не найдены\n",
    "    '''\n",
    "    # генерируем Series с известными годами выпуска игры с одинаковым названием\n",
    "    # и получаем из него последний год выпуска\n",
    "    return data[data['name'] == row['name']]['year_of_release'].dropna().max()\n",
    "\n",
    "# заполняем год выпуска по макисмальному у игр с таким же названием на других платформах\n",
    "data.loc[\n",
    "    data['year_of_release'].isna(), 'year_of_release'\n",
    "] = data.loc[data['year_of_release'].isna()].apply(fill_year_by_name, axis=1)"
   ]
  },
  {
   "cell_type": "markdown",
   "metadata": {},
   "source": [
    "Проверим, остались ли еще пропуски, и какие названия игр они содержат."
   ]
  },
  {
   "cell_type": "code",
   "execution_count": 15,
   "metadata": {},
   "outputs": [
    {
     "data": {
      "text/plain": [
       "array(['Action Man-Operation Extreme', 'Advance Wars: Days of Ruin',\n",
       "       'Adventure', 'Agarest Senki: Re-appearance', 'Air-Sea Battle',\n",
       "       'Alex Rider: Stormbreaker', 'All-Star Baseball 2005',\n",
       "       'Alone in the Dark: The New Nightmare',\n",
       "       'Atsumare! Power Pro Kun no DS Koushien',\n",
       "       'B.L.U.E.: Legend of Water', 'Backbreaker', 'Beyond the Labyrinth',\n",
       "       'Big Beach Sports 2', 'Bikkuriman Daijiten', 'Breakaway IV',\n",
       "       'Build-A-Bear Workshop: Friendship Valley',\n",
       "       'Charm Girls Club: My Fashion Mall',\n",
       "       'Charm Girls Club: My Fashion Show', 'Chou Soujuu Mecha MG',\n",
       "       'Circus Atari', 'Clockwork Empires', 'Combat',\n",
       "       'Combat Elite: WWII Paratroopers',\n",
       "       'Combat Wings: The Great Battles of WWII',\n",
       "       \"Cubix Robots for Everyone: Clash 'n' Bash\",\n",
       "       'DanceDanceRevolution II', 'Demon Chaos',\n",
       "       'Disgaea 3: Absence of Detention',\n",
       "       \"Disney's Cinderella: Magical Dreams\", 'Donkey Kong Land III',\n",
       "       'Dragon Ball Z: Budokai Tenkaichi 2 (JP sales)', 'Dragster',\n",
       "       'Drake of the 99 Dragons', 'Dream Dancer', 'Dream Trigger 3D',\n",
       "       'Drill Dozer', 'Egg Monster Hero', 'Face Racers: Photo Finish',\n",
       "       'Famista 64', 'Ferrari: The Race Experience', 'Fishing Derby',\n",
       "       'Flag Capture', \"Flip's Twisted World\", 'Football Manager 2007',\n",
       "       \"Frogger's Adventures: Temple of the Frog\",\n",
       "       'Fullmetal Alchemist: Brotherhood', 'Ghostbusters II', 'GiFTPiA',\n",
       "       'Hakuouki: Shinsengumi Kitan', 'Half-Minute Hero 2', 'Hangman',\n",
       "       'Harvest Moon: Save the Homeland', 'Haven: Call of the King',\n",
       "       'Home Run', 'Homeworld Remastered Collection', 'Housekeeping',\n",
       "       'Indy 500', 'Jet Impulse', 'Jet X20',\n",
       "       'Jewel Link Chronicles: Mountains of Madness',\n",
       "       'Jurassic Park: The Game', 'Karate', 'Legacy of Kain: Soul Reaver',\n",
       "       'Legacy of Ys: Books I & II', 'Luminous Arc 2 (JP sales)',\n",
       "       \"Maze Craze: A Game of Cops 'n Robbers\",\n",
       "       \"McFarlane's Evil Prophecy\",\n",
       "       'Mega Man Battle Network: Operation Shooting Star',\n",
       "       'Mobile Ops: The One Year War', 'Monster Hunter 2',\n",
       "       'Mountain Bike Adrenaline', 'Move Fitness',\n",
       "       'My Healthy Cooking Coach', 'NFL GameDay 2003', 'NHL Slapshot',\n",
       "       'Nintendo Puzzle Collection', 'Otomedius Excellent',\n",
       "       'Our House Party!', 'Payout Poker & Casino', 'Pet Zombies',\n",
       "       'Port Royale 3', 'Prinny: Can I Really Be The Hero? (US sales)',\n",
       "       'Reader Rabbit 2nd Grade', \"Robert Ludlum's The Bourne Conspiracy\",\n",
       "       'Rock Band', 'Sabre Wulf', 'Saint',\n",
       "       'Samurai Spirits: Tenkaichi Kenkakuden',\n",
       "       'Saru! Get You! Million Monkeys', 'Sega Rally 2006',\n",
       "       \"Shonen Jump's Yu-Gi-Oh! GX Card Almanac\", 'Shorts',\n",
       "       'Silent Hill: Homecoming', 'Slot Machine', 'Steal Princess',\n",
       "       'Suikoden III', 'Super Breakout', 'Super Duper Sumos',\n",
       "       'Super Puzzle Fighter II',\n",
       "       'Super Robot Wars OG Saga: Masou Kishin II - Revelation of Evil God',\n",
       "       'Sword of the Samurai', 'Swords', 'TERA', 'Test Drive Unlimited 2',\n",
       "       'The Chronicles of Riddick: Escape from Butcher Bay',\n",
       "       'The Daring Game for Girls',\n",
       "       'The Dukes of Hazzard II: Daisy Dukes It Out', 'The Hidden',\n",
       "       'The King of Fighters: Maximum Impact - Maniax',\n",
       "       'The Legend of Zelda: The Minish Cap(weekly JP sales)',\n",
       "       \"Tom Clancy's Rainbow Six: Critical Hour\", 'Tornado',\n",
       "       'Tour de France 2011', 'Trauma Team', 'Tribes: Aerial Assault',\n",
       "       'Triple Play 99', 'Tube Slider', 'Twisted Metal: Small Brawl',\n",
       "       'Umineko no Naku Koro ni San: Shinjitsu to Gensou no Yasoukyoku',\n",
       "       'Unreal Championship 2: The Liandri Conflict',\n",
       "       'Valkyria Chronicles III: Unrecorded Chronicles', 'Vegas Party',\n",
       "       'Virtua Quest', 'WarioWare: Twisted!',\n",
       "       'Wii de Asobu: Metroid Prime',\n",
       "       'Writing and Speaking Beautiful Japanese DS', 'Yakuza 4',\n",
       "       'Yoostar on MTV', 'Yu Yu Hakusho: Dark Tournament',\n",
       "       \"Yu-Gi-Oh! 5D's Wheelie Breakers (JP sales)\",\n",
       "       'Zero: Tsukihami no Kamen', 'eJay Clubworld',\n",
       "       'wwe Smackdown vs. Raw 2006'], dtype=object)"
      ]
     },
     "execution_count": 15,
     "metadata": {},
     "output_type": "execute_result"
    }
   ],
   "source": [
    "# сортируем по алфавиту для удобства\n",
    "data[data['year_of_release'].isna()]['name'].sort_values().unique()"
   ]
  },
  {
   "cell_type": "markdown",
   "metadata": {},
   "source": [
    "В оставшемся списке есть несколько игр с годом в конце названия, например `wwe Smackdown vs. Raw 2006` или `Triple Play 99`. Чаще всего такие игры выпускают годом ранее. Заполним пропуски в годах выпуска подобных игр, уменьшив год в их названии на 1."
   ]
  },
  {
   "cell_type": "code",
   "execution_count": 16,
   "metadata": {},
   "outputs": [],
   "source": [
    "def fill_year_by_year_in_name(row):\n",
    "    '''\n",
    "    функция принимает: строку из датасета\n",
    "    функция возвращает: предыдущий год выпуска перед годом в названии игры, либо текущее значение, если год отсутствует в названии\n",
    "    '''\n",
    "    # если в конце названия присутствует год, прописанный целиком, то заполним год выпуска этим годом минус 1\n",
    "    if row['name'][-4:].isdigit():\n",
    "        return int(row['name'][-4:]) - 1\n",
    "    # если в конце присутствует год, прописанный только 2 цифрами и относится к 1990-м годам, то заполним им - 1\n",
    "    if row['name'][-2:].isdigit():\n",
    "        if int(row['name'][-2:]) >= 90:\n",
    "            return int(row['name'][-2:]) + 1900 - 1\n",
    "    # если года в названии нет, то ничего не меняем\n",
    "    return row['year_of_release']\n",
    "\n",
    "# отправляем в функцию только игры с 2 цифрами на конце\n",
    "data.loc[\n",
    "    (data['year_of_release'].isna()) & (data['name'][-2:].str.isdigit()), 'year_of_release'\n",
    "] = data.loc[\n",
    "    (data['year_of_release'].isna()) & (data['name'][-2:].str.isdigit())\n",
    "].apply(fill_year_by_year_in_name, axis=1)"
   ]
  },
  {
   "cell_type": "markdown",
   "metadata": {},
   "source": [
    "В списке есть несколько версий игр, выпущенных для определенных стран, например `Dragon Ball Z: Budokai Tenkaichi 2 (JP sales)`. Заполним пропуски для них годом выпуска глобальной версии игры с таким же названием (без указания версии в скобках, например `(JP sales)`) на такой же платформе, если она есть."
   ]
  },
  {
   "cell_type": "code",
   "execution_count": 17,
   "metadata": {},
   "outputs": [],
   "source": [
    "def fill_year_by_other_countries(row):\n",
    "    '''\n",
    "    функция принимает: строку из датасета\n",
    "    функция возвращает: год выпуска игр с таким же названием без указания страны, либо пропуск, если другие игры не найдены\n",
    "    '''\n",
    "    # запомнили проверяемое название игры, чтобы удобнее читать формулу ниже\n",
    "    check_name = row['name'][:(row['name'].find('(')-1)]\n",
    "    # присваиваем последний год выпуска игры с одинаковым названием без скобок и на одинаковой платформе\n",
    "    return data[\n",
    "        (data['name'].str.startswith(check_name)) & \n",
    "        ~(data['name'].str.endswith(')')) & \n",
    "        (data['platform'] == row['platform'])\n",
    "    ]['year_of_release'].max()\n",
    "\n",
    "# отправляем в функцию только игры со скобками в названии\n",
    "data.loc[\n",
    "    (data['year_of_release'].isna()) & (data['name'].str.endswith(')')), 'year_of_release'\n",
    "] = data.loc[\n",
    "    (data['year_of_release'].isna()) & (data['name'].str.endswith(')'))\n",
    "].apply(fill_year_by_other_countries, axis=1)"
   ]
  },
  {
   "cell_type": "markdown",
   "metadata": {},
   "source": [
    "В списке есть определенные части игры, например `Yakuza 4`. Части игры выпускаются по порядку. Поэтому, например, если известны годы выпуска 3 и 5 частей игры, то можно предположить, что 4 часть была выпущена в один из годов между ними. Заполним пропуски для таких игр средним годом выпуска между ближайшими частями. Платформу здесь учитывать не будем, так как некоторые новые части игры могли выпускаться на другой более популярной в определенный год платформе."
   ]
  },
  {
   "cell_type": "code",
   "execution_count": 18,
   "metadata": {},
   "outputs": [],
   "source": [
    "def get_check_list(check_name):\n",
    "    '''\n",
    "    функция принимает: проверяемое название серии игры\n",
    "    функция возвращает: список полных названий всех частей проверяемой игры\n",
    "    '''\n",
    "    return data[data['name'].str.startswith(check_name)]['name'].unique()\n",
    "\n",
    "def get_check_name_and_list(part, name):\n",
    "    '''\n",
    "    функция принимает: часть и название игры\n",
    "    функция возвращает: проверяемое название серии игры, список полных названий всех ее частей\n",
    "    '''\n",
    "    check_name = name.partition(part)[0][:-1]\n",
    "    return check_name, get_check_list(check_name)\n",
    "\n",
    "def get_prev_and_last_part_name(part, name):\n",
    "    '''\n",
    "    функция принимает: часть и название игры\n",
    "    функция возвращает: полные названия предыдыщей и следующей частей игры\n",
    "    '''\n",
    "    # запомним проверяемое название серии игры и список полных названий всех ее частей\n",
    "    check_name, check_list = get_check_name_and_list(part, name)\n",
    "    \n",
    "    # сначала запоминаем короткое название ближайших частей без доп. описания\n",
    "    \n",
    "    # если часть вторая, то названием предыдущей части считаем название без номера\n",
    "    if (part == '2') or (part == 'II'):\n",
    "        prev_part = check_name\n",
    "    # если часть описана числом, то название предыдущей части будет с номером на 1 меньше\n",
    "    elif part.isdigit():\n",
    "        prev_part = check_name + ' ' + str(int(part)-1)\n",
    "    # если часть прописана римской цифрой III, то название предыдущей части будет с римской II\n",
    "    else:\n",
    "        prev_part = check_name + ' II'\n",
    "    \n",
    "    # если номер части числовой, то название следующей части будет с номером на 1 больше\n",
    "    if part.isdigit():\n",
    "        last_part = check_name + ' ' + str(int(part)+1)\n",
    "    # если часть прописана римской цифрой II, то название следующей будет с римской III\n",
    "    elif part == 'II':\n",
    "        last_part = check_name + ' III'\n",
    "    # если часть прописана римской цифрой III, то название следующей будет с римской IV\n",
    "    else:\n",
    "        last_part = check_name + ' IV'\n",
    "\n",
    "    # если не найдем названия ближайших частей, то они будут пустыми\n",
    "    prev_part_name = None\n",
    "    last_part_name = None\n",
    "\n",
    "    # ищем в списке названий ближайшие части, если находим, то запоминаем полное название игры\n",
    "    for name in check_list:\n",
    "        if (\n",
    "            # если предыдущая часть первая\n",
    "            (prev_part == check_name) and (name == prev_part)\n",
    "        ) or (\n",
    "            # если предыдущая часть 2 и больше\n",
    "            (prev_part != check_name) and (name.startswith(prev_part))\n",
    "        ):\n",
    "            prev_part_name = name                    \n",
    "        if name.startswith(last_part):\n",
    "            last_part_name = name\n",
    "            \n",
    "    return prev_part_name, last_part_name\n",
    "\n",
    "def fill_year_by_other_parts(row, parts):\n",
    "    '''\n",
    "    функуия принимает: строку датасета и список возможных частей игр\n",
    "    функция возвращает: год выпуска между ближайшими частями одной серии, или пропуск, если другие игры не найдены\n",
    "    '''\n",
    "    for part in parts:\n",
    "        # если в названии игры есть проверяемый номер части\n",
    "        if part in row['name']:\n",
    "            # запомнили полные названия ближайших частей игры (предыдущая и следующая)\n",
    "            prev_part_name, last_part_name = get_prev_and_last_part_name(part, row['name'])\n",
    "            \n",
    "            # если ближайшие части игры есть в датасете, то получаем средний год между ними\n",
    "            if (prev_part_name is not None) and (last_part_name is not None):\n",
    "                # запоминаем годы выпуска ближайших частей\n",
    "                prev_year = data[data['name'] == prev_part_name]['year_of_release'].max()\n",
    "                last_year = data[data['name'] == last_part_name]['year_of_release'].max()\n",
    "                \n",
    "                # если у ближайших частей есть год выпуска, то считаем средний между ними\n",
    "                if (prev_year == prev_year) and (last_year == last_year):\n",
    "                    # округляем, так как средний год может получиться не целым\n",
    "                    return np.round( (prev_year + last_year) / 2)\n",
    "            \n",
    "            # прерываем цикл для ускорения, так как название не будет содержать других частей\n",
    "            break\n",
    "    return row['year_of_release']\n",
    "       \n",
    "# передаем в функцию встречающиеся части игр в пропущенных значениях\n",
    "data.loc[\n",
    "    data['year_of_release'].isna(), 'year_of_release'\n",
    "] = data.loc[\n",
    "    data['year_of_release'].isna()\n",
    "].apply(fill_year_by_other_parts, axis=1, parts=['2', '3', '4', 'III', 'II'])"
   ]
  },
  {
   "cell_type": "markdown",
   "metadata": {},
   "source": [
    "Посмотрим, остались ли пропуски в годах выпуска игр, и сколько они занимают процентов от всего датасета."
   ]
  },
  {
   "cell_type": "code",
   "execution_count": 19,
   "metadata": {},
   "outputs": [
    {
     "data": {
      "text/plain": [
       "0.8316879076168252"
      ]
     },
     "execution_count": 19,
     "metadata": {},
     "output_type": "execute_result"
    }
   ],
   "source": [
    "data['year_of_release'].isna().sum()*100/len(data)"
   ]
  },
  {
   "cell_type": "markdown",
   "metadata": {},
   "source": [
    "Пропуски еще есть, но заполнить их больше никак не можем. Так как их осталось меньше 1% от всего датасета, то предлагаю удалить их для экономии времени в дальнейшем анализе."
   ]
  },
  {
   "cell_type": "code",
   "execution_count": 20,
   "metadata": {},
   "outputs": [],
   "source": [
    "data = data.dropna(subset=['year_of_release'])"
   ]
  },
  {
   "cell_type": "markdown",
   "metadata": {},
   "source": [
    "#### Заполнение пропусков в оценках критиков и пользователей"
   ]
  },
  {
   "cell_type": "markdown",
   "metadata": {},
   "source": [
    "Пропущенные значения в оценках можем заполнить медианными оценками для этой же игры на других платформах. "
   ]
  },
  {
   "cell_type": "code",
   "execution_count": 21,
   "metadata": {},
   "outputs": [],
   "source": [
    "def fill_score_by_name(row, score_type):\n",
    "    '''\n",
    "    функция принимает: строку датасета и название столбца с оценкой\n",
    "    функция возвращает: медианная оценка этой же игры на других платформах\n",
    "    '''\n",
    "    return data.loc[data['name'] == row['name'], score_type].dropna().median()\n",
    "\n",
    "# запоминаем список из обрабатываемых столбцов для удобства\n",
    "score_types = ['critic_score', 'user_score']\n",
    "\n",
    "# заполняем пропуски в каждом столбце с оценками\n",
    "for score_type in score_types:\n",
    "    data.loc[\n",
    "        data[score_type].isna(), score_type\n",
    "    ] = data.loc[data[score_type].isna()].apply(fill_score_by_name, axis=1, score_type=score_type)"
   ]
  },
  {
   "cell_type": "markdown",
   "metadata": {},
   "source": [
    "Пропуски в оценках остальных игр можем заполнить по медианной оценке игр такого же жанра на такой же платформе."
   ]
  },
  {
   "cell_type": "code",
   "execution_count": 22,
   "metadata": {},
   "outputs": [],
   "source": [
    "def fill_score_by_median_score(row, score_type, score_pivot_table):\n",
    "    '''\n",
    "    функция принимает: строка датасета, название столбца с оценкой, таблица с медианными оценками игр разных платформ и жанров\n",
    "    функция возвращает: медианная оценка игр такого же жанра и платформы, либо пропуск, если оценки не найдены\n",
    "    '''\n",
    "    # конструкция try для обработки игр с отсутствующими оценками у игр такого же жанра и платформы\n",
    "    # для них возвращаем текущее значение\n",
    "    try:\n",
    "        return score_pivot_table[score_type][row['genre']][row['platform']]\n",
    "    except:\n",
    "        return row[score_type]\n",
    "\n",
    "# заполняем пропуски в каждом столбце с оценками\n",
    "for score_type in score_types:\n",
    "    # формируем сводную таблицу с медианными оценками игр разных жанров и платформ\n",
    "    score_pivot_table = data.pivot_table(index=['genre', 'platform'], values=score_type, aggfunc='median')\n",
    "    # заполняем пропуски в датасете\n",
    "    data.loc[\n",
    "        data[score_type].isna(), score_type\n",
    "    ] = data.loc[data[score_type].isna()].apply(\n",
    "        fill_score_by_median_score, axis=1, score_type=score_type, score_pivot_table=score_pivot_table\n",
    "    )"
   ]
  },
  {
   "cell_type": "markdown",
   "metadata": {},
   "source": [
    "Пропуски в оценках оставшихся игр можем заполнить по медианной оценке игр такого же жанра."
   ]
  },
  {
   "cell_type": "code",
   "execution_count": 23,
   "metadata": {},
   "outputs": [],
   "source": [
    "# заполняем пропуски в каждом столбце с оценками\n",
    "for score_type in score_types:\n",
    "    for genre in data['genre'].unique():\n",
    "        data.loc[\n",
    "            data['genre'] == genre, score_type\n",
    "        ] = data.loc[data['genre'] == genre][score_type].median()"
   ]
  },
  {
   "cell_type": "markdown",
   "metadata": {},
   "source": [
    "Все пропуски в оценках пользователей и критиков были заполнены. Но так как пропусков было доволько много (примерно 51-55% от всего датасета), то данные могли исказиться. Стоит учитывать это в дальнейшем анализе."
   ]
  },
  {
   "cell_type": "markdown",
   "metadata": {},
   "source": [
    "#### Заполнение пропусков в рейтинге от ESRB"
   ]
  },
  {
   "cell_type": "markdown",
   "metadata": {},
   "source": [
    "Пропущенные значения в столбце `rating` можно заполнить по рейтингу этой же игры на других платформах. Если на разных платформах игре присваивали разные возрастные рейтинги, то заполним по самому часто встречающемуся из них. Если найдется одинаковое количество часто встреющихся рейтингов, то заполним по самому высокому из них.\n",
    "\n",
    "Так как ESRB оценивает игры, которые выпускаются в США и Канаде, то пропущенные значения в играх, которые не продавались в Северной Америке, можем не заполнять."
   ]
  },
  {
   "cell_type": "code",
   "execution_count": 24,
   "metadata": {},
   "outputs": [],
   "source": [
    "def get_rating_by_check_data(value, check_data):\n",
    "    '''\n",
    "    функция принимает: текущее значение рейтинга и проверяемый датасет\n",
    "    функция возвращает: часто встречающийся рейтинг этой же игры на других платформах, либо пропуск, если другие игры не найдены\n",
    "    '''\n",
    "    # запоминаем количество разных рейтингов, которые присваивали всем анализируемым играм\n",
    "    # группируем по убыванию\n",
    "    rating_data = check_data.groupby('rating')['rating'].count().sort_values(ascending=False)\n",
    "    \n",
    "    # если не нашли ни одного рейтинга, то сразу возвращаем текущее значение, для ускорения функции\n",
    "    if len(rating_data.index)==0:\n",
    "        return value\n",
    "    # если нашли только 1 значение рейтинга, то присваиваем его\n",
    "    elif len(rating_data.index)==1:\n",
    "        return rating_data.index[0]\n",
    "\n",
    "    # если рейтингов было несколько, то анализируем их\n",
    "\n",
    "    # если есть только 1 часто встречающийся рейтинг, то присваиваем его\n",
    "    if rating_data[0] > rating_data[1]:\n",
    "        return rating_data.index[0]\n",
    "        \n",
    "    # если есть одинаковое количество нескольких часто встреющихся рейтингов, то собираем их список\n",
    "    # первый элемент сразу запоминаем, и далее считаем со второго\n",
    "    rating_list = [rating_data.index[0]]\n",
    "    for index in range(1, len(rating_data.index)):\n",
    "        # запоминаем все одинаково встречающиеся рейтинги с топовым\n",
    "        if rating_data[0] == rating_data[index]:\n",
    "            rating_list.append(rating_data.index[index])\n",
    "        # если следующие рейтинги меньше, то прерываем цикл для ускорения\n",
    "        else:\n",
    "            break\n",
    "\n",
    "    # перебираем рейтинги по убыванию возраста, и присваиваем самый высокий из имеющихся\n",
    "    for rating_type in RATING_TYPES:\n",
    "        if rating_type in rating_list:\n",
    "            return rating_type\n",
    "        \n",
    "    # оставляем возврат текущего значения на случай, если строки выше ничего не вернули\n",
    "    return value\n",
    "\n",
    "def fill_rating_by_name(row):\n",
    "    '''\n",
    "    функция принимает: строку датасета\n",
    "    функция возвращает: часто встречающийся рейтинг этой же игры на других платформах, либо пропуск, если другие игры не найдены\n",
    "    '''\n",
    "    return get_rating_by_check_data(row['rating'], data[data['name'] == row['name']])\n",
    "    \n",
    "# заполняем пропуски в рейтингах\n",
    "data.loc[\n",
    "    (data['rating'].isna()) & (data['na_sales']>0), 'rating'\n",
    "] = data.loc[\n",
    "    (data['rating'].isna()) & (data['na_sales']>0)\n",
    "].apply(fill_rating_by_name, axis=1)"
   ]
  },
  {
   "cell_type": "markdown",
   "metadata": {},
   "source": [
    "В датасете присутствуют разные части игр. Можем заполнить пропущенные значения в столбце `rating` по часто встречающемуся возрастному рейтингу у других игр одной серии. Разные части одной игры могут содержать уникальные имена после символа `:`, или иметь номер или год в названии. Также в названии игры в круглых скобках могут указываться отдельные версии для определенных рынков (например, `(jp sales)`)."
   ]
  },
  {
   "cell_type": "code",
   "execution_count": 25,
   "metadata": {},
   "outputs": [],
   "source": [
    "def get_rating_by_check_list(value, check_list):\n",
    "    '''\n",
    "    функция принимает: значение рейтинга игры и список всех игр из ее серии\n",
    "    функция возвращает: часто встречающийся рейтинг игр этой серии, либо пропуск, если другие игры не найдены\n",
    "    '''\n",
    "    return get_rating_by_check_data(value, data[data['name'].isin(check_list)])\n",
    "\n",
    "def fill_rating_by_other_parts(row, parts):\n",
    "    '''\n",
    "    функция принимает: строку датасета и список проверяемых символов в названии игры для определения серии\n",
    "    функция возвращает: часто встречающийся рейтинг игр этой серии, либо пропуск, если другие игры не найдены\n",
    "    '''\n",
    "    # сначала проверяем наличие года в конце названия игры\n",
    "    if row['name'][-4:].isdigit():\n",
    "        check_name = row['name'][:-5]\n",
    "        # если название состоит не только из 4 цифр, то проверяем его\n",
    "        if len(check_name) > 0:\n",
    "            return get_rating_by_check_list(row['rating'], get_check_list(check_name))\n",
    "    elif row['name'][-2:].isdigit():\n",
    "        check_name = row['name'][:-3]\n",
    "        return get_rating_by_check_list(row['rating'], get_check_list(check_name))\n",
    "\n",
    "    # проверяем наличие символов нумерации или отделения части игры\n",
    "    for part in parts:\n",
    "        if part in row['name']:\n",
    "            # запомнили проверяемое название серии игры и список полных названий всех ее частей\n",
    "            check_name, check_list = get_check_name_and_list(part, row['name'])\n",
    "            # если проверяемое название слишком короткое, то пропускаем его (на случай попадания не в нумерацию серии)\n",
    "            if len(check_name) < 2:\n",
    "                return row['rating']\n",
    "            return get_rating_by_check_list(row['rating'], check_list)\n",
    "        \n",
    "    # возвращаем текущее значение рейтинга, если других частей не нашли\n",
    "    return row['rating']\n",
    "\n",
    "# передаем в списке\n",
    "# - цифры от 2 до 9, тк первая часть не нумеруется\n",
    "# - римскую цифру II (для проверки игр с II и III в названии)\n",
    "# - римскую цифру IV\n",
    "# - римскую цифру VI (для проверки игр с VI, VII и VIII в названии)\n",
    "# римские цифры V и X не включены, тк эти символы могут часто встречаться в роли начала слова, а не номера части игры\n",
    "# римская цифра IX не включена, тк таких игр нет\n",
    "# - символ \":\", тк некоторые части игр могут им разделяться\n",
    "# - символ \"(\", тк некоторые части игр могли издаваться отдельно для некоторых рынков\n",
    "data.loc[\n",
    "    (data['rating'].isna()) & (data['na_sales']>0), 'rating'\n",
    "] = data.loc[\n",
    "    (data['rating'].isna()) & (data['na_sales']>0)\n",
    "].apply(fill_rating_by_other_parts, axis=1, parts=[\n",
    "    '2', '3', '4', '5', '6', '7', '8', '9', 'II', 'IV', 'VI', ':', '('\n",
    "])"
   ]
  },
  {
   "cell_type": "markdown",
   "metadata": {},
   "source": [
    "Пропуски в остальных строках можем заполнить по часто встречающемуся возрастному рейтингу у игр такого же жанра."
   ]
  },
  {
   "cell_type": "code",
   "execution_count": 26,
   "metadata": {},
   "outputs": [],
   "source": [
    "for genre in data['genre'].unique():\n",
    "    # значением по умолчанию задаем NaN, на случай, если не найдем рейтингов у анализируемого жанра\n",
    "    data.loc[\n",
    "        (data['rating'].isna()) & (data['na_sales']>0) & (data['genre'] == genre), 'rating'\n",
    "    ] = get_rating_by_check_data(np.nan, data[data['genre'] == genre])"
   ]
  },
  {
   "cell_type": "markdown",
   "metadata": {},
   "source": [
    "Пропуски в рейтингах для игр, которые не выпускались в Северной Америке, можем заменить на значение `no rating`. Такие пропуски могут носить полезную информацию, например, у игр, выпускаемых для локальных рынков."
   ]
  },
  {
   "cell_type": "code",
   "execution_count": 27,
   "metadata": {},
   "outputs": [],
   "source": [
    "data.loc[data['rating'].isna(), 'rating'] = 'no rating'"
   ]
  },
  {
   "cell_type": "markdown",
   "metadata": {},
   "source": [
    "#### Итоги заполнения пропусков"
   ]
  },
  {
   "cell_type": "markdown",
   "metadata": {},
   "source": [
    "Проверим процент оставшихся пропусков в каждом столбце."
   ]
  },
  {
   "cell_type": "code",
   "execution_count": 28,
   "metadata": {},
   "outputs": [
    {
     "data": {
      "text/plain": [
       "name               0.0\n",
       "platform           0.0\n",
       "year_of_release    0.0\n",
       "genre              0.0\n",
       "na_sales           0.0\n",
       "eu_sales           0.0\n",
       "jp_sales           0.0\n",
       "other_sales        0.0\n",
       "critic_score       0.0\n",
       "user_score         0.0\n",
       "rating             0.0\n",
       "dtype: float64"
      ]
     },
     "execution_count": 28,
     "metadata": {},
     "output_type": "execute_result"
    }
   ],
   "source": [
    "data.isna().sum()*100/len(data)"
   ]
  },
  {
   "cell_type": "markdown",
   "metadata": {},
   "source": [
    "Вывод:\n",
    "\n",
    "- Большинство пропусков было заполнено на основе предположений и значений похожих игр.\n",
    "- Было найдено 2 строки с пустыми названиями и жанрами игр, выпущенных в 1993 на платформе `GEN`. Возможно, стоит разобраться подробнее, в чем могла быть причина потери данных. Пропуски могли носить полностью случайный характер, например, из-за человеческого фактора в этом году информация была занесена не полностью. Также характер пропусков мог быть неслучайным, например, шрифт названия игры мог быть неподдерживаемым, или ни один из известных жанров не подходил под игру. Так как значения восстановить было невозможно, пришлось удалить их из выборки.\n",
    "- Было пропущено почти 270 значений годов выпуска. Характер пропусков может носить полностью случайный характер, например, также информацию могли не занести в базу данных. Или случайный, например, разработчик мог не указать год издания после выпуска игры.\n",
    "- Строки с оставшимися пропусками в года выпуска были удалены для экономии времени в дальнейшем анализе, так как их осталось меньше 1% от всего датасета.\n",
    "- В столбце с оценками пользователей было проставлено значение `tbd`. Оно было приравнено к пропуску, так как предположительно означает `to be determined` (значения будут объявлены позже).\n",
    "- Остальные пропущенные значения в столбцах с оценками критиков и пользователей могли носить неслучайный характер, например, если игра вообще не была оценена критиками и пользователями на используемом ресурсе.\n",
    "- Все пропуски в оценках пользователей и критиков были заполнены. Но так как пропусков было доволько много (примерно 51-55% от всего датасета), то данные могли исказиться. Стоит учитывать это в дальнейшем анализе.\n",
    "- Так как ESRB оценивает игры, которые выпускаются в США и Канаде, то пропущенные значения в играх, которые не продавались в Северной Америке, не были заполнены."
   ]
  },
  {
   "cell_type": "markdown",
   "metadata": {},
   "source": [
    "### Обработка дубликатов <a id=\"duplicates\">"
   ]
  },
  {
   "cell_type": "markdown",
   "metadata": {},
   "source": [
    "Проверим, если в датасете явные дубликаты."
   ]
  },
  {
   "cell_type": "code",
   "execution_count": 29,
   "metadata": {},
   "outputs": [
    {
     "data": {
      "text/plain": [
       "0"
      ]
     },
     "execution_count": 29,
     "metadata": {},
     "output_type": "execute_result"
    }
   ],
   "source": [
    "data.duplicated().sum()"
   ]
  },
  {
   "cell_type": "markdown",
   "metadata": {},
   "source": [
    "Явных дубликатов в данных нет. \n",
    "\n",
    "При обработке пропусков были заметны игры, которые отдельно публиковались в определенных странах (например, с добавкой `(jp sales)` в названии). Объединить их показатели с аналогичной игрой, опубликованной в другой стране, не можем, так как у игр могут отличаться годы выпуска, оценки критиков или пользователей, возрастной рейтинг. Также сами игры могут отличаться, например, содержать дополнительную цензуру, или уникальные фичи. Поэтому оставим данные как есть."
   ]
  },
  {
   "cell_type": "markdown",
   "metadata": {},
   "source": [
    "### Суммирование продаж во всех регионах <a id=\"all_sales\">"
   ]
  },
  {
   "cell_type": "markdown",
   "metadata": {},
   "source": [
    "Посчитаем суммарные продажи во всех регионах и запишем их в отдельный столбец."
   ]
  },
  {
   "cell_type": "code",
   "execution_count": 30,
   "metadata": {},
   "outputs": [],
   "source": [
    "data['all_sales'] = data['na_sales'] + data['eu_sales'] + data['jp_sales'] + data['other_sales']"
   ]
  },
  {
   "cell_type": "markdown",
   "metadata": {},
   "source": [
    "## Исследовательский анализ данных <a id=\"analysis\">"
   ]
  },
  {
   "cell_type": "markdown",
   "metadata": {},
   "source": [
    "### Анализ количества игр, выпускаемых в разные годы <a id=\"count_by_year\">"
   ]
  },
  {
   "cell_type": "markdown",
   "metadata": {},
   "source": [
    "Для начала посмотрим на разброс данных. Построим диаграмму размаха годов выпуска игр."
   ]
  },
  {
   "cell_type": "code",
   "execution_count": 31,
   "metadata": {},
   "outputs": [
    {
     "data": {
      "image/png": "[encoded data removed]",
      "text/plain": [
       "<Figure size 1080x144 with 1 Axes>"
      ]
     },
     "metadata": {
      "needs_background": "light"
     },
     "output_type": "display_data"
    }
   ],
   "source": [
    "data.boxplot(column='year_of_release', grid=True, figsize=(15, 2), vert=False).set_title('Годы выпуска игр');"
   ]
  },
  {
   "cell_type": "markdown",
   "metadata": {},
   "source": [
    "На графике видим, что до 1993 года выпускалось крайне мало игр, относительно остальной выборки. Эти данные можно отнести к выбросам. Не будем учитывать их при дальнейшем анализе текущего параметра.\n",
    "\n",
    "Построим гистограмму, чтобы проанализировать количество выпускаемых игр в разные годы."
   ]
  },
  {
   "cell_type": "code",
   "execution_count": 32,
   "metadata": {},
   "outputs": [
    {
     "data": {
      "image/png": "[encoded data removed]",
      "text/plain": [
       "<Figure size 432x288 with 1 Axes>"
      ]
     },
     "metadata": {
      "needs_background": "light"
     },
     "output_type": "display_data"
    }
   ],
   "source": [
    "# количество корзин = количество исследуемых годов (1993-2016)\n",
    "data['year_of_release'].hist(bins=24, grid=True, range=(1993, 2017)).set(\n",
    "    xlabel='Годы выпуска', \n",
    "    ylabel='Количество игр, шт', \n",
    "    title='Количество игр, выпускаемых в разные годы');"
   ]
  },
  {
   "cell_type": "markdown",
   "metadata": {},
   "source": [
    "Вывод:\n",
    "\n",
    "- Распределение количества игр в разные годы нормальное.\n",
    "- Большая часть игр была выпущена в 2007-2011 годах. \n",
    "- Пики значений в 2008-2009. Было выпщено около 1450 штук в каждый. В 2008 было чуть больше.\n",
    "- До 2008 года количество игр практически равномерно растет.\n",
    "- После 2010 начинается постепенный спад. А в 2012 году заметно резкое падение количества выпускаемых игр, почти в 1.5 раза, по сравнению с предыдущим годом. Тут могут быть разные причины. Возможно, активность игроков снизилась, и разработчики стали выпускать меньше игр. Возможно, уже выпущенные игры стали дольше поддерживаться на рынке, для них выпускаются новые апдейты вместо новых частей."
   ]
  },
  {
   "cell_type": "markdown",
   "metadata": {},
   "source": [
    "### Анализ количества выпускаемых игр на самых зарабатываемых платформах <a id=\"count_by_platform\">"
   ]
  },
  {
   "cell_type": "markdown",
   "metadata": {},
   "source": [
    "Найдем платформы с наибольшими суммарными продажами. Построим таблицу с рейтингом суммарных продаж на платформах."
   ]
  },
  {
   "cell_type": "code",
   "execution_count": 33,
   "metadata": {},
   "outputs": [
    {
     "data": {
      "text/html": [
       "<style type=\"text/css\">\n",
       "#T_e4cd0_row0_col0 {\n",
       "  background-color: #00441b;\n",
       "  color: #f1f1f1;\n",
       "}\n",
       "#T_e4cd0_row1_col0 {\n",
       "  background-color: #1c8540;\n",
       "  color: #f1f1f1;\n",
       "}\n",
       "#T_e4cd0_row2_col0 {\n",
       "  background-color: #238b45;\n",
       "  color: #f1f1f1;\n",
       "}\n",
       "#T_e4cd0_row3_col0 {\n",
       "  background-color: #29924f;\n",
       "  color: #f1f1f1;\n",
       "}\n",
       "#T_e4cd0_row4_col0 {\n",
       "  background-color: #3ca86d;\n",
       "  color: #f1f1f1;\n",
       "}\n",
       "#T_e4cd0_row5_col0 {\n",
       "  background-color: #4db585;\n",
       "  color: #f1f1f1;\n",
       "}\n",
       "#T_e4cd0_row6_col0, #T_e4cd0_row7_col0 {\n",
       "  background-color: #ccece6;\n",
       "  color: #000000;\n",
       "}\n",
       "#T_e4cd0_row8_col0 {\n",
       "  background-color: #cfede8;\n",
       "  color: #000000;\n",
       "}\n",
       "#T_e4cd0_row9_col0, #T_e4cd0_row10_col0 {\n",
       "  background-color: #d4efec;\n",
       "  color: #000000;\n",
       "}\n",
       "#T_e4cd0_row11_col0, #T_e4cd0_row12_col0 {\n",
       "  background-color: #d5efed;\n",
       "  color: #000000;\n",
       "}\n",
       "#T_e4cd0_row13_col0 {\n",
       "  background-color: #d6f0ee;\n",
       "  color: #000000;\n",
       "}\n",
       "#T_e4cd0_row14_col0 {\n",
       "  background-color: #dbf2f2;\n",
       "  color: #000000;\n",
       "}\n",
       "#T_e4cd0_row15_col0 {\n",
       "  background-color: #def2f4;\n",
       "  color: #000000;\n",
       "}\n",
       "#T_e4cd0_row16_col0 {\n",
       "  background-color: #dff3f4;\n",
       "  color: #000000;\n",
       "}\n",
       "#T_e4cd0_row17_col0 {\n",
       "  background-color: #e5f5f9;\n",
       "  color: #000000;\n",
       "}\n",
       "#T_e4cd0_row18_col0 {\n",
       "  background-color: #edf8fb;\n",
       "  color: #000000;\n",
       "}\n",
       "#T_e4cd0_row19_col0 {\n",
       "  background-color: #eef8fb;\n",
       "  color: #000000;\n",
       "}\n",
       "#T_e4cd0_row20_col0 {\n",
       "  background-color: #f1fafc;\n",
       "  color: #000000;\n",
       "}\n",
       "#T_e4cd0_row21_col0, #T_e4cd0_row22_col0 {\n",
       "  background-color: #f4fbfc;\n",
       "  color: #000000;\n",
       "}\n",
       "#T_e4cd0_row23_col0 {\n",
       "  background-color: #f5fbfd;\n",
       "  color: #000000;\n",
       "}\n",
       "#T_e4cd0_row24_col0, #T_e4cd0_row25_col0, #T_e4cd0_row26_col0, #T_e4cd0_row27_col0, #T_e4cd0_row28_col0, #T_e4cd0_row29_col0, #T_e4cd0_row30_col0 {\n",
       "  background-color: #f7fcfd;\n",
       "  color: #000000;\n",
       "}\n",
       "</style>\n",
       "<table id=\"T_e4cd0\">\n",
       "  <thead>\n",
       "    <tr>\n",
       "      <th class=\"blank level0\" >&nbsp;</th>\n",
       "      <th id=\"T_e4cd0_level0_col0\" class=\"col_heading level0 col0\" >all_sales</th>\n",
       "    </tr>\n",
       "    <tr>\n",
       "      <th class=\"index_name level0\" >platform</th>\n",
       "      <th class=\"blank col0\" >&nbsp;</th>\n",
       "    </tr>\n",
       "  </thead>\n",
       "  <tbody>\n",
       "    <tr>\n",
       "      <th id=\"T_e4cd0_level0_row0\" class=\"row_heading level0 row0\" >PS2</th>\n",
       "      <td id=\"T_e4cd0_row0_col0\" class=\"data row0 col0\" >1248.000000</td>\n",
       "    </tr>\n",
       "    <tr>\n",
       "      <th id=\"T_e4cd0_level0_row1\" class=\"row_heading level0 row1\" >X360</th>\n",
       "      <td id=\"T_e4cd0_row1_col0\" class=\"data row1 col0\" >966.500000</td>\n",
       "    </tr>\n",
       "    <tr>\n",
       "      <th id=\"T_e4cd0_level0_row2\" class=\"row_heading level0 row2\" >PS3</th>\n",
       "      <td id=\"T_e4cd0_row2_col0\" class=\"data row2 col0\" >936.000000</td>\n",
       "    </tr>\n",
       "    <tr>\n",
       "      <th id=\"T_e4cd0_level0_row3\" class=\"row_heading level0 row3\" >Wii</th>\n",
       "      <td id=\"T_e4cd0_row3_col0\" class=\"data row3 col0\" >903.500000</td>\n",
       "    </tr>\n",
       "    <tr>\n",
       "      <th id=\"T_e4cd0_level0_row4\" class=\"row_heading level0 row4\" >DS</th>\n",
       "      <td id=\"T_e4cd0_row4_col0\" class=\"data row4 col0\" >804.500000</td>\n",
       "    </tr>\n",
       "    <tr>\n",
       "      <th id=\"T_e4cd0_level0_row5\" class=\"row_heading level0 row5\" >PS</th>\n",
       "      <td id=\"T_e4cd0_row5_col0\" class=\"data row5 col0\" >727.500000</td>\n",
       "    </tr>\n",
       "    <tr>\n",
       "      <th id=\"T_e4cd0_level0_row6\" class=\"row_heading level0 row6\" >PS4</th>\n",
       "      <td id=\"T_e4cd0_row6_col0\" class=\"data row6 col0\" >314.250000</td>\n",
       "    </tr>\n",
       "    <tr>\n",
       "      <th id=\"T_e4cd0_level0_row7\" class=\"row_heading level0 row7\" >GBA</th>\n",
       "      <td id=\"T_e4cd0_row7_col0\" class=\"data row7 col0\" >314.000000</td>\n",
       "    </tr>\n",
       "    <tr>\n",
       "      <th id=\"T_e4cd0_level0_row8\" class=\"row_heading level0 row8\" >PSP</th>\n",
       "      <td id=\"T_e4cd0_row8_col0\" class=\"data row8 col0\" >293.500000</td>\n",
       "    </tr>\n",
       "    <tr>\n",
       "      <th id=\"T_e4cd0_level0_row9\" class=\"row_heading level0 row9\" >PC</th>\n",
       "      <td id=\"T_e4cd0_row9_col0\" class=\"data row9 col0\" >258.750000</td>\n",
       "    </tr>\n",
       "    <tr>\n",
       "      <th id=\"T_e4cd0_level0_row10\" class=\"row_heading level0 row10\" >3DS</th>\n",
       "      <td id=\"T_e4cd0_row10_col0\" class=\"data row10 col0\" >258.500000</td>\n",
       "    </tr>\n",
       "    <tr>\n",
       "      <th id=\"T_e4cd0_level0_row11\" class=\"row_heading level0 row11\" >XB</th>\n",
       "      <td id=\"T_e4cd0_row11_col0\" class=\"data row11 col0\" >256.750000</td>\n",
       "    </tr>\n",
       "    <tr>\n",
       "      <th id=\"T_e4cd0_level0_row12\" class=\"row_heading level0 row12\" >GB</th>\n",
       "      <td id=\"T_e4cd0_row12_col0\" class=\"data row12 col0\" >254.375000</td>\n",
       "    </tr>\n",
       "    <tr>\n",
       "      <th id=\"T_e4cd0_level0_row13\" class=\"row_heading level0 row13\" >NES</th>\n",
       "      <td id=\"T_e4cd0_row13_col0\" class=\"data row13 col0\" >251.000000</td>\n",
       "    </tr>\n",
       "    <tr>\n",
       "      <th id=\"T_e4cd0_level0_row14\" class=\"row_heading level0 row14\" >N64</th>\n",
       "      <td id=\"T_e4cd0_row14_col0\" class=\"data row14 col0\" >218.500000</td>\n",
       "    </tr>\n",
       "    <tr>\n",
       "      <th id=\"T_e4cd0_level0_row15\" class=\"row_heading level0 row15\" >SNES</th>\n",
       "      <td id=\"T_e4cd0_row15_col0\" class=\"data row15 col0\" >200.000000</td>\n",
       "    </tr>\n",
       "    <tr>\n",
       "      <th id=\"T_e4cd0_level0_row16\" class=\"row_heading level0 row16\" >GC</th>\n",
       "      <td id=\"T_e4cd0_row16_col0\" class=\"data row16 col0\" >198.625000</td>\n",
       "    </tr>\n",
       "    <tr>\n",
       "      <th id=\"T_e4cd0_level0_row17\" class=\"row_heading level0 row17\" >XOne</th>\n",
       "      <td id=\"T_e4cd0_row17_col0\" class=\"data row17 col0\" >159.250000</td>\n",
       "    </tr>\n",
       "    <tr>\n",
       "      <th id=\"T_e4cd0_level0_row18\" class=\"row_heading level0 row18\" >2600</th>\n",
       "      <td id=\"T_e4cd0_row18_col0\" class=\"data row18 col0\" >89.000000</td>\n",
       "    </tr>\n",
       "    <tr>\n",
       "      <th id=\"T_e4cd0_level0_row19\" class=\"row_heading level0 row19\" >WiiU</th>\n",
       "      <td id=\"T_e4cd0_row19_col0\" class=\"data row19 col0\" >82.187500</td>\n",
       "    </tr>\n",
       "    <tr>\n",
       "      <th id=\"T_e4cd0_level0_row20\" class=\"row_heading level0 row20\" >PSV</th>\n",
       "      <td id=\"T_e4cd0_row20_col0\" class=\"data row20 col0\" >54.062500</td>\n",
       "    </tr>\n",
       "    <tr>\n",
       "      <th id=\"T_e4cd0_level0_row21\" class=\"row_heading level0 row21\" >SAT</th>\n",
       "      <td id=\"T_e4cd0_row21_col0\" class=\"data row21 col0\" >33.593750</td>\n",
       "    </tr>\n",
       "    <tr>\n",
       "      <th id=\"T_e4cd0_level0_row22\" class=\"row_heading level0 row22\" >GEN</th>\n",
       "      <td id=\"T_e4cd0_row22_col0\" class=\"data row22 col0\" >28.343750</td>\n",
       "    </tr>\n",
       "    <tr>\n",
       "      <th id=\"T_e4cd0_level0_row23\" class=\"row_heading level0 row23\" >DC</th>\n",
       "      <td id=\"T_e4cd0_row23_col0\" class=\"data row23 col0\" >15.945312</td>\n",
       "    </tr>\n",
       "    <tr>\n",
       "      <th id=\"T_e4cd0_level0_row24\" class=\"row_heading level0 row24\" >SCD</th>\n",
       "      <td id=\"T_e4cd0_row24_col0\" class=\"data row24 col0\" >1.860352</td>\n",
       "    </tr>\n",
       "    <tr>\n",
       "      <th id=\"T_e4cd0_level0_row25\" class=\"row_heading level0 row25\" >NG</th>\n",
       "      <td id=\"T_e4cd0_row25_col0\" class=\"data row25 col0\" >1.439453</td>\n",
       "    </tr>\n",
       "    <tr>\n",
       "      <th id=\"T_e4cd0_level0_row26\" class=\"row_heading level0 row26\" >WS</th>\n",
       "      <td id=\"T_e4cd0_row26_col0\" class=\"data row26 col0\" >1.419922</td>\n",
       "    </tr>\n",
       "    <tr>\n",
       "      <th id=\"T_e4cd0_level0_row27\" class=\"row_heading level0 row27\" >TG16</th>\n",
       "      <td id=\"T_e4cd0_row27_col0\" class=\"data row27 col0\" >0.160034</td>\n",
       "    </tr>\n",
       "    <tr>\n",
       "      <th id=\"T_e4cd0_level0_row28\" class=\"row_heading level0 row28\" >3DO</th>\n",
       "      <td id=\"T_e4cd0_row28_col0\" class=\"data row28 col0\" >0.099976</td>\n",
       "    </tr>\n",
       "    <tr>\n",
       "      <th id=\"T_e4cd0_level0_row29\" class=\"row_heading level0 row29\" >GG</th>\n",
       "      <td id=\"T_e4cd0_row29_col0\" class=\"data row29 col0\" >0.040009</td>\n",
       "    </tr>\n",
       "    <tr>\n",
       "      <th id=\"T_e4cd0_level0_row30\" class=\"row_heading level0 row30\" >PCFX</th>\n",
       "      <td id=\"T_e4cd0_row30_col0\" class=\"data row30 col0\" >0.029999</td>\n",
       "    </tr>\n",
       "  </tbody>\n",
       "</table>\n"
      ],
      "text/plain": [
       "<pandas.io.formats.style.Styler at 0x7fce84661c70>"
      ]
     },
     "execution_count": 33,
     "metadata": {},
     "output_type": "execute_result"
    }
   ],
   "source": [
    "# запоминаем таблицу в переменную, чтобы далее было проще брать из нее список топовых платформ\n",
    "all_platforms = data.pivot_table(\n",
    "    index=['platform'], values='all_sales', aggfunc='sum'\n",
    ").sort_values(by='all_sales', ascending=False)\n",
    "\n",
    "# выводим и добавляем закрашивание\n",
    "all_platforms.style.background_gradient(cmap='BuGn')"
   ]
  },
  {
   "cell_type": "markdown",
   "metadata": {},
   "source": [
    "Для дальнейшего анализа предлагаю взять 6 топовых платформ с суммарными продажами больше 500 млн копий: `PS2`, `X360`, `PS3`, `Wii`, `DS`, `PS`. Построим графики с количеством выпущенных игр в разные годы на каждой из них."
   ]
  },
  {
   "cell_type": "code",
   "execution_count": 34,
   "metadata": {},
   "outputs": [
    {
     "data": {
      "image/png": "[encoded data removed]",
      "text/plain": [
       "<Figure size 1080x360 with 1 Axes>"
      ]
     },
     "metadata": {
      "needs_background": "light"
     },
     "output_type": "display_data"
    }
   ],
   "source": [
    "# запоминаем список топовых платформ\n",
    "top_platforms = all_platforms.index[:6]\n",
    "\n",
    "# рисуем график\n",
    "data.query(\n",
    "    '(platform.isin(@top_platforms)) and (1993 <= year_of_release <= 2016)'\n",
    ").pivot_table(\n",
    "    index=['year_of_release'], columns='platform', values='name', aggfunc='count'\n",
    ").plot(\n",
    "    grid=True, figsize=(15, 5), legend=True,\n",
    "    # значения по х делаем равными всем анализируемвм годам\n",
    "    xticks=[x for x in range(1993, 2017)],\n",
    "    # значения по у делаем от 0 до 500 (максимальное значение) с шагом 50\n",
    "    yticks=[y for y in range(0, 501, 50)]\n",
    ").set(\n",
    "    xlabel='Годы выпуска', \n",
    "    ylabel='Количество игр, шт', \n",
    "    title='Количество игр, выпускаемых в разные годы на самых продаваемых платформах'\n",
    ");"
   ]
  },
  {
   "cell_type": "markdown",
   "metadata": {},
   "source": [
    "Выводы:\n",
    "\n",
    "- Распределение количества игр в разные годы нормальное.\n",
    "- Игры для каждой платформы выпускаются примерно по 9-12 лет. В середине периода (3-7 годы) они пользуются наибольшей популярностью. Далее количество выпускаемых игр уменьшается, платформы теряют популярность.\n",
    "- Пик количества выпущенных игр за 1 год присутствует на платформе `DS` в 2008 году (почти 500 игр).\n",
    "- Пиковые количества выпущенных игр на других платформах:\n",
    "    - На `PS` в 1998 году было выпущено примерно 250 игр.\n",
    "    - На `PS2` в период 2002-2006 годов выпускалось примерно одинаковое количество игр - примерно по 260-280 штук в год. Самый пик в 2002 году, было выпущено примерно 280 игр.\n",
    "    - На `Wii` в 2009 примерно 320 игр. \n",
    "    - На `PS3` и `X360` в 2011 примерно 220 и 210 игр соответственно."
   ]
  },
  {
   "cell_type": "markdown",
   "metadata": {},
   "source": [
    "### Выбор актуального периода для анализа прогноза на 2017 год <a id=\"period\">"
   ]
  },
  {
   "cell_type": "markdown",
   "metadata": {},
   "source": [
    "Чтобы спрогнозировать прогноз на 2017 год возьмем актуальный период с 2012 по 2016 год. В этом периоде значительно сократилось количество выпускаемых игр на самых популярных платформах. Так как в среднем время использования одной платформы около 10 лет с пиком в 3-7 годы, то попробуем найти новые и набирающие популярность платформы.\n",
    "\n",
    "Также так как в графике с количеством игр, выпускаемых в разные годы на топовых платформах, было заметно падение спроса на платформы `DS`, `PS3`, `Wii`, `X360`, то можем их сразу не учитывать в анализе."
   ]
  },
  {
   "cell_type": "code",
   "execution_count": 35,
   "metadata": {},
   "outputs": [],
   "source": [
    "# запоминаем игнорируемые платформы в отдельную переменную\n",
    "ignore_platforms = ['DS', 'PS3', 'Wii', 'X360']"
   ]
  },
  {
   "cell_type": "markdown",
   "metadata": {},
   "source": [
    "### Поиск потенциально прибыльных платформ <a id=\"potential_platforms\">"
   ]
  },
  {
   "cell_type": "markdown",
   "metadata": {},
   "source": [
    "Построим графики с количеством выпущенных игр и суммарными продажами на разных платформах за актуальный период."
   ]
  },
  {
   "cell_type": "code",
   "execution_count": 36,
   "metadata": {},
   "outputs": [
    {
     "data": {
      "image/png": "[encoded data removed]",
      "text/plain": [
       "<Figure size 864x360 with 1 Axes>"
      ]
     },
     "metadata": {
      "needs_background": "light"
     },
     "output_type": "display_data"
    },
    {
     "data": {
      "image/png": "[encoded data removed]",
      "text/plain": [
       "<Figure size 864x360 with 1 Axes>"
      ]
     },
     "metadata": {
      "needs_background": "light"
     },
     "output_type": "display_data"
    }
   ],
   "source": [
    "# выносим срез данных в отдельную переменную для удобства\n",
    "actual_data = data.query('(2012 <= year_of_release <= 2016) and not (platform.isin(@ignore_platforms))')\n",
    "# выносим список актуальных годов в отдельную переменную, чтобы на графике не было дробных значений годов выпуска\n",
    "xticks = [2012, 2013, 2014, 2015, 2016]\n",
    "\n",
    "# рисуем график для количества игр\n",
    "ax = actual_data.pivot_table(\n",
    "    index=['year_of_release'], columns='platform', values='name', aggfunc='count'\n",
    ").plot(\n",
    "    grid=True, figsize=(12, 5), legend=True, xticks=xticks\n",
    ").set(\n",
    "    xlabel='Годы выпуска', \n",
    "    ylabel='Количество игр, шт', \n",
    "    title='Количество игр, выпускаемых в актуальный период на разных платформах'\n",
    ")\n",
    "plt.show()\n",
    "\n",
    "# рисуем график для суммарных продаж\n",
    "# собираем график для каждой платформы по очереди, так как данные в сводную таблицу матчатся только по отдельности\n",
    "# ax присваиваем None, чтобы работал сбор графиков в один (в первый по очереди график ничего не добавится)\n",
    "ax = None\n",
    "# сортируем список платформ, чтобы цвета линий совпадали с предыдущим графиком количества игр\n",
    "for platform in sorted(actual_data['platform'].unique()):\n",
    "    # переименовываем столбец со значениями, чтобы линии на графике отображали названия платформ\n",
    "    ax = actual_data.query('platform == @platform').pivot_table(\n",
    "        index=['year_of_release'], values='all_sales', aggfunc='sum'\n",
    "    ).rename(columns={'all_sales': platform}).plot(\n",
    "        grid=True, figsize=(12, 5), legend=True, xticks=xticks, ax=ax\n",
    "    )\n",
    "# отдельно подписываем график\n",
    "ax.set(\n",
    "    xlabel='Годы выпуска', \n",
    "    ylabel='Количество проданных копий, млн шт', \n",
    "    title='Суммарные продажи за актуальный период на разных платформах'\n",
    ")\n",
    "plt.show()"
   ]
  },
  {
   "cell_type": "markdown",
   "metadata": {},
   "source": [
    "Выводы:\n",
    "\n",
    "Количество выпущенных игр:\n",
    "- За последние 5 лет игры перестали выпускать на платформах `DS`, `PSP`.\n",
    "- В течение всех последних 5 лет наблюдается уменьшение количества выпускаемых игр на платформах `3DS`, `PS3`, `Wii`, `X360`.\n",
    "- На платформах `PSV` и `WiiU` наблюдалось небольшое увеличение, но после 2015 и 2013 годов соответственно наблюдается уменьшение количества выпускаемых игр.\n",
    "- На `PC` до 2013 года наблюдалось падение количества выпускаемых игр. Далее количество растет. Но так как рост незначительный, и количество игр, выпущенных в 2016, меньше, чем количество игр, выпущенных в 2012, то предлагаю не учитывать эту платформу как потенциально прибыльную. Тем более, что в 2016 на `PS4`, `PSV` и `XOne` игр было выпущено больше.\n",
    "- Как самые потенциально прибыльные платформы можно выделить `PS4` и `XOne`. Они обе появились в 2013 году, и с тех пор показывали рост количества выпускаемых игр. Если учитывать, что платформы в среднем пользуются спросом 9-12 лет, и в 3-7 годы показывают пик количества издаваемых игр, то эти платформы могут еще несколько лет показывать хорошие результаты. Кажется, лучше запустить рекламные кампании для них.\n",
    "\n",
    "Суммарные продажи:\n",
    "- За последние годы суммарные продажи на всех платформах, кроме `PS4` и `XOne`, падали.\n",
    "- `PS4` и `XOne` продали больше копий за последние 3 года.\n",
    "- Лидер по продажам: `PS4`. За полный 2015 год на нем было продано около 120 млн копий. Что в 2 раза больше, чем на `XOne`.\n",
    "- Количество копий на лидирующих платформах за последний 2016 год чуть ниже, чем в 2015. Это может быть связано с тем, что данные за 2016 неполные. Так как в этот год на этих платформах было выпущено больше игр, чем в предыдущий, то, скорее всего, по итогам года суммарное количество продаж в нем тоже будет больше предыдущего.\n",
    "- Суммарное количество продаж подтверждает выбор `PS4` и `XOne` как потенциально прибыльные платформы. В приоритете стоит рассмотреть `PS4`."
   ]
  },
  {
   "cell_type": "markdown",
   "metadata": {},
   "source": [
    "### Анализ глобальных продаж в разбивке по платформам <a id=\"sales_by_platforms\">"
   ]
  },
  {
   "cell_type": "markdown",
   "metadata": {},
   "source": [
    "Построим диаграммы размаха по глобальным продажам игр в разбивке по платформам за актуальный период."
   ]
  },
  {
   "cell_type": "code",
   "execution_count": 37,
   "metadata": {
    "scrolled": true
   },
   "outputs": [
    {
     "data": {
      "image/png": "[encoded data removed]",
      "text/plain": [
       "<Figure size 1080x360 with 1 Axes>"
      ]
     },
     "metadata": {
      "needs_background": "light"
     },
     "output_type": "display_data"
    }
   ],
   "source": [
    "actual_data.boxplot(\n",
    "    by='platform', column='all_sales', grid=True, figsize=(15, 5), vert=True\n",
    ").set(title='Суммарные продажи на платформах');"
   ]
  },
  {
   "cell_type": "markdown",
   "metadata": {},
   "source": [
    "На графиках видим много аномальных значений с количеством проданных копий больше 2 млн у большинства платформ. Построим диаграммы без этих выбросов."
   ]
  },
  {
   "cell_type": "code",
   "execution_count": 38,
   "metadata": {},
   "outputs": [
    {
     "data": {
      "image/png": "[encoded data removed]",
      "text/plain": [
       "<Figure size 1080x360 with 1 Axes>"
      ]
     },
     "metadata": {
      "needs_background": "light"
     },
     "output_type": "display_data"
    }
   ],
   "source": [
    "actual_data.boxplot(\n",
    "    by='platform', column='all_sales', grid=True, figsize=(15, 5), vert=True\n",
    ").set(title='Суммарные продажи на платформах', ylim=[0, 2]);"
   ]
  },
  {
   "cell_type": "markdown",
   "metadata": {},
   "source": [
    "Вывод:\n",
    "\n",
    "- Хуже всего продавались игры на платформах `PSP` и `PSV`. Часто встречающееся количество проданных копий на них меньше 250 тысяч.\n",
    "- Лучше всего продавались игры на платформе `PS4`. Часто встречающеемя количество проданных копий на них меньше 1.75 млн.\n",
    "- Чуть хуже продавались на платформах `Wii` и `XOne`. Часто встречающееся количество проданных копий на каждой из них меньше меньше 1.6 млн."
   ]
  },
  {
   "cell_type": "markdown",
   "metadata": {},
   "source": [
    "### Анализ влияния отзывов пользователей и критиков на продажи <a id=\"sales_by_scores\">"
   ]
  },
  {
   "cell_type": "markdown",
   "metadata": {},
   "source": [
    "Построим диаграмму рассеяния зависимости продаж от отзывов для платформ, выбранных ранее как потенциально популярные - `PS4` и `XOne`. Тем более, что на них продавалось больше всего копий за актуальный период. Также для более точного анализа предлагаю добавить платформу `3DS` как еще одну из самых хорошо продаваемых в актуальный период."
   ]
  },
  {
   "cell_type": "code",
   "execution_count": 39,
   "metadata": {},
   "outputs": [
    {
     "data": {
      "image/png": "[encoded data removed]",
      "text/plain": [
       "<Figure size 432x288 with 1 Axes>"
      ]
     },
     "metadata": {
      "needs_background": "light"
     },
     "output_type": "display_data"
    },
    {
     "data": {
      "image/png": "[encoded data removed]",
      "text/plain": [
       "<Figure size 432x288 with 1 Axes>"
      ]
     },
     "metadata": {
      "needs_background": "light"
     },
     "output_type": "display_data"
    },
    {
     "data": {
      "image/png": "[encoded data removed]",
      "text/plain": [
       "<Figure size 432x288 with 1 Axes>"
      ]
     },
     "metadata": {
      "needs_background": "light"
     },
     "output_type": "display_data"
    },
    {
     "data": {
      "image/png": "[encoded data removed]",
      "text/plain": [
       "<Figure size 432x288 with 1 Axes>"
      ]
     },
     "metadata": {
      "needs_background": "light"
     },
     "output_type": "display_data"
    },
    {
     "data": {
      "image/png": "[encoded data removed]",
      "text/plain": [
       "<Figure size 432x288 with 1 Axes>"
      ]
     },
     "metadata": {
      "needs_background": "light"
     },
     "output_type": "display_data"
    },
    {
     "data": {
      "image/png": "[encoded data removed]",
      "text/plain": [
       "<Figure size 432x288 with 1 Axes>"
      ]
     },
     "metadata": {
      "needs_background": "light"
     },
     "output_type": "display_data"
    }
   ],
   "source": [
    "# выносим список потенциально прибыльных платформ в список для удобства\n",
    "potential_top_platforms = ['PS4', 'XOne', '3DS']\n",
    "\n",
    "def scatter_for_platform(platform):\n",
    "    '''\n",
    "    функция принимает: название платформы\n",
    "    функция выводит: графики зависимости продаж от отзывов критиков и пользователей на этой платформе\n",
    "    '''\n",
    "    # запоминаем данные популярной платформы в отдельную переменную для удобства\n",
    "    platform_data = actual_data.query('platform == @platform')\n",
    "\n",
    "    # используем прозрачность 0.3, чтобы показать плотность распределения игр с аналогичными значениями\n",
    "    ax1 = platform_data.plot(\n",
    "        x='critic_score', y='all_sales', kind='scatter', grid=True, alpha=0.3\n",
    "    ).set(\n",
    "        xlabel='Оценка критиков', \n",
    "        ylabel='Количество проданных копий, млн шт', \n",
    "        title='Зависимость суммарных продаж от отзывов критиков на платформе '+platform\n",
    "    )\n",
    "    ax2 = platform_data.plot(\n",
    "        x='user_score', y='all_sales', kind='scatter', grid=True, alpha=0.3\n",
    "    ).set(\n",
    "        xlabel='Оценка пользователей', \n",
    "        ylabel='Количество проданных копий, млн шт', \n",
    "        title='Зависимость суммарных продаж от отзывов пользователей на платформе '+platform\n",
    "    )\n",
    "    plt.show()\n",
    "    \n",
    "# рисуем графики\n",
    "for platform in potential_top_platforms:\n",
    "    scatter_for_platform(platform)"
   ]
  },
  {
   "cell_type": "markdown",
   "metadata": {},
   "source": [
    "Посчитаем корреляцию между отзывами и продажами на выбранных платформах в актуальный период."
   ]
  },
  {
   "cell_type": "code",
   "execution_count": 40,
   "metadata": {},
   "outputs": [
    {
     "name": "stdout",
     "output_type": "stream",
     "text": [
      "Корреляция между продажами и оценкой критиков на платформе PS4 : 0.20491816798190124\n",
      "Корреляция между продажами и оценкой пользователей на платформе PS4 : -0.0076037489951771625\n",
      "Корреляция между продажами и оценкой критиков на платформе XOne : 0.2957531961670981\n",
      "Корреляция между продажами и оценкой пользователей на платформе XOne : 0.07639030149460116\n",
      "Корреляция между продажами и оценкой критиков на платформе 3DS : 0.16017430455793621\n",
      "Корреляция между продажами и оценкой пользователей на платформе 3DS : 0.15310523719449823\n"
     ]
    }
   ],
   "source": [
    "for platform in potential_top_platforms:\n",
    "    # запоминаем данные по платформе для удобства\n",
    "    platform_data = actual_data.query('platform == @platform')\n",
    "    print(\n",
    "        'Корреляция между продажами и оценкой критиков на платформе', platform, ':', \n",
    "        platform_data['all_sales'].corr(platform_data['critic_score'])\n",
    "    )\n",
    "    print(\n",
    "        'Корреляция между продажами и оценкой пользователей на платформе', platform, ':', \n",
    "        platform_data['all_sales'].corr(platform_data['user_score'])\n",
    "    )"
   ]
  },
  {
   "cell_type": "markdown",
   "metadata": {},
   "source": [
    "Вывод:\n",
    "- Корреляция зависимости продаж от отзывов критиков примерно 0.16-0.3. Это означает, что связь роста продаж от роста оценки критиков слабо положительная. При росте оценки критиков, возможно, количество продаж тоже вырастет, но маловероятно.\n",
    "- Корреляция зависимости продаж от отзывов пользователей примерно 0-0.15. Это означает, что связь роста продаж от роста оценки пользователей очень слабая или отсутствует вовсе. \n",
    "- Больше всего копий продается у игр с оценками критиков 68 и 72, или оценками пользователей 7.3, 7.5 или 7.8.\n",
    "- При этом есть некоторые игры, которые в единичных случаях продавались в аномально большом количестве копий, имея другие оценки. \n",
    "- Также стоит помнить, что в большей половине датасета были пропущены и заменены значения в оценках, что могло значительно повлиять на выводы."
   ]
  },
  {
   "cell_type": "markdown",
   "metadata": {},
   "source": [
    "### Анализ общего распределения игр по жанрам <a id=\"games_by_genres\">"
   ]
  },
  {
   "cell_type": "markdown",
   "metadata": {},
   "source": [
    "Построим график распределения количества игр и диаграмму размаха с медианами их продаж по жанрам за актуальный период."
   ]
  },
  {
   "cell_type": "code",
   "execution_count": 41,
   "metadata": {},
   "outputs": [
    {
     "data": {
      "image/png": "[encoded data removed]",
      "text/plain": [
       "<Figure size 1080x360 with 1 Axes>"
      ]
     },
     "metadata": {
      "needs_background": "light"
     },
     "output_type": "display_data"
    },
    {
     "data": {
      "image/png": "[encoded data removed]",
      "text/plain": [
       "<Figure size 1080x360 with 1 Axes>"
      ]
     },
     "metadata": {
      "needs_background": "light"
     },
     "output_type": "display_data"
    }
   ],
   "source": [
    "# сбрасываем индексы, чтобы обращаться к данным по названиям столбцов\n",
    "ax1 = actual_data.pivot_table(index=['genre'], values='name', aggfunc='count').reset_index().plot(\n",
    "    x='genre',\n",
    "    y='name',\n",
    "    grid=True,\n",
    "    figsize=(15, 5),\n",
    "    # рисуем график без легенды, так как линия только одна\n",
    "    legend=False,\n",
    "    # в xticks передаем список индексов жанров, чтобы они отображались все и в одинаковом порядке на обоих графиках\n",
    "    xticks=range(len(actual_data['genre'].unique()))\n",
    ").set(\n",
    "    xlabel='Жанры', \n",
    "    ylabel='Количество игр, шт', \n",
    "    title='Количество игр разного жанра'\n",
    ")\n",
    "\n",
    "ax2 = actual_data.boxplot(\n",
    "    # не отображаем выбросы на графике, чтобы удобнее следить за более полезными значениями\n",
    "    by='genre', column='all_sales', grid=True, figsize=(15, 5), vert=True, showfliers=False\n",
    ").set(title='Суммарные продажи игр разного жанра')\n",
    "\n",
    "plt.show()"
   ]
  },
  {
   "cell_type": "markdown",
   "metadata": {},
   "source": [
    "Вывод:\n",
    "\n",
    "- Количество выпущенных игр не всегда напрямую влияет на количество суммарных продаж каждой игры на определенной платформе. Например, в жанре `Action` было выпущено больше всего игр (примерно 720 штук), а часто встречающееся количество проданных копий меньше, чем у практически половины других жанров (меньше 60 тысяч копий).\n",
    "- Больше всего продаж собирают игры в жанре `Shooter`. Часто встречающееся количество проданных копий у них меньше 3.4 млн копий.\n",
    "- Меньше всего выпущено игр и продается копий в жанре `Puzzle`, примерно 40 игр и часто встречающееся количество проданных копий меньше 15 тысяч."
   ]
  },
  {
   "cell_type": "markdown",
   "metadata": {},
   "source": [
    "## Определение портрета пользователя для каждого региона <a id=\"profile\">"
   ]
  },
  {
   "cell_type": "markdown",
   "metadata": {},
   "source": [
    "### Анализ самых популярных платформ <a id=\"popular_platforms\">"
   ]
  },
  {
   "cell_type": "markdown",
   "metadata": {},
   "source": [
    "Выведем топ-5 платформ с наибольшими продажами в каждом регионе за актуальный период. Также построим график суммарных продаж игр на каждой платформе для каждого региона. "
   ]
  },
  {
   "cell_type": "code",
   "execution_count": 42,
   "metadata": {},
   "outputs": [
    {
     "data": {
      "text/html": [
       "<style type=\"text/css\">\n",
       "#T_0c0c4_row0_col0 {\n",
       "  background-color: #29924f;\n",
       "  color: #f1f1f1;\n",
       "}\n",
       "#T_0c0c4_row1_col0 {\n",
       "  background-color: #43af78;\n",
       "  color: #f1f1f1;\n",
       "}\n",
       "#T_0c0c4_row2_col0 {\n",
       "  background-color: #9cd9ca;\n",
       "  color: #000000;\n",
       "}\n",
       "#T_0c0c4_row3_col0 {\n",
       "  background-color: #caebe5;\n",
       "  color: #000000;\n",
       "}\n",
       "#T_0c0c4_row4_col0 {\n",
       "  background-color: #e5f5f9;\n",
       "  color: #000000;\n",
       "}\n",
       "</style>\n",
       "<table id=\"T_0c0c4\">\n",
       "  <thead>\n",
       "    <tr>\n",
       "      <th class=\"blank level0\" >&nbsp;</th>\n",
       "      <th id=\"T_0c0c4_level0_col0\" class=\"col_heading level0 col0\" >na_sales</th>\n",
       "    </tr>\n",
       "    <tr>\n",
       "      <th class=\"index_name level0\" >platform</th>\n",
       "      <th class=\"blank col0\" >&nbsp;</th>\n",
       "    </tr>\n",
       "  </thead>\n",
       "  <tbody>\n",
       "    <tr>\n",
       "      <th id=\"T_0c0c4_level0_row0\" class=\"row_heading level0 row0\" >PS4</th>\n",
       "      <td id=\"T_0c0c4_row0_col0\" class=\"data row0 col0\" >108.750000</td>\n",
       "    </tr>\n",
       "    <tr>\n",
       "      <th id=\"T_0c0c4_level0_row1\" class=\"row_heading level0 row1\" >XOne</th>\n",
       "      <td id=\"T_0c0c4_row1_col0\" class=\"data row1 col0\" >93.125000</td>\n",
       "    </tr>\n",
       "    <tr>\n",
       "      <th id=\"T_0c0c4_level0_row2\" class=\"row_heading level0 row2\" >3DS</th>\n",
       "      <td id=\"T_0c0c4_row2_col0\" class=\"data row2 col0\" >55.500000</td>\n",
       "    </tr>\n",
       "    <tr>\n",
       "      <th id=\"T_0c0c4_level0_row3\" class=\"row_heading level0 row3\" >WiiU</th>\n",
       "      <td id=\"T_0c0c4_row3_col0\" class=\"data row3 col0\" >38.093750</td>\n",
       "    </tr>\n",
       "    <tr>\n",
       "      <th id=\"T_0c0c4_level0_row4\" class=\"row_heading level0 row4\" >PC</th>\n",
       "      <td id=\"T_0c0c4_row4_col0\" class=\"data row4 col0\" >19.265625</td>\n",
       "    </tr>\n",
       "  </tbody>\n",
       "</table>\n"
      ],
      "text/plain": [
       "<pandas.io.formats.style.Styler at 0x7fce85788b20>"
      ]
     },
     "metadata": {},
     "output_type": "display_data"
    },
    {
     "data": {
      "text/html": [
       "<style type=\"text/css\">\n",
       "#T_bcbcb_row0_col0 {\n",
       "  background-color: #005723;\n",
       "  color: #f1f1f1;\n",
       "}\n",
       "#T_bcbcb_row1_col0 {\n",
       "  background-color: #a5ddd0;\n",
       "  color: #000000;\n",
       "}\n",
       "#T_bcbcb_row2_col0 {\n",
       "  background-color: #bde6de;\n",
       "  color: #000000;\n",
       "}\n",
       "#T_bcbcb_row3_col0 {\n",
       "  background-color: #caebe5;\n",
       "  color: #000000;\n",
       "}\n",
       "#T_bcbcb_row4_col0 {\n",
       "  background-color: #ddf2f3;\n",
       "  color: #000000;\n",
       "}\n",
       "</style>\n",
       "<table id=\"T_bcbcb\">\n",
       "  <thead>\n",
       "    <tr>\n",
       "      <th class=\"blank level0\" >&nbsp;</th>\n",
       "      <th id=\"T_bcbcb_level0_col0\" class=\"col_heading level0 col0\" >eu_sales</th>\n",
       "    </tr>\n",
       "    <tr>\n",
       "      <th class=\"index_name level0\" >platform</th>\n",
       "      <th class=\"blank col0\" >&nbsp;</th>\n",
       "    </tr>\n",
       "  </thead>\n",
       "  <tbody>\n",
       "    <tr>\n",
       "      <th id=\"T_bcbcb_level0_row0\" class=\"row_heading level0 row0\" >PS4</th>\n",
       "      <td id=\"T_bcbcb_row0_col0\" class=\"data row0 col0\" >141.125000</td>\n",
       "    </tr>\n",
       "    <tr>\n",
       "      <th id=\"T_bcbcb_level0_row1\" class=\"row_heading level0 row1\" >XOne</th>\n",
       "      <td id=\"T_bcbcb_row1_col0\" class=\"data row1 col0\" >51.593750</td>\n",
       "    </tr>\n",
       "    <tr>\n",
       "      <th id=\"T_bcbcb_level0_row2\" class=\"row_heading level0 row2\" >3DS</th>\n",
       "      <td id=\"T_bcbcb_row2_col0\" class=\"data row2 col0\" >42.843750</td>\n",
       "    </tr>\n",
       "    <tr>\n",
       "      <th id=\"T_bcbcb_level0_row3\" class=\"row_heading level0 row3\" >PC</th>\n",
       "      <td id=\"T_bcbcb_row3_col0\" class=\"data row3 col0\" >38.375000</td>\n",
       "    </tr>\n",
       "    <tr>\n",
       "      <th id=\"T_bcbcb_level0_row4\" class=\"row_heading level0 row4\" >WiiU</th>\n",
       "      <td id=\"T_bcbcb_row4_col0\" class=\"data row4 col0\" >25.125000</td>\n",
       "    </tr>\n",
       "  </tbody>\n",
       "</table>\n"
      ],
      "text/plain": [
       "<pandas.io.formats.style.Styler at 0x7fce84ecf910>"
      ]
     },
     "metadata": {},
     "output_type": "display_data"
    },
    {
     "data": {
      "text/html": [
       "<style type=\"text/css\">\n",
       "#T_ef035_row0_col0 {\n",
       "  background-color: #4db585;\n",
       "  color: #f1f1f1;\n",
       "}\n",
       "#T_ef035_row1_col0 {\n",
       "  background-color: #e2f4f7;\n",
       "  color: #000000;\n",
       "}\n",
       "#T_ef035_row2_col0 {\n",
       "  background-color: #e8f6fa;\n",
       "  color: #000000;\n",
       "}\n",
       "#T_ef035_row3_col0 {\n",
       "  background-color: #ebf7fa;\n",
       "  color: #000000;\n",
       "}\n",
       "#T_ef035_row4_col0 {\n",
       "  background-color: #edf8fb;\n",
       "  color: #000000;\n",
       "}\n",
       "</style>\n",
       "<table id=\"T_ef035\">\n",
       "  <thead>\n",
       "    <tr>\n",
       "      <th class=\"blank level0\" >&nbsp;</th>\n",
       "      <th id=\"T_ef035_level0_col0\" class=\"col_heading level0 col0\" >jp_sales</th>\n",
       "    </tr>\n",
       "    <tr>\n",
       "      <th class=\"index_name level0\" >platform</th>\n",
       "      <th class=\"blank col0\" >&nbsp;</th>\n",
       "    </tr>\n",
       "  </thead>\n",
       "  <tbody>\n",
       "    <tr>\n",
       "      <th id=\"T_ef035_level0_row0\" class=\"row_heading level0 row0\" >3DS</th>\n",
       "      <td id=\"T_ef035_row0_col0\" class=\"data row0 col0\" >87.812500</td>\n",
       "    </tr>\n",
       "    <tr>\n",
       "      <th id=\"T_ef035_level0_row1\" class=\"row_heading level0 row1\" >PSV</th>\n",
       "      <td id=\"T_ef035_row1_col0\" class=\"data row1 col0\" >21.109375</td>\n",
       "    </tr>\n",
       "    <tr>\n",
       "      <th id=\"T_ef035_level0_row2\" class=\"row_heading level0 row2\" >PS4</th>\n",
       "      <td id=\"T_ef035_row2_col0\" class=\"data row2 col0\" >15.960938</td>\n",
       "    </tr>\n",
       "    <tr>\n",
       "      <th id=\"T_ef035_level0_row3\" class=\"row_heading level0 row3\" >WiiU</th>\n",
       "      <td id=\"T_ef035_row3_col0\" class=\"data row3 col0\" >13.007812</td>\n",
       "    </tr>\n",
       "    <tr>\n",
       "      <th id=\"T_ef035_level0_row4\" class=\"row_heading level0 row4\" >PSP</th>\n",
       "      <td id=\"T_ef035_row4_col0\" class=\"data row4 col0\" >10.710938</td>\n",
       "    </tr>\n",
       "  </tbody>\n",
       "</table>\n"
      ],
      "text/plain": [
       "<pandas.io.formats.style.Styler at 0x7fce84950b80>"
      ]
     },
     "metadata": {},
     "output_type": "display_data"
    },
    {
     "data": {
      "image/png": "[encoded data removed]",
      "text/plain": [
       "<Figure size 864x360 with 1 Axes>"
      ]
     },
     "metadata": {
      "needs_background": "light"
     },
     "output_type": "display_data"
    }
   ],
   "source": [
    "# запоминаем список колонок с регионами для удобства\n",
    "# также запоминаем название региона для дальнейшего обозначения на графиках\n",
    "regions = {\n",
    "    'na_sales': 'NA', \n",
    "    'eu_sales': 'EU',\n",
    "    'jp_sales': 'JP'\n",
    "}\n",
    "\n",
    "# собираем график для каждого региона по очереди, так как в единой сводной таблице столбцы с регионами могут перемешаться\n",
    "\n",
    "# ax присваиваем None, чтобы работал сбор графиков в один (в первый по очереди график ничего не добавится)\n",
    "ax = None\n",
    "\n",
    "# добавляем подписи на ось Х\n",
    "xticks = range(len(actual_data['platform'].unique()))\n",
    "\n",
    "for region_column in regions.keys():\n",
    "    # выводим таблицу с топ-5 платформ в регионе\n",
    "    # сортируем по убыванию\n",
    "    # добавляем закрашивание цветом с одинаковыми диапазонами цветов, чтобы легче визуально разделять цифры в таблице\n",
    "    display(\n",
    "        actual_data.pivot_table(\n",
    "            index=['platform'], values=region_column, aggfunc='sum'\n",
    "        ).sort_values(by=region_column, ascending=False).head(5).style.background_gradient(\n",
    "            cmap='BuGn', vmin=0, vmax=150\n",
    "        )\n",
    "    )\n",
    "    # добавляем данные региона в общий график\n",
    "    # переименовываем столбец со значениями, чтобы линии на графике отображали название региона\n",
    "    ax = actual_data.pivot_table(\n",
    "        index=['platform'], values=region_column, aggfunc='sum'\n",
    "    ).rename(columns={region_column: regions[region_column]}).plot(\n",
    "        grid=True, figsize=(12, 5), legend=True, xticks=xticks, ax=ax\n",
    "    )\n",
    "\n",
    "# отдельно подписываем график\n",
    "ax.set(\n",
    "    xlabel='Платформы', \n",
    "    ylabel='Количество проданных копий, млн шт', \n",
    "    title='Суммарные продажи за актуальный период на разных платформах в разных регионах'\n",
    ")\n",
    "plt.show()"
   ]
  },
  {
   "cell_type": "markdown",
   "metadata": {},
   "source": [
    "Вывод:\n",
    "\n",
    "- Наиболее популярные платформы в регионах в актуальный период:\n",
    "    - `NA`: `PS4`, `XOne`, `3DS`, `WiiU`, `PC`.\n",
    "    - `EU`: `PS4`, `XOne`, `3DS`, `PC`, `WiiU`.\n",
    "    - `JP`: `3DS`, `PSV`, `PS4`, `WiiU`, `PSP`.\n",
    "- Можно отметить, что игры на платформах `PS4`, `3DS`, `WiiU` пользовались популярностью во всех регионах, везде присутствуют в топ-5 суммарных продаж.\n",
    "- В `NA` и `EU` регионах больше всего продавалось игр на платформе `PS4`. Продано 108.7 и 141.1 млн копий соответственно.\n",
    "- Чуть меньше в этих регионах продалось игр на платформе `XOne` (93.1 и 51.6 млн копий соответственно).\n",
    "- Меньше всего в этих регионах продавалось игр на платформе `PSP`. Меньше 1 млн копий.\n",
    "- В `JP` регионе больше всего продавалось игр на платформе `3DS`. Продано 87.8 млн копий.\n",
    "- Меньше всего в этом регионе продавалось игр на платформах `PC` и `XOne`. Меньше 1 млн копий.\n",
    "- Также, судя по графику, общие продажи в регионах `NA` и `EU` примерно одинаковые, и значительно выше, чем в регионе `JP`."
   ]
  },
  {
   "cell_type": "markdown",
   "metadata": {},
   "source": [
    "### Анализ самых популярных жанров <a id=\"popular_genres\">"
   ]
  },
  {
   "cell_type": "markdown",
   "metadata": {},
   "source": [
    "Выведем топ-5 жанров с наибольшими продажами в каждом регионе за актуальный период. Также построим график суммарных продаж игр каждого жанра для каждого региона."
   ]
  },
  {
   "cell_type": "code",
   "execution_count": 43,
   "metadata": {},
   "outputs": [
    {
     "data": {
      "text/html": [
       "<style type=\"text/css\">\n",
       "#T_c82d8_row0_col0 {\n",
       "  background-color: #05712f;\n",
       "  color: #f1f1f1;\n",
       "}\n",
       "#T_c82d8_row1_col0 {\n",
       "  background-color: #1a843f;\n",
       "  color: #f1f1f1;\n",
       "}\n",
       "#T_c82d8_row2_col0 {\n",
       "  background-color: #72c7ad;\n",
       "  color: #000000;\n",
       "}\n",
       "#T_c82d8_row3_col0 {\n",
       "  background-color: #94d6c5;\n",
       "  color: #000000;\n",
       "}\n",
       "#T_c82d8_row4_col0 {\n",
       "  background-color: #d4efec;\n",
       "  color: #000000;\n",
       "}\n",
       "</style>\n",
       "<table id=\"T_c82d8\">\n",
       "  <thead>\n",
       "    <tr>\n",
       "      <th class=\"blank level0\" >&nbsp;</th>\n",
       "      <th id=\"T_c82d8_level0_col0\" class=\"col_heading level0 col0\" >na_sales</th>\n",
       "    </tr>\n",
       "    <tr>\n",
       "      <th class=\"index_name level0\" >genre</th>\n",
       "      <th class=\"blank col0\" >&nbsp;</th>\n",
       "    </tr>\n",
       "  </thead>\n",
       "  <tbody>\n",
       "    <tr>\n",
       "      <th id=\"T_c82d8_level0_row0\" class=\"row_heading level0 row0\" >Action</th>\n",
       "      <td id=\"T_c82d8_row0_col0\" class=\"data row0 col0\" >85.875000</td>\n",
       "    </tr>\n",
       "    <tr>\n",
       "      <th id=\"T_c82d8_level0_row1\" class=\"row_heading level0 row1\" >Shooter</th>\n",
       "      <td id=\"T_c82d8_row1_col0\" class=\"data row1 col0\" >77.750000</td>\n",
       "    </tr>\n",
       "    <tr>\n",
       "      <th id=\"T_c82d8_level0_row2\" class=\"row_heading level0 row2\" >Role-Playing</th>\n",
       "      <td id=\"T_c82d8_row2_col0\" class=\"data row2 col0\" >47.031250</td>\n",
       "    </tr>\n",
       "    <tr>\n",
       "      <th id=\"T_c82d8_level0_row3\" class=\"row_heading level0 row3\" >Sports</th>\n",
       "      <td id=\"T_c82d8_row3_col0\" class=\"data row3 col0\" >38.781250</td>\n",
       "    </tr>\n",
       "    <tr>\n",
       "      <th id=\"T_c82d8_level0_row4\" class=\"row_heading level0 row4\" >Platform</th>\n",
       "      <td id=\"T_c82d8_row4_col0\" class=\"data row4 col0\" >20.828125</td>\n",
       "    </tr>\n",
       "  </tbody>\n",
       "</table>\n"
      ],
      "text/plain": [
       "<pandas.io.formats.style.Styler at 0x7fce857b50d0>"
      ]
     },
     "metadata": {},
     "output_type": "display_data"
    },
    {
     "data": {
      "text/html": [
       "<style type=\"text/css\">\n",
       "#T_59851_row0_col0 {\n",
       "  background-color: #097532;\n",
       "  color: #f1f1f1;\n",
       "}\n",
       "#T_59851_row1_col0 {\n",
       "  background-color: #349f61;\n",
       "  color: #f1f1f1;\n",
       "}\n",
       "#T_59851_row2_col0 {\n",
       "  background-color: #8ad2be;\n",
       "  color: #000000;\n",
       "}\n",
       "#T_59851_row3_col0 {\n",
       "  background-color: #95d6c6;\n",
       "  color: #000000;\n",
       "}\n",
       "#T_59851_row4_col0 {\n",
       "  background-color: #dbf1f1;\n",
       "  color: #000000;\n",
       "}\n",
       "</style>\n",
       "<table id=\"T_59851\">\n",
       "  <thead>\n",
       "    <tr>\n",
       "      <th class=\"blank level0\" >&nbsp;</th>\n",
       "      <th id=\"T_59851_level0_col0\" class=\"col_heading level0 col0\" >eu_sales</th>\n",
       "    </tr>\n",
       "    <tr>\n",
       "      <th class=\"index_name level0\" >genre</th>\n",
       "      <th class=\"blank col0\" >&nbsp;</th>\n",
       "    </tr>\n",
       "  </thead>\n",
       "  <tbody>\n",
       "    <tr>\n",
       "      <th id=\"T_59851_level0_row0\" class=\"row_heading level0 row0\" >Action</th>\n",
       "      <td id=\"T_59851_row0_col0\" class=\"data row0 col0\" >84.125000</td>\n",
       "    </tr>\n",
       "    <tr>\n",
       "      <th id=\"T_59851_level0_row1\" class=\"row_heading level0 row1\" >Shooter</th>\n",
       "      <td id=\"T_59851_row1_col0\" class=\"data row1 col0\" >67.625000</td>\n",
       "    </tr>\n",
       "    <tr>\n",
       "      <th id=\"T_59851_level0_row2\" class=\"row_heading level0 row2\" >Sports</th>\n",
       "      <td id=\"T_59851_row2_col0\" class=\"data row2 col0\" >41.312500</td>\n",
       "    </tr>\n",
       "    <tr>\n",
       "      <th id=\"T_59851_level0_row3\" class=\"row_heading level0 row3\" >Role-Playing</th>\n",
       "      <td id=\"T_59851_row3_col0\" class=\"data row3 col0\" >38.531250</td>\n",
       "    </tr>\n",
       "    <tr>\n",
       "      <th id=\"T_59851_level0_row4\" class=\"row_heading level0 row4\" >Platform</th>\n",
       "      <td id=\"T_59851_row4_col0\" class=\"data row4 col0\" >17.812500</td>\n",
       "    </tr>\n",
       "  </tbody>\n",
       "</table>\n"
      ],
      "text/plain": [
       "<pandas.io.formats.style.Styler at 0x7fce855de1c0>"
      ]
     },
     "metadata": {},
     "output_type": "display_data"
    },
    {
     "data": {
      "text/html": [
       "<style type=\"text/css\">\n",
       "#T_44d7f_row0_col0 {\n",
       "  background-color: #5abb95;\n",
       "  color: #f1f1f1;\n",
       "}\n",
       "#T_44d7f_row1_col0 {\n",
       "  background-color: #98d8c9;\n",
       "  color: #000000;\n",
       "}\n",
       "#T_44d7f_row2_col0 {\n",
       "  background-color: #e7f6f9;\n",
       "  color: #000000;\n",
       "}\n",
       "#T_44d7f_row3_col0 {\n",
       "  background-color: #e9f7fa;\n",
       "  color: #000000;\n",
       "}\n",
       "#T_44d7f_row4_col0 {\n",
       "  background-color: #ebf7fa;\n",
       "  color: #000000;\n",
       "}\n",
       "</style>\n",
       "<table id=\"T_44d7f\">\n",
       "  <thead>\n",
       "    <tr>\n",
       "      <th class=\"blank level0\" >&nbsp;</th>\n",
       "      <th id=\"T_44d7f_level0_col0\" class=\"col_heading level0 col0\" >jp_sales</th>\n",
       "    </tr>\n",
       "    <tr>\n",
       "      <th class=\"index_name level0\" >genre</th>\n",
       "      <th class=\"blank col0\" >&nbsp;</th>\n",
       "    </tr>\n",
       "  </thead>\n",
       "  <tbody>\n",
       "    <tr>\n",
       "      <th id=\"T_44d7f_level0_row0\" class=\"row_heading level0 row0\" >Role-Playing</th>\n",
       "      <td id=\"T_44d7f_row0_col0\" class=\"data row0 col0\" >53.937500</td>\n",
       "    </tr>\n",
       "    <tr>\n",
       "      <th id=\"T_44d7f_level0_row1\" class=\"row_heading level0 row1\" >Action</th>\n",
       "      <td id=\"T_44d7f_row1_col0\" class=\"data row1 col0\" >37.687500</td>\n",
       "    </tr>\n",
       "    <tr>\n",
       "      <th id=\"T_44d7f_level0_row2\" class=\"row_heading level0 row2\" >Misc</th>\n",
       "      <td id=\"T_44d7f_row2_col0\" class=\"data row2 col0\" >11.179688</td>\n",
       "    </tr>\n",
       "    <tr>\n",
       "      <th id=\"T_44d7f_level0_row3\" class=\"row_heading level0 row3\" >Simulation</th>\n",
       "      <td id=\"T_44d7f_row3_col0\" class=\"data row3 col0\" >9.671875</td>\n",
       "    </tr>\n",
       "    <tr>\n",
       "      <th id=\"T_44d7f_level0_row4\" class=\"row_heading level0 row4\" >Platform</th>\n",
       "      <td id=\"T_44d7f_row4_col0\" class=\"data row4 col0\" >8.546875</td>\n",
       "    </tr>\n",
       "  </tbody>\n",
       "</table>\n"
      ],
      "text/plain": [
       "<pandas.io.formats.style.Styler at 0x7fce84809c70>"
      ]
     },
     "metadata": {},
     "output_type": "display_data"
    },
    {
     "data": {
      "image/png": "[encoded data removed]",
      "text/plain": [
       "<Figure size 864x360 with 1 Axes>"
      ]
     },
     "metadata": {
      "needs_background": "light"
     },
     "output_type": "display_data"
    }
   ],
   "source": [
    "# собираем график для каждого региона по очереди, так как в единой сводной таблице столбцы с регионами могут перемешаться\n",
    "\n",
    "# ax присваиваем None, чтобы работал сбор графиков в один (в первый по очереди график ничего не добавится)\n",
    "ax = None\n",
    "\n",
    "# добавляем подпись по оси Х\n",
    "xticks = range(len(actual_data['genre'].unique()))\n",
    "\n",
    "for region_column in regions.keys():\n",
    "    # выводим таблицу с топ-5 жаниров в регионе\n",
    "    # сортируем по убыванию\n",
    "    # добавляем закрашивание цветом с одинаковыми диапазонами цветов, чтобы легче визуально разделять цифры в таблице\n",
    "    display(\n",
    "        actual_data.pivot_table(\n",
    "            index=['genre'], values=region_column, aggfunc='sum'\n",
    "        ).sort_values(by=region_column, ascending=False).head(5).style.background_gradient(\n",
    "            cmap='BuGn', vmin=0, vmax=100\n",
    "        )\n",
    "    )\n",
    "    # добавляем данные региона в общий график\n",
    "    # переименовываем столбец со значениями, чтобы линии на графике отображали название региона\n",
    "    ax = actual_data.pivot_table(\n",
    "        index=['genre'], values=region_column, aggfunc='sum'\n",
    "    ).rename(columns={region_column: regions[region_column]}).plot(\n",
    "        grid=True, figsize=(12, 5), legend=True, xticks=xticks, ax=ax\n",
    "    )\n",
    "\n",
    "# отдельно подписываем график\n",
    "ax.set(\n",
    "    xlabel='Жанры', \n",
    "    ylabel='Количество проданных копий, млн шт', \n",
    "    title='Суммарные продажи игр разного жанра в разных регионах за актуальный период'\n",
    ")\n",
    "plt.show()"
   ]
  },
  {
   "cell_type": "markdown",
   "metadata": {},
   "source": [
    "Вывод:\n",
    "\n",
    "- Наиболее популярные жанры игр в регионах за актуальный период:\n",
    "    - `NA`: `Action`, `Shooter`, `Role-Playing`, `Sports`, `Platform`.\n",
    "    - `EU`: `Action`, `Shooter`, `Sports`, `Role-Playing`, `Platform`.\n",
    "    - `JP`: `Role-Playing`, `Action`, `Misc`, `Simulation`, `Platform`.\n",
    "- Можно отметить, что игры жанров `Action`, `Role-Playing`, `Platform` пользовались популярностью во всех регионах, везде присутствуют в топ-5 суммарных продаж.\n",
    "- В `NA` и `EU` регионах больше всего продавалось игр жанра `Action`. Продано около 85.9 и 84.1 млн копий соответственно.\n",
    "- Чуть меньше в этих регионах продалось игр жанра `Shooter` (77.7 и 67.6 млн копий соответственно).\n",
    "- Меньше всего в этих регионах продавалось игр на платформе `PSP`. Меньше 1 млн копий.\n",
    "- В `JP` регионе больше всего продавалось игр жанра `Role-Playing`. Продано 53.9 млн копий.\n",
    "- Меньше всего во всех регионах продавалось игр жанра `Puzzle`, по около 2 млн копий. Также в регионе `JP` суммарно мало продаж собрали игры жанров `Racing` и `Strategy` (около 2-3 млн копий)."
   ]
  },
  {
   "cell_type": "markdown",
   "metadata": {},
   "source": [
    "### Анализ влияния рейтинга ESRB на продажи <a id=\"sales_by_rating\">"
   ]
  },
  {
   "cell_type": "markdown",
   "metadata": {},
   "source": [
    "Для начала заменим нулевые значения продаж в датасете на пропуски. Чтобы в статистике отображались только игры, которые хотя бы в 1 экземпляре были проданы в анализируемом регионе."
   ]
  },
  {
   "cell_type": "code",
   "execution_count": 44,
   "metadata": {},
   "outputs": [],
   "source": [
    "def change_sales(row, region_columns):\n",
    "    '''\n",
    "    функция принимает: строку датасета, список столбцов данных регионов и их названий\n",
    "    функция возвращает: пропуск, если значение было нулевое, или исходное в противном случае\n",
    "    '''\n",
    "    for region_column in region_columns:\n",
    "        if row[region_column] == 0:\n",
    "            row[region_column] = np.nan\n",
    "    return row\n",
    "\n",
    "# собираем отдельный датасет с данными по регионам\n",
    "# заменяем все нулевые продажи в регионах пустыми значениями, чтобы они не учитывались в статистике\n",
    "regions_data = actual_data.apply(change_sales, axis=1, region_columns=regions.keys())"
   ]
  },
  {
   "cell_type": "markdown",
   "metadata": {},
   "source": [
    "Построим гистограммы с количеством выпущенных игр и диаграммы размаха продаж игр с разным рейтингом ESRB в каждом регионе за актуальный период."
   ]
  },
  {
   "cell_type": "code",
   "execution_count": 45,
   "metadata": {},
   "outputs": [
    {
     "data": {
      "image/png": "[encoded data removed]",
      "text/plain": [
       "<Figure size 432x288 with 1 Axes>"
      ]
     },
     "metadata": {
      "needs_background": "light"
     },
     "output_type": "display_data"
    },
    {
     "data": {
      "image/png": "[encoded data removed]",
      "text/plain": [
       "<Figure size 432x288 with 1 Axes>"
      ]
     },
     "metadata": {
      "needs_background": "light"
     },
     "output_type": "display_data"
    },
    {
     "data": {
      "image/png": "[encoded data removed]",
      "text/plain": [
       "<Figure size 432x288 with 1 Axes>"
      ]
     },
     "metadata": {
      "needs_background": "light"
     },
     "output_type": "display_data"
    },
    {
     "data": {
      "image/png": "[encoded data removed]",
      "text/plain": [
       "<Figure size 432x288 with 1 Axes>"
      ]
     },
     "metadata": {
      "needs_background": "light"
     },
     "output_type": "display_data"
    },
    {
     "data": {
      "image/png": "[encoded data removed]",
      "text/plain": [
       "<Figure size 432x288 with 1 Axes>"
      ]
     },
     "metadata": {
      "needs_background": "light"
     },
     "output_type": "display_data"
    },
    {
     "data": {
      "image/png": "[encoded data removed]",
      "text/plain": [
       "<Figure size 432x288 with 1 Axes>"
      ]
     },
     "metadata": {
      "needs_background": "light"
     },
     "output_type": "display_data"
    }
   ],
   "source": [
    "for region_column in regions.keys():\n",
    "    # выносим данные по региону в отдельный датасет для удобства\n",
    "    # удаляем все строки с пустыми значениями в датасете региона\n",
    "    region_data = regions_data.dropna(subset=[region_column])\n",
    "\n",
    "    # собираем и рисуем графики\n",
    "\n",
    "    # количество корзин в гистограмме = количество значений рейтинга у анализируемого региона\n",
    "    ax1 = region_data['rating'].hist(\n",
    "        bins=len(region_data['rating'].unique()), grid=True\n",
    "    ).set(\n",
    "        xlabel='Рейтинг ESRB', \n",
    "        ylabel='Количество игр, шт', \n",
    "        title='Количество игр с разным рейтингом в регионе '+regions[region_column]\n",
    "    )\n",
    "    ax2 = region_data.boxplot(\n",
    "        # не отображаем выбросы на графике, чтобы удобнее следить за более полезными значениями\n",
    "        by='rating', column=region_column, grid=True, vert=True, showfliers=False\n",
    "    ).set(title='Медианы продаж игр с разным рейтингом в регионе '+regions[region_column])\n",
    "    plt.show()"
   ]
  },
  {
   "cell_type": "markdown",
   "metadata": {},
   "source": [
    "Вывод:\n",
    "\n",
    "- В регионах `NA` и `EU` было больше всего выпущено и лучше всего продавались игры с рейтингом `M` (по примерно по 320 шт и часто встречаемое количество продаваемых копий меньше 1 млн и 900 тысяч соответственно). \n",
    "- В регионе `NA` хуже всего продавались игры с рейтином `T` (часто встречаемое количество проданных копий меньше 200 тысяч). При этом количество игр с таким рейтингом было выпущено чуть меньше топового рейтинга `M` (примерно 300 шт).\n",
    "- В регионе `EU` было меньше всего выпущено и хуже всего продавались игры без рейтинга (примерно 100 шт и часто встречаемое количество проданных копий меньше 100 тысяч). Следующий рейтинг с наименьшими продажами игр - `T` (выпущено примерно 300 игр, а копий часто продавалось меньше 180 тысяч).\n",
    "- В регионе `JP` больше всего было выпущено игр без рейтинга (около 650 шт). При этом такие игры продавались хуже всего (часто встречаемое количество проданный копий меньше 90 тысяч). Следующий рейтинг с наименьшими продажами игр - `M` (выпущено около 140 игр, а копий часто продавалось меньше 100 тысяч).\n",
    "- Лучше всего в регионе `JP` продавались игры с рейтингом `E`. При почти самом маленьком количестве выпущенных игр (около 100), часто встречаемое количество проданных копий меньше 310 тысяч."
   ]
  },
  {
   "cell_type": "markdown",
   "metadata": {},
   "source": [
    "## Проверка гипотез <a id=\"hypothesis\">"
   ]
  },
  {
   "cell_type": "markdown",
   "metadata": {},
   "source": [
    "### Сравнение пользовательских рейтингов платформ `Xbox One` и `PC` <a id=\"check_platforms\">"
   ]
  },
  {
   "cell_type": "markdown",
   "metadata": {},
   "source": [
    "Существует предположение, что средние пользовательские рейтинги платформ `Xbox One` и `PC` одинаковые. Сформулируем гипотезы для проверки:\n",
    "- Н0 (нулевая гипотеза): средние пользовательские рейтинги платформ `Xbox One` и `PC` не отличаются.\n",
    "- Н1 (альтернативная гипотеза): средние оценки пользователей на этих платформах отличаются в любую из сторон (больше или меньше друг друга)\n",
    "\n",
    "Дополнительная информация для анализа:\n",
    "- Для сравнения будем использовать использовать t-тест. \n",
    "- Уровень критической значимости будем считать равным 5%. \n",
    "- Данные используем за актуальный период.\n",
    "\n",
    "Для начала проверим размер выборок. "
   ]
  },
  {
   "cell_type": "code",
   "execution_count": 46,
   "metadata": {},
   "outputs": [
    {
     "name": "stdout",
     "output_type": "stream",
     "text": [
      "Количество игр на платформе XOne = 247\n",
      "Количество игр на платформе PC = 255\n"
     ]
    }
   ],
   "source": [
    "for platform in ['XOne', 'PC']:\n",
    "    print('Количество игр на платформе', platform, '=', actual_data[actual_data['platform'] == platform]['name'].count())"
   ]
  },
  {
   "cell_type": "markdown",
   "metadata": {},
   "source": [
    "Количество игр в обоих выборках примерно одинаковое, поэтому будем сравнивать данные предполагая, что у выборок равная дисперсия. Проверим гипотезу:"
   ]
  },
  {
   "cell_type": "code",
   "execution_count": 47,
   "metadata": {},
   "outputs": [
    {
     "name": "stdout",
     "output_type": "stream",
     "text": [
      "p-значение: 0.0006865107734821852\n",
      "Отвергаем нулевую гипотезу\n"
     ]
    }
   ],
   "source": [
    "alpha = .05 # уровень статистической значимости\n",
    "results = st.ttest_ind(\n",
    "    actual_data[actual_data['platform'] == 'XOne']['user_score'], \n",
    "    actual_data[actual_data['platform'] == 'PC']['user_score'], \n",
    "    equal_var=True\n",
    ")\n",
    "\n",
    "print('p-значение:', results.pvalue)\n",
    "\n",
    "# отвергаем гипотезу только тогда, когда выборочное среднее значимо меньше предполагаемого значения\n",
    "if results.pvalue < alpha:\n",
    "    print(\"Отвергаем нулевую гипотезу\")\n",
    "else:\n",
    "    print(\"Не отвергаем нулевую гипотезу\") "
   ]
  },
  {
   "cell_type": "markdown",
   "metadata": {},
   "source": [
    "Гипотеза не подтвердилась. Cредние пользовательские рейтинги платформ `Xbox One` и `PC` сильно отличаются."
   ]
  },
  {
   "cell_type": "markdown",
   "metadata": {},
   "source": [
    "### Сравнение пользовательских рейтингов жанров `Action` и `Sports` <a id=\"check_genres\">"
   ]
  },
  {
   "cell_type": "markdown",
   "metadata": {},
   "source": [
    "Существует предположение, что пользовательские рейтинги жанров `Action` и `Sports` разные. Сформулируем гипотезы для проверки:\n",
    "- Н0 (нулевая гипотеза): пользовательские рейтинги жанров `Action` и `Sports` отличаются.\n",
    "- Н1 (альтернативная гипотеза): оценки пользователей на этих платформах не отличаются.\n",
    "\n",
    "Проверим размер выборок."
   ]
  },
  {
   "cell_type": "code",
   "execution_count": 48,
   "metadata": {},
   "outputs": [
    {
     "name": "stdout",
     "output_type": "stream",
     "text": [
      "Количество игр в жанре Action = 729\n",
      "Количество игр в жанре Sports = 152\n"
     ]
    }
   ],
   "source": [
    "for genre in ['Action', 'Sports']:\n",
    "    print('Количество игр в жанре', genre, '=', actual_data[actual_data['genre'] == genre]['name'].count())"
   ]
  },
  {
   "cell_type": "markdown",
   "metadata": {},
   "source": [
    "Выборки значительно отличаются по размеру, примерно в 5 раз. Поэтому будем сравнивать данные предполагая, что у выборок может быть неравная дисперсия."
   ]
  },
  {
   "cell_type": "code",
   "execution_count": 49,
   "metadata": {},
   "outputs": [
    {
     "name": "stdout",
     "output_type": "stream",
     "text": [
      "p-значение: 0.0\n",
      "Не отвергаем нулевую гипотезу\n"
     ]
    }
   ],
   "source": [
    "results = st.ttest_ind(\n",
    "    actual_data[actual_data['genre'] == 'Action']['user_score'], \n",
    "    actual_data[actual_data['genre'] == 'Sports']['user_score'], \n",
    "    equal_var=False\n",
    ")\n",
    "\n",
    "print('p-значение:', results.pvalue)\n",
    "\n",
    "# отвергаем гипотезу только тогда, когда выборочное среднее значимо больше предполагаемого значения\n",
    "if results.pvalue > alpha:\n",
    "    print(\"Отвергаем нулевую гипотезу\")\n",
    "else:\n",
    "    print(\"Не отвергаем нулевую гипотезу\") "
   ]
  },
  {
   "cell_type": "markdown",
   "metadata": {},
   "source": [
    "Так как для анализа использовалась вся генеральная совокупность данных, то можно утверждать, что гипотеза может быть подтверждена. Средние пользовательские рейтинги жанров `Action` и `Sports` отличаются. "
   ]
  },
  {
   "cell_type": "markdown",
   "metadata": {},
   "source": [
    "## Общий вывод <a id=\"total\">"
   ]
  },
  {
   "cell_type": "markdown",
   "metadata": {},
   "source": [
    "Общие данные:\n",
    "\n",
    "- В данных было найдено довольно много пропусков. Большинство из них было заполнено на основе предположений и значений похожих игр.\n",
    "- Было найдено 2 строки с пустыми названиями и жанрами игр, выпущенных в 1993 на платформе `GEN`. Возможно, стоит разобраться подробнее, в чем могла быть причина потери данных. \n",
    "- Строки с незаполненными пропусками в годах выпуска, которые не удалось восстановить, были удалены, их оставалось меньше 1% от всего датасета.\n",
    "- В столбце с оценками пользователей было проставлено значение `tbd`. Оно было приравнено к пропуску, так как предположительно означает `to be determined` (значения будут объявлены позже).\n",
    "- Все пропуски в оценках пользователей и критиков были заполнены. Но так как их было доволько много (примерно 51-55% от всего датасета), то данные в дальнейшем анализе могли исказиться. \n",
    "- Так как ESRB оценивает игры, которые выпускаются в США и Канаде, то пропущенные значения в играх, которые не продавались в Северной Америке, не были заполнены. \n",
    "\n",
    "Анализ годов выпуска и популярности платформ:\n",
    "\n",
    "- До 1993 года выпускалось крайне мало игр, относительно остальной выборки. Эти данные можно отнести к выбросам.\n",
    "- Распределение количества игр в разные годы нормальное.\n",
    "- Большая часть игр была выпущена в 2007-2011 годах. \n",
    "- Пики значений в 2008-2009. Было выпщено около 1450 штук в каждый. В 2008 было чуть больше.\n",
    "- До 2008 года количество игр практически равномерно растет. После 2010 начинается постепенный спад. А в 2012 году заметно резкое падение количества выпускаемых игр, почти в 1.5 раза, по сравнению с предыдущим годом.\n",
    "- Игры для каждой платформы выпускаются примерно по 9-12 лет. В середине периода (3-7 годы) они пользуются популярностью. Далее количество выпускаемых игр резко уменьшается. По истечению этого срока они теряют популярность вовсе.\n",
    "- Пик количества выпущенных игр в год присутствует на платформе DS в 2008 году (почти 500 игр).\n",
    "\n",
    "Анализ потенциально прибыльных платформ в актуальный период:\n",
    "\n",
    "- За актуальный период были взяты 2012-2016 годы. \n",
    "- Также так как было заметно падение спроса на платформы `DS`, `PS3`, `Wii`, `X360`, то они не учитывались в дальнейшем анализе.\n",
    "- За последние 5 лет игры перестали выпускать на платформах `DS` и `PSP`.\n",
    "- На платформах `3DS`, `PS3`, `Wii`, `X360` наблюдалось уменьшение количества выпускаемых игр.\n",
    "- На платформах `PSV` и `WiiU` наблюдалось небольшое увеличение, но после 2015 и 2013 годов соответственно количество выпускаемых игр уменьшается.\n",
    "- На `PC` до 2013 года наблюдалось падение количества выпускаемых игр. Далее количество растет. Но так как рост незначительный, и количество игр, выпущенных в 2016, меньше, чем количество игр, выпущенных в 2012, то предлагаю не учитывать эту платформу как потенциально прибыльную. Тем более, что в 2016 на `PS4`, `PSV` и `XOne` игр было выпущено больше.\n",
    "- Как самые потенциально прибыльные платформы можно выделить `PS4` и `XOne`. Они обе появились в 2013 году, и с тех пор показывали рост количества выпускаемых игр. Если учитывать, что платформы в среднем пользуются спросом 9-12 лет, и в 3-7 годы показывают пик количества издаваемых игр, то эти платформы могут еще несколько лет показывать хорошие результаты. Кажется, лучше запустить рекламные кампании для них.\n",
    "- За последние годы суммарные продажи на всех платформах, кроме `PS4` и `XOne`, падали. На `PS4` и `XOne` продали больше всех копий за последние 3 года.\n",
    "- Лидер по продажам: `PS4`. За полный 2015 год на нем было продано около 120 млн копий. Что в 2 раза больше, чем на `XOne`.\n",
    "- Количество копий на лидирующих платформах за 2016 год чуть ниже, чем в 2015. Это может быть связано с тем, что данные за 2016 неполные.\n",
    "- Суммарное количество продаж подтверждает выбор `PS4` и `XOne` как потенциально прибыльных платформ. В приоритете стоит рассмотреть `PS4`.\n",
    "- Хуже всего продавались игры на платформах `PSP` и `PSV`. \n",
    "- Лучше всего продавались игры на платформе `PS4`. Чуть хуже на платформах `Wii` и `XOne`.\n",
    "\n",
    "Зависимость продаж от оценок критиков и пользователей:\n",
    "\n",
    "- Для анализа были взяты потенциально популярные платформы `PS4`, `XOne` и `3DS`.\n",
    "- Связь роста продаж от роста оценки критиков слабо положительная. При росте оценки критиков, возможно, количество продаж тоже вырастет, но маловероятно.\n",
    "- Связь роста продаж от роста оценки пользователей очень слабая или отсутствует вовсе.\n",
    "- Больше всего копий продается у игр с оценками критиков 68 и 72, или оценками пользователей 7.3, 7.5 или 7.8.\n",
    "- При этом есть некоторые игры, которые в единичных случаях продавались в аномально большом количестве копий, имея другие оценки.\n",
    "- Также стоит помнить, что в большей половине датасета были пропущены и заменены значения в оценках, что могло значительно повлиять на выводы.\n",
    "\n",
    "Анализ распределения игр по жанрам:\n",
    "\n",
    "- Количество выпущенных игр не всегда напрямую влияет на количество суммарных продаж каждой игры на определенной платформе. Например, в жанре `Action` было выпущено больше всего игр, а часто встречающееся количество проданных копий меньше, чем у практически половины других жанров.\n",
    "- Больше всего продаж собирают игры в жанре `Shooter`.\n",
    "- Меньше всего выпущено игр и продается копий в жанре `Puzzle`.\n",
    "\n",
    "Портреты пользователей в регионах:\n",
    "\n",
    "- Наиболее популярные платформы в регионах в актуальный период:\n",
    "    - `NA`: `PS4`, `XOne`, `3DS`, `WiiU`, `PC`.\n",
    "    - `EU`: `PS4`, `XOne`, `3DS`, `PC`, `WiiU`.\n",
    "    - `JP`: `3DS`, `PSV`, `PS4`, `WiiU`, `PSP`.\n",
    "- Можно отметить, что игры на платформах `PS4`, `3DS`, `WiiU` пользовались популярностью во всех регионах, везде присутствуют в топ-5 медиан продаж.\n",
    "- В `NA` и `EU` регионах больше всего продавалось игр на платформе `PS4`. Чуть меньше в этих регионах продалось игр на платформе `XOne`. Меньше всего в этих регионах продавалось игр на платформе `PSP`.\n",
    "- В `JP` регионе больше всего продавалось игр на платформе `3DS`. Меньше всего в этом регионе продавалось игр на платформах `PC` и `XOne`.\n",
    "- Также можно отметить, что общие продажи в регионах `NA` и `EU` примерно одинаковые, и значительно выше, чем в регионе `JP`.\n",
    "- Наиболее популярные жанры игр в регионах за актуальный период:\n",
    "    - `NA`: `Action`, `Shooter`, `Role-Playing`, `Sports`, `Platform`.\n",
    "    - `EU`: `Action`, `Shooter`, `Sports`, `Role-Playing`, `Platform`.\n",
    "    - `JP`: `Role-Playing`, `Action`, `Misc`, `Simulation`, `Platform`.\n",
    "- Можно отметить, что игры жанров `Action`, `Role-Playing`, `Platform` пользовались популярностью во всех регионах, везде присутствуют в топ-5 суммарных продаж.\n",
    "- В `NA` и `EU` регионах больше всего продавалось игр жанра `Action`. Чуть меньше в этих регионах продалось игр жанра `Shooter`. Меньше всего в этих регионах продавалось игр на платформе `PSP`.\n",
    "- В `JP` регионе больше всего продавалось игр жанра `Role-Playing`.\n",
    "- Меньше всего во всех регионах продавалось игр жанра `Puzzle`. Также в регионе `JP` суммарно мало продаж собрали игры жанров `Racing` и `Strategy`.\n",
    "- В регионах `NA` и `EU` было больше всего выпущено и лучше всего продавались игры с рейтингом `M`.\n",
    "- В регионе `NA` хуже всего продавались игры с рейтином `T`.\n",
    "- В регионе `EU` было меньше всего выпущено и хуже всего продавались игры без рейтинга. Следующий рейтинг с наименьшими продажами игр - `T`.\n",
    "- В регионе `JP` больше всего было выпущено игр без рейтинга. При этом такие игры продавались хуже всего. Следующий рейтинг с наименьшими продажами игр - `M`.\n",
    "- Лучше всего в регионе `JP` продавались игры с рейтингом `E`.\n",
    "\n",
    "Проверка гипотез:\n",
    "- Cредние пользовательские рейтинги платформ `Xbox One` и `PC` не равны.\n",
    "- Средние пользовательские рейтинги жанров `Action` и `Sports` отличаются. "
   ]
  }
 ],
 "metadata": {
  "ExecuteTimeLog": [
   {
    "duration": 45,
    "start_time": "2022-08-15T18:02:24.103Z"
   },
   {
    "duration": 1093,
    "start_time": "2022-08-15T18:02:41.231Z"
   },
   {
    "duration": 2,
    "start_time": "2022-08-15T18:02:42.326Z"
   },
   {
    "duration": 194,
    "start_time": "2022-08-15T18:02:42.329Z"
   },
   {
    "duration": 21,
    "start_time": "2022-08-15T18:02:42.524Z"
   },
   {
    "duration": 43,
    "start_time": "2022-08-15T18:02:42.547Z"
   },
   {
    "duration": 2,
    "start_time": "2022-08-15T18:02:42.592Z"
   },
   {
    "duration": 19,
    "start_time": "2022-08-15T18:02:42.596Z"
   },
   {
    "duration": 4,
    "start_time": "2022-08-15T18:02:42.616Z"
   },
   {
    "duration": 13,
    "start_time": "2022-08-15T18:02:42.622Z"
   },
   {
    "duration": 7,
    "start_time": "2022-08-15T18:02:42.636Z"
   },
   {
    "duration": 25,
    "start_time": "2022-08-15T18:02:42.645Z"
   },
   {
    "duration": 6,
    "start_time": "2022-08-15T18:02:42.672Z"
   },
   {
    "duration": 36,
    "start_time": "2022-08-15T18:02:42.679Z"
   },
   {
    "duration": 6,
    "start_time": "2022-08-15T18:02:42.717Z"
   },
   {
    "duration": 352,
    "start_time": "2022-08-15T18:02:42.724Z"
   },
   {
    "duration": 6,
    "start_time": "2022-08-15T18:02:43.078Z"
   },
   {
    "duration": 26,
    "start_time": "2022-08-15T18:02:43.085Z"
   },
   {
    "duration": 61,
    "start_time": "2022-08-15T18:02:43.112Z"
   },
   {
    "duration": 165,
    "start_time": "2022-08-15T18:02:43.175Z"
   },
   {
    "duration": 19018,
    "start_time": "2022-08-15T18:02:43.342Z"
   },
   {
    "duration": 2490,
    "start_time": "2022-08-15T18:03:02.362Z"
   },
   {
    "duration": 72,
    "start_time": "2022-08-15T18:03:04.854Z"
   },
   {
    "duration": 10719,
    "start_time": "2022-08-15T18:03:04.928Z"
   },
   {
    "duration": 21633,
    "start_time": "2022-08-15T18:03:15.648Z"
   },
   {
    "duration": 57,
    "start_time": "2022-08-15T18:03:37.282Z"
   },
   {
    "duration": 7,
    "start_time": "2022-08-15T18:03:37.340Z"
   },
   {
    "duration": 23,
    "start_time": "2022-08-15T18:03:37.348Z"
   },
   {
    "duration": 26,
    "start_time": "2022-08-15T18:03:37.372Z"
   },
   {
    "duration": 132,
    "start_time": "2022-08-15T18:03:37.400Z"
   },
   {
    "duration": 147,
    "start_time": "2022-08-15T18:03:37.533Z"
   },
   {
    "duration": 15,
    "start_time": "2022-08-15T18:03:37.682Z"
   },
   {
    "duration": 318,
    "start_time": "2022-08-15T18:03:37.698Z"
   },
   {
    "duration": 598,
    "start_time": "2022-08-15T18:03:38.018Z"
   },
   {
    "duration": 220,
    "start_time": "2022-08-15T18:03:38.617Z"
   },
   {
    "duration": 317,
    "start_time": "2022-08-15T18:03:38.838Z"
   },
   {
    "duration": 257,
    "start_time": "2022-08-15T18:03:39.157Z"
   },
   {
    "duration": 6,
    "start_time": "2022-08-15T18:03:39.415Z"
   },
   {
    "duration": 355,
    "start_time": "2022-08-15T18:03:39.422Z"
   },
   {
    "duration": 88,
    "start_time": "2022-08-15T18:03:39.778Z"
   },
   {
    "duration": 0,
    "start_time": "2022-08-15T18:03:39.868Z"
   },
   {
    "duration": 0,
    "start_time": "2022-08-15T18:03:39.870Z"
   },
   {
    "duration": 0,
    "start_time": "2022-08-15T18:03:39.871Z"
   },
   {
    "duration": 0,
    "start_time": "2022-08-15T18:03:39.871Z"
   },
   {
    "duration": 0,
    "start_time": "2022-08-15T18:03:39.873Z"
   },
   {
    "duration": 0,
    "start_time": "2022-08-15T18:03:39.874Z"
   },
   {
    "duration": 0,
    "start_time": "2022-08-15T18:03:39.875Z"
   },
   {
    "duration": 0,
    "start_time": "2022-08-15T18:03:39.876Z"
   },
   {
    "duration": 82,
    "start_time": "2022-08-15T18:04:06.464Z"
   },
   {
    "duration": 1024,
    "start_time": "2022-08-15T18:04:19.592Z"
   },
   {
    "duration": 2,
    "start_time": "2022-08-15T18:04:20.618Z"
   },
   {
    "duration": 65,
    "start_time": "2022-08-15T18:04:20.621Z"
   },
   {
    "duration": 21,
    "start_time": "2022-08-15T18:04:20.688Z"
   },
   {
    "duration": 44,
    "start_time": "2022-08-15T18:04:20.710Z"
   },
   {
    "duration": 3,
    "start_time": "2022-08-15T18:04:20.756Z"
   },
   {
    "duration": 14,
    "start_time": "2022-08-15T18:04:20.761Z"
   },
   {
    "duration": 5,
    "start_time": "2022-08-15T18:04:20.777Z"
   },
   {
    "duration": 9,
    "start_time": "2022-08-15T18:04:20.806Z"
   },
   {
    "duration": 8,
    "start_time": "2022-08-15T18:04:20.817Z"
   },
   {
    "duration": 28,
    "start_time": "2022-08-15T18:04:20.826Z"
   },
   {
    "duration": 7,
    "start_time": "2022-08-15T18:04:20.855Z"
   },
   {
    "duration": 19,
    "start_time": "2022-08-15T18:04:20.863Z"
   },
   {
    "duration": 27,
    "start_time": "2022-08-15T18:04:20.883Z"
   },
   {
    "duration": 353,
    "start_time": "2022-08-15T18:04:20.912Z"
   },
   {
    "duration": 6,
    "start_time": "2022-08-15T18:04:21.266Z"
   },
   {
    "duration": 14,
    "start_time": "2022-08-15T18:04:21.274Z"
   },
   {
    "duration": 72,
    "start_time": "2022-08-15T18:04:21.289Z"
   },
   {
    "duration": 163,
    "start_time": "2022-08-15T18:04:21.362Z"
   },
   {
    "duration": 18845,
    "start_time": "2022-08-15T18:04:21.526Z"
   },
   {
    "duration": 2534,
    "start_time": "2022-08-15T18:04:40.373Z"
   },
   {
    "duration": 64,
    "start_time": "2022-08-15T18:04:42.909Z"
   },
   {
    "duration": 10651,
    "start_time": "2022-08-15T18:04:42.975Z"
   },
   {
    "duration": 20760,
    "start_time": "2022-08-15T18:04:53.628Z"
   },
   {
    "duration": 53,
    "start_time": "2022-08-15T18:05:14.389Z"
   },
   {
    "duration": 6,
    "start_time": "2022-08-15T18:05:14.444Z"
   },
   {
    "duration": 16,
    "start_time": "2022-08-15T18:05:14.451Z"
   },
   {
    "duration": 3,
    "start_time": "2022-08-15T18:05:14.470Z"
   },
   {
    "duration": 126,
    "start_time": "2022-08-15T18:05:14.475Z"
   },
   {
    "duration": 140,
    "start_time": "2022-08-15T18:05:14.605Z"
   },
   {
    "duration": 15,
    "start_time": "2022-08-15T18:05:14.746Z"
   },
   {
    "duration": 322,
    "start_time": "2022-08-15T18:05:14.762Z"
   },
   {
    "duration": 626,
    "start_time": "2022-08-15T18:05:15.086Z"
   },
   {
    "duration": 231,
    "start_time": "2022-08-15T18:05:15.714Z"
   },
   {
    "duration": 389,
    "start_time": "2022-08-15T18:05:15.947Z"
   },
   {
    "duration": 259,
    "start_time": "2022-08-15T18:05:16.338Z"
   },
   {
    "duration": 10,
    "start_time": "2022-08-15T18:05:16.599Z"
   },
   {
    "duration": 355,
    "start_time": "2022-08-15T18:05:16.610Z"
   },
   {
    "duration": 77,
    "start_time": "2022-08-15T18:05:16.967Z"
   },
   {
    "duration": 33,
    "start_time": "2022-08-15T18:05:17.045Z"
   },
   {
    "duration": 1411,
    "start_time": "2022-08-15T18:05:17.079Z"
   },
   {
    "duration": 158,
    "start_time": "2022-08-15T18:05:18.491Z"
   },
   {
    "duration": 8,
    "start_time": "2022-08-15T18:05:18.650Z"
   },
   {
    "duration": 28,
    "start_time": "2022-08-15T18:05:18.659Z"
   },
   {
    "duration": 12,
    "start_time": "2022-08-15T18:05:18.688Z"
   },
   {
    "duration": 7,
    "start_time": "2022-08-15T18:05:18.702Z"
   },
   {
    "duration": 1280,
    "start_time": "2022-08-16T12:39:02.401Z"
   },
   {
    "duration": 3,
    "start_time": "2022-08-16T12:39:03.683Z"
   },
   {
    "duration": 114,
    "start_time": "2022-08-16T12:39:03.688Z"
   },
   {
    "duration": 39,
    "start_time": "2022-08-16T12:39:03.805Z"
   },
   {
    "duration": 74,
    "start_time": "2022-08-16T12:39:03.846Z"
   },
   {
    "duration": 5,
    "start_time": "2022-08-16T12:39:03.922Z"
   },
   {
    "duration": 29,
    "start_time": "2022-08-16T12:39:03.929Z"
   },
   {
    "duration": 8,
    "start_time": "2022-08-16T12:39:03.961Z"
   },
   {
    "duration": 44,
    "start_time": "2022-08-16T12:39:03.971Z"
   },
   {
    "duration": 11,
    "start_time": "2022-08-16T12:39:04.019Z"
   },
   {
    "duration": 41,
    "start_time": "2022-08-16T12:39:04.032Z"
   },
   {
    "duration": 24,
    "start_time": "2022-08-16T12:39:04.076Z"
   },
   {
    "duration": 22,
    "start_time": "2022-08-16T12:39:04.102Z"
   },
   {
    "duration": 9,
    "start_time": "2022-08-16T12:39:04.126Z"
   },
   {
    "duration": 473,
    "start_time": "2022-08-16T12:39:04.137Z"
   },
   {
    "duration": 11,
    "start_time": "2022-08-16T12:39:04.612Z"
   },
   {
    "duration": 32,
    "start_time": "2022-08-16T12:39:04.625Z"
   },
   {
    "duration": 176,
    "start_time": "2022-08-16T12:39:04.659Z"
   },
   {
    "duration": 339,
    "start_time": "2022-08-16T12:39:04.838Z"
   },
   {
    "duration": 22560,
    "start_time": "2022-08-16T12:39:05.180Z"
   },
   {
    "duration": 2909,
    "start_time": "2022-08-16T12:39:27.742Z"
   },
   {
    "duration": 119,
    "start_time": "2022-08-16T12:39:30.653Z"
   },
   {
    "duration": 12117,
    "start_time": "2022-08-16T12:39:30.774Z"
   },
   {
    "duration": 24891,
    "start_time": "2022-08-16T12:39:42.893Z"
   },
   {
    "duration": 78,
    "start_time": "2022-08-16T12:40:07.786Z"
   },
   {
    "duration": 8,
    "start_time": "2022-08-16T12:40:07.866Z"
   },
   {
    "duration": 33,
    "start_time": "2022-08-16T12:40:07.875Z"
   },
   {
    "duration": 4,
    "start_time": "2022-08-16T12:40:07.912Z"
   },
   {
    "duration": 158,
    "start_time": "2022-08-16T12:40:07.918Z"
   },
   {
    "duration": 163,
    "start_time": "2022-08-16T12:40:08.078Z"
   },
   {
    "duration": 15,
    "start_time": "2022-08-16T12:40:08.243Z"
   },
   {
    "duration": 358,
    "start_time": "2022-08-16T12:40:08.260Z"
   },
   {
    "duration": 694,
    "start_time": "2022-08-16T12:40:08.619Z"
   },
   {
    "duration": 251,
    "start_time": "2022-08-16T12:40:09.315Z"
   },
   {
    "duration": 344,
    "start_time": "2022-08-16T12:40:09.567Z"
   },
   {
    "duration": 279,
    "start_time": "2022-08-16T12:40:09.913Z"
   },
   {
    "duration": 6,
    "start_time": "2022-08-16T12:40:10.199Z"
   },
   {
    "duration": 458,
    "start_time": "2022-08-16T12:40:10.207Z"
   },
   {
    "duration": 88,
    "start_time": "2022-08-16T12:40:10.667Z"
   },
   {
    "duration": 55,
    "start_time": "2022-08-16T12:40:10.757Z"
   },
   {
    "duration": 1583,
    "start_time": "2022-08-16T12:40:10.814Z"
   },
   {
    "duration": 190,
    "start_time": "2022-08-16T12:40:12.398Z"
   },
   {
    "duration": 13,
    "start_time": "2022-08-16T12:40:12.589Z"
   },
   {
    "duration": 13,
    "start_time": "2022-08-16T12:40:12.603Z"
   },
   {
    "duration": 9,
    "start_time": "2022-08-16T12:40:12.617Z"
   },
   {
    "duration": 9,
    "start_time": "2022-08-16T12:40:12.627Z"
   },
   {
    "duration": 6,
    "start_time": "2022-08-16T12:52:26.938Z"
   },
   {
    "duration": 18,
    "start_time": "2022-08-16T13:04:09.978Z"
   },
   {
    "duration": 16,
    "start_time": "2022-08-16T13:04:37.460Z"
   },
   {
    "duration": 15,
    "start_time": "2022-08-16T13:04:48.234Z"
   },
   {
    "duration": 17,
    "start_time": "2022-08-16T13:04:53.968Z"
   },
   {
    "duration": 17,
    "start_time": "2022-08-16T13:05:00.734Z"
   },
   {
    "duration": 1244,
    "start_time": "2022-08-17T17:46:31.201Z"
   },
   {
    "duration": 3,
    "start_time": "2022-08-17T17:46:32.447Z"
   },
   {
    "duration": 101,
    "start_time": "2022-08-17T17:46:32.451Z"
   },
   {
    "duration": 23,
    "start_time": "2022-08-17T17:46:32.553Z"
   },
   {
    "duration": 50,
    "start_time": "2022-08-17T17:46:32.577Z"
   },
   {
    "duration": 3,
    "start_time": "2022-08-17T17:46:32.628Z"
   },
   {
    "duration": 20,
    "start_time": "2022-08-17T17:46:32.633Z"
   },
   {
    "duration": 5,
    "start_time": "2022-08-17T17:46:32.654Z"
   },
   {
    "duration": 12,
    "start_time": "2022-08-17T17:46:32.660Z"
   },
   {
    "duration": 12,
    "start_time": "2022-08-17T17:46:32.674Z"
   },
   {
    "duration": 42,
    "start_time": "2022-08-17T17:46:32.688Z"
   },
   {
    "duration": 7,
    "start_time": "2022-08-17T17:46:32.732Z"
   },
   {
    "duration": 25,
    "start_time": "2022-08-17T17:46:32.740Z"
   },
   {
    "duration": 11,
    "start_time": "2022-08-17T17:46:32.766Z"
   },
   {
    "duration": 382,
    "start_time": "2022-08-17T17:46:32.778Z"
   },
   {
    "duration": 5,
    "start_time": "2022-08-17T17:46:33.162Z"
   },
   {
    "duration": 18,
    "start_time": "2022-08-17T17:46:33.169Z"
   },
   {
    "duration": 74,
    "start_time": "2022-08-17T17:46:33.188Z"
   },
   {
    "duration": 168,
    "start_time": "2022-08-17T17:46:33.264Z"
   },
   {
    "duration": 4,
    "start_time": "2022-08-17T17:46:33.434Z"
   },
   {
    "duration": 102,
    "start_time": "2022-08-17T17:46:33.440Z"
   },
   {
    "duration": 0,
    "start_time": "2022-08-17T17:46:33.545Z"
   },
   {
    "duration": 0,
    "start_time": "2022-08-17T17:46:33.546Z"
   },
   {
    "duration": 0,
    "start_time": "2022-08-17T17:46:33.547Z"
   },
   {
    "duration": 0,
    "start_time": "2022-08-17T17:46:33.548Z"
   },
   {
    "duration": 0,
    "start_time": "2022-08-17T17:46:33.548Z"
   },
   {
    "duration": 0,
    "start_time": "2022-08-17T17:46:33.550Z"
   },
   {
    "duration": 0,
    "start_time": "2022-08-17T17:46:33.551Z"
   },
   {
    "duration": 0,
    "start_time": "2022-08-17T17:46:33.551Z"
   },
   {
    "duration": 0,
    "start_time": "2022-08-17T17:46:33.552Z"
   },
   {
    "duration": 0,
    "start_time": "2022-08-17T17:46:33.553Z"
   },
   {
    "duration": 0,
    "start_time": "2022-08-17T17:46:33.554Z"
   },
   {
    "duration": 0,
    "start_time": "2022-08-17T17:46:33.555Z"
   },
   {
    "duration": 0,
    "start_time": "2022-08-17T17:46:33.556Z"
   },
   {
    "duration": 0,
    "start_time": "2022-08-17T17:46:33.557Z"
   },
   {
    "duration": 0,
    "start_time": "2022-08-17T17:46:33.558Z"
   },
   {
    "duration": 0,
    "start_time": "2022-08-17T17:46:33.559Z"
   },
   {
    "duration": 0,
    "start_time": "2022-08-17T17:46:33.560Z"
   },
   {
    "duration": 0,
    "start_time": "2022-08-17T17:46:33.561Z"
   },
   {
    "duration": 0,
    "start_time": "2022-08-17T17:46:33.562Z"
   },
   {
    "duration": 0,
    "start_time": "2022-08-17T17:46:33.563Z"
   },
   {
    "duration": 0,
    "start_time": "2022-08-17T17:46:33.564Z"
   },
   {
    "duration": 0,
    "start_time": "2022-08-17T17:46:33.565Z"
   },
   {
    "duration": 0,
    "start_time": "2022-08-17T17:46:33.566Z"
   },
   {
    "duration": 0,
    "start_time": "2022-08-17T17:46:33.567Z"
   },
   {
    "duration": 0,
    "start_time": "2022-08-17T17:46:33.568Z"
   },
   {
    "duration": 0,
    "start_time": "2022-08-17T17:46:33.568Z"
   },
   {
    "duration": 0,
    "start_time": "2022-08-17T17:46:33.609Z"
   },
   {
    "duration": 0,
    "start_time": "2022-08-17T17:46:33.611Z"
   },
   {
    "duration": 0,
    "start_time": "2022-08-17T17:46:33.612Z"
   },
   {
    "duration": 12,
    "start_time": "2022-08-17T17:47:41.263Z"
   },
   {
    "duration": 6,
    "start_time": "2022-08-17T17:48:33.803Z"
   },
   {
    "duration": 1051,
    "start_time": "2022-08-17T17:48:38.987Z"
   },
   {
    "duration": 2,
    "start_time": "2022-08-17T17:48:40.040Z"
   },
   {
    "duration": 76,
    "start_time": "2022-08-17T17:48:40.044Z"
   },
   {
    "duration": 23,
    "start_time": "2022-08-17T17:48:40.123Z"
   },
   {
    "duration": 66,
    "start_time": "2022-08-17T17:48:40.148Z"
   },
   {
    "duration": 3,
    "start_time": "2022-08-17T17:48:40.215Z"
   },
   {
    "duration": 23,
    "start_time": "2022-08-17T17:48:40.220Z"
   },
   {
    "duration": 10,
    "start_time": "2022-08-17T17:48:40.245Z"
   },
   {
    "duration": 17,
    "start_time": "2022-08-17T17:48:40.257Z"
   },
   {
    "duration": 11,
    "start_time": "2022-08-17T17:48:40.277Z"
   },
   {
    "duration": 45,
    "start_time": "2022-08-17T17:48:40.289Z"
   },
   {
    "duration": 8,
    "start_time": "2022-08-17T17:48:40.335Z"
   },
   {
    "duration": 30,
    "start_time": "2022-08-17T17:48:40.345Z"
   },
   {
    "duration": 10,
    "start_time": "2022-08-17T17:48:40.376Z"
   },
   {
    "duration": 355,
    "start_time": "2022-08-17T17:48:40.387Z"
   },
   {
    "duration": 5,
    "start_time": "2022-08-17T17:48:40.744Z"
   },
   {
    "duration": 30,
    "start_time": "2022-08-17T17:48:40.751Z"
   },
   {
    "duration": 65,
    "start_time": "2022-08-17T17:48:40.782Z"
   },
   {
    "duration": 168,
    "start_time": "2022-08-17T17:48:40.848Z"
   },
   {
    "duration": 4,
    "start_time": "2022-08-17T17:48:41.018Z"
   },
   {
    "duration": 7,
    "start_time": "2022-08-17T17:48:41.024Z"
   },
   {
    "duration": 19313,
    "start_time": "2022-08-17T17:48:41.033Z"
   },
   {
    "duration": 2585,
    "start_time": "2022-08-17T17:49:00.347Z"
   },
   {
    "duration": 80,
    "start_time": "2022-08-17T17:49:02.934Z"
   },
   {
    "duration": 4937,
    "start_time": "2022-08-17T17:49:03.015Z"
   },
   {
    "duration": 8345,
    "start_time": "2022-08-17T17:49:07.954Z"
   },
   {
    "duration": 62,
    "start_time": "2022-08-17T17:49:16.300Z"
   },
   {
    "duration": 4,
    "start_time": "2022-08-17T17:49:16.365Z"
   },
   {
    "duration": 11,
    "start_time": "2022-08-17T17:49:16.371Z"
   },
   {
    "duration": 27,
    "start_time": "2022-08-17T17:49:16.383Z"
   },
   {
    "duration": 4,
    "start_time": "2022-08-17T17:49:16.411Z"
   },
   {
    "duration": 127,
    "start_time": "2022-08-17T17:49:16.416Z"
   },
   {
    "duration": 157,
    "start_time": "2022-08-17T17:49:16.544Z"
   },
   {
    "duration": 19,
    "start_time": "2022-08-17T17:49:16.702Z"
   },
   {
    "duration": 316,
    "start_time": "2022-08-17T17:49:16.722Z"
   },
   {
    "duration": 2,
    "start_time": "2022-08-17T17:49:17.040Z"
   },
   {
    "duration": 535,
    "start_time": "2022-08-17T17:49:17.044Z"
   },
   {
    "duration": 219,
    "start_time": "2022-08-17T17:49:17.581Z"
   },
   {
    "duration": 202,
    "start_time": "2022-08-17T17:49:17.809Z"
   },
   {
    "duration": 642,
    "start_time": "2022-08-17T17:49:18.013Z"
   },
   {
    "duration": 11,
    "start_time": "2022-08-17T17:49:18.657Z"
   },
   {
    "duration": 418,
    "start_time": "2022-08-17T17:49:18.669Z"
   },
   {
    "duration": 127,
    "start_time": "2022-08-17T17:49:19.089Z"
   },
   {
    "duration": 513,
    "start_time": "2022-08-17T17:49:19.218Z"
   },
   {
    "duration": 748,
    "start_time": "2022-08-17T17:49:19.732Z"
   },
   {
    "duration": 102,
    "start_time": "2022-08-17T17:49:20.482Z"
   },
   {
    "duration": 0,
    "start_time": "2022-08-17T17:49:20.585Z"
   },
   {
    "duration": 0,
    "start_time": "2022-08-17T17:49:20.587Z"
   },
   {
    "duration": 0,
    "start_time": "2022-08-17T17:49:20.588Z"
   },
   {
    "duration": 0,
    "start_time": "2022-08-17T17:49:20.588Z"
   },
   {
    "duration": 897,
    "start_time": "2022-08-17T17:51:06.318Z"
   },
   {
    "duration": 8,
    "start_time": "2022-08-17T17:51:13.098Z"
   },
   {
    "duration": 9,
    "start_time": "2022-08-17T17:51:15.449Z"
   },
   {
    "duration": 9,
    "start_time": "2022-08-17T17:51:26.539Z"
   },
   {
    "duration": 8,
    "start_time": "2022-08-17T17:51:28.598Z"
   }
  ],
  "kernelspec": {
   "display_name": "Python 3 (ipykernel)",
   "language": "python",
   "name": "python3"
  },
  "language_info": {
   "codemirror_mode": {
    "name": "ipython",
    "version": 3
   },
   "file_extension": ".py",
   "mimetype": "text/x-python",
   "name": "python",
   "nbconvert_exporter": "python",
   "pygments_lexer": "ipython3",
   "version": "3.9.12"
  },
  "toc": {
   "base_numbering": 1,
   "nav_menu": {},
   "number_sections": true,
   "sideBar": true,
   "skip_h1_title": true,
   "title_cell": "Table of Contents",
   "title_sidebar": "Contents",
   "toc_cell": false,
   "toc_position": {},
   "toc_section_display": true,
   "toc_window_display": false
  }
 },
 "nbformat": 4,
 "nbformat_minor": 2
}
