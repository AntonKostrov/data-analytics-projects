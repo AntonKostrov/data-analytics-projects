{
 "cells": [
  {
   "cell_type": "markdown",
   "metadata": {},
   "source": [
    "# Запуск и анализ А/В-тестов для интернет-магазина"
   ]
  },
  {
   "cell_type": "markdown",
   "metadata": {},
   "source": [
    "## Оглавление\n",
    "\n",
    "1. [Введение](#intro)\n",
    "2. [Часть 1. Приоритизация гипотез](#part1)\n",
    "    1. [Открытие данных](#open1)\n",
    "    2. [Применение фреймворка ICE и RICE](#ice)\n",
    "3. [Часть 2. Анализ А/В-теста](#part2)\n",
    "    1. [Открытие данных](#open2)\n",
    "    2. [Проверка распределения по группам](#grouping)\n",
    "    3. [Подготовка данных](#preprocessing)\n",
    "    4. [Анализ кумулятивной выручки](#revenue_cummulative)\n",
    "    5. [Анализ кумулятивного среднего чека по группам](#mean_check_cummulative)\n",
    "    6. [Анализ относительного изменения кумулятивного среднего чека группы B к группе A](#mean_check_BtoA)\n",
    "    7. [Анализ кумулятивной конверсии по группам](#conversion_cummulative)\n",
    "    8. [Анализ относительного изменения кумулятивной конверсии группы B к группе A](#conversion_BtoA)\n",
    "    9. [Анализ количества заказов по пользователям](#transactions)\n",
    "    10. [Анализ стоимостей заказов](#prices)\n",
    "    11. [Анализ статистической значимости различий в конверсии между группами по «сырым» данным](#stat_by_conversion)\n",
    "    12. [Анализ статистической значимости различий в среднем чеке заказа между группами по «сырым» данным](#stat_by_mean_check)\n",
    "    13. [Анализ статистической значимости различий в конверсии между группами по «очищенным» данным](#clean_stat_by_conversion)\n",
    "    14. [Анализ статистической значимости различий в среднем чеке заказа между группами по «очищенным» данным](#clean_stat_by_mean_check)\n",
    "4. [Общий вывод](#total)"
   ]
  },
  {
   "cell_type": "markdown",
   "metadata": {},
   "source": [
    "## Введение <a id=\"intro\">"
   ]
  },
  {
   "cell_type": "markdown",
   "metadata": {},
   "source": [
    "Вместе с отделом маркетинга крупного интернет-магазина был подготовлен список гипотез для увеличения выручки.\n",
    "\n",
    "Задача: \n",
    "- Приоритизировать гипотезы.\n",
    "- Запустить A/B-тест и проанализировать результаты."
   ]
  },
  {
   "cell_type": "markdown",
   "metadata": {},
   "source": [
    "## Часть 1. Приоритизация гипотез <a id=\"part1\">"
   ]
  },
  {
   "cell_type": "markdown",
   "metadata": {},
   "source": [
    "### Открытие данных <a id=\"open1\">"
   ]
  },
  {
   "cell_type": "markdown",
   "metadata": {},
   "source": [
    "Загрузим необходимые для работы библиотеки."
   ]
  },
  {
   "cell_type": "code",
   "execution_count": 1,
   "metadata": {},
   "outputs": [],
   "source": [
    "import pandas as pd\n",
    "import scipy.stats as stats\n",
    "import numpy as np\n",
    "import datetime as dt\n",
    "import matplotlib.pyplot as plt"
   ]
  },
  {
   "cell_type": "markdown",
   "metadata": {},
   "source": [
    "В файле `hypothesis.csv` находится 9 гипотез по увеличению выручки интернет-магазина с указанными параметрами: \n",
    "- `Reach`, \n",
    "- `Impact`, \n",
    "- `Confidence`, \n",
    "- `Effort`.\n",
    "\n",
    "Откроем файл с данными и выведем все строки из датасета."
   ]
  },
  {
   "cell_type": "code",
   "execution_count": 2,
   "metadata": {},
   "outputs": [
    {
     "data": {
      "text/html": [
       "<div>\n",
       "<style scoped>\n",
       "    .dataframe tbody tr th:only-of-type {\n",
       "        vertical-align: middle;\n",
       "    }\n",
       "\n",
       "    .dataframe tbody tr th {\n",
       "        vertical-align: top;\n",
       "    }\n",
       "\n",
       "    .dataframe thead th {\n",
       "        text-align: right;\n",
       "    }\n",
       "</style>\n",
       "<table border=\"1\" class=\"dataframe\">\n",
       "  <thead>\n",
       "    <tr style=\"text-align: right;\">\n",
       "      <th></th>\n",
       "      <th>Hypothesis</th>\n",
       "      <th>Reach</th>\n",
       "      <th>Impact</th>\n",
       "      <th>Confidence</th>\n",
       "      <th>Efforts</th>\n",
       "    </tr>\n",
       "  </thead>\n",
       "  <tbody>\n",
       "    <tr>\n",
       "      <th>0</th>\n",
       "      <td>Добавить два новых канала привлечения трафика,...</td>\n",
       "      <td>3</td>\n",
       "      <td>10</td>\n",
       "      <td>8</td>\n",
       "      <td>6</td>\n",
       "    </tr>\n",
       "    <tr>\n",
       "      <th>1</th>\n",
       "      <td>Запустить собственную службу доставки, что сок...</td>\n",
       "      <td>2</td>\n",
       "      <td>5</td>\n",
       "      <td>4</td>\n",
       "      <td>10</td>\n",
       "    </tr>\n",
       "    <tr>\n",
       "      <th>2</th>\n",
       "      <td>Добавить блоки рекомендаций товаров на сайт ин...</td>\n",
       "      <td>8</td>\n",
       "      <td>3</td>\n",
       "      <td>7</td>\n",
       "      <td>3</td>\n",
       "    </tr>\n",
       "    <tr>\n",
       "      <th>3</th>\n",
       "      <td>Изменить структура категорий, что увеличит кон...</td>\n",
       "      <td>8</td>\n",
       "      <td>3</td>\n",
       "      <td>3</td>\n",
       "      <td>8</td>\n",
       "    </tr>\n",
       "    <tr>\n",
       "      <th>4</th>\n",
       "      <td>Изменить цвет фона главной страницы, чтобы уве...</td>\n",
       "      <td>3</td>\n",
       "      <td>1</td>\n",
       "      <td>1</td>\n",
       "      <td>1</td>\n",
       "    </tr>\n",
       "    <tr>\n",
       "      <th>5</th>\n",
       "      <td>Добавить страницу отзывов клиентов о магазине,...</td>\n",
       "      <td>3</td>\n",
       "      <td>2</td>\n",
       "      <td>2</td>\n",
       "      <td>3</td>\n",
       "    </tr>\n",
       "    <tr>\n",
       "      <th>6</th>\n",
       "      <td>Показать на главной странице баннеры с актуаль...</td>\n",
       "      <td>5</td>\n",
       "      <td>3</td>\n",
       "      <td>8</td>\n",
       "      <td>3</td>\n",
       "    </tr>\n",
       "    <tr>\n",
       "      <th>7</th>\n",
       "      <td>Добавить форму подписки на все основные страни...</td>\n",
       "      <td>10</td>\n",
       "      <td>7</td>\n",
       "      <td>8</td>\n",
       "      <td>5</td>\n",
       "    </tr>\n",
       "    <tr>\n",
       "      <th>8</th>\n",
       "      <td>Запустить акцию, дающую скидку на товар в день...</td>\n",
       "      <td>1</td>\n",
       "      <td>9</td>\n",
       "      <td>9</td>\n",
       "      <td>5</td>\n",
       "    </tr>\n",
       "  </tbody>\n",
       "</table>\n",
       "</div>"
      ],
      "text/plain": [
       "                                          Hypothesis  Reach  Impact  \\\n",
       "0  Добавить два новых канала привлечения трафика,...      3      10   \n",
       "1  Запустить собственную службу доставки, что сок...      2       5   \n",
       "2  Добавить блоки рекомендаций товаров на сайт ин...      8       3   \n",
       "3  Изменить структура категорий, что увеличит кон...      8       3   \n",
       "4  Изменить цвет фона главной страницы, чтобы уве...      3       1   \n",
       "5  Добавить страницу отзывов клиентов о магазине,...      3       2   \n",
       "6  Показать на главной странице баннеры с актуаль...      5       3   \n",
       "7  Добавить форму подписки на все основные страни...     10       7   \n",
       "8  Запустить акцию, дающую скидку на товар в день...      1       9   \n",
       "\n",
       "   Confidence  Efforts  \n",
       "0           8        6  \n",
       "1           4       10  \n",
       "2           7        3  \n",
       "3           3        8  \n",
       "4           1        1  \n",
       "5           2        3  \n",
       "6           8        3  \n",
       "7           8        5  \n",
       "8           9        5  "
      ]
     },
     "execution_count": 2,
     "metadata": {},
     "output_type": "execute_result"
    }
   ],
   "source": [
    "hypothesis = pd.read_csv('hypothesis.csv')\n",
    "hypothesis"
   ]
  },
  {
   "cell_type": "markdown",
   "metadata": {},
   "source": [
    "### Применение фреймворков ICE и RICE <a id=\"ice\">"
   ]
  },
  {
   "cell_type": "markdown",
   "metadata": {},
   "source": [
    "Применим фреймворки ICE и RICE для приоритизации гипотез. Расчеты проведем по формулам:\n",
    "\n",
    "<div>\n",
    "<br/>\n",
    "$$ICE = \\frac{Impact * Confidence}{Efforts}$$\n",
    "</div>\n",
    "<div>\n",
    "<br/>\n",
    "$$RICE = \\frac{Reach * Impact * Confidence}{Efforts}$$\n",
    "</div>\n",
    "\n"
   ]
  },
  {
   "cell_type": "code",
   "execution_count": 3,
   "metadata": {},
   "outputs": [
    {
     "data": {
      "text/html": [
       "<style type=\"text/css\">\n",
       "#T_2cc88_row0_col1 {\n",
       "  background-color: #127c39;\n",
       "  color: #f1f1f1;\n",
       "}\n",
       "#T_2cc88_row0_col2, #T_2cc88_row6_col2 {\n",
       "  background-color: #acdea6;\n",
       "  color: #000000;\n",
       "}\n",
       "#T_2cc88_row1_col1 {\n",
       "  background-color: #eef8ea;\n",
       "  color: #000000;\n",
       "}\n",
       "#T_2cc88_row1_col2, #T_2cc88_row3_col1, #T_2cc88_row5_col2 {\n",
       "  background-color: #f6fcf4;\n",
       "  color: #000000;\n",
       "}\n",
       "#T_2cc88_row2_col1 {\n",
       "  background-color: #99d595;\n",
       "  color: #000000;\n",
       "}\n",
       "#T_2cc88_row2_col2 {\n",
       "  background-color: #79c67a;\n",
       "  color: #000000;\n",
       "}\n",
       "#T_2cc88_row3_col2 {\n",
       "  background-color: #eff9ec;\n",
       "  color: #000000;\n",
       "}\n",
       "#T_2cc88_row4_col1, #T_2cc88_row4_col2 {\n",
       "  background-color: #f7fcf5;\n",
       "  color: #000000;\n",
       "}\n",
       "#T_2cc88_row5_col1 {\n",
       "  background-color: #f4fbf2;\n",
       "  color: #000000;\n",
       "}\n",
       "#T_2cc88_row6_col1 {\n",
       "  background-color: #83cb82;\n",
       "  color: #000000;\n",
       "}\n",
       "#T_2cc88_row7_col1 {\n",
       "  background-color: #369f54;\n",
       "  color: #f1f1f1;\n",
       "}\n",
       "#T_2cc88_row7_col2, #T_2cc88_row8_col1 {\n",
       "  background-color: #00441b;\n",
       "  color: #f1f1f1;\n",
       "}\n",
       "#T_2cc88_row8_col2 {\n",
       "  background-color: #e5f5e1;\n",
       "  color: #000000;\n",
       "}\n",
       "</style>\n",
       "<table id=\"T_2cc88\">\n",
       "  <thead>\n",
       "    <tr>\n",
       "      <th class=\"blank level0\" >&nbsp;</th>\n",
       "      <th id=\"T_2cc88_level0_col0\" class=\"col_heading level0 col0\" >Hypothesis</th>\n",
       "      <th id=\"T_2cc88_level0_col1\" class=\"col_heading level0 col1\" >ICE</th>\n",
       "      <th id=\"T_2cc88_level0_col2\" class=\"col_heading level0 col2\" >RICE</th>\n",
       "    </tr>\n",
       "  </thead>\n",
       "  <tbody>\n",
       "    <tr>\n",
       "      <th id=\"T_2cc88_level0_row0\" class=\"row_heading level0 row0\" >0</th>\n",
       "      <td id=\"T_2cc88_row0_col0\" class=\"data row0 col0\" >Добавить два новых канала привлечения трафика, что позволит привлекать на 30% больше пользователей</td>\n",
       "      <td id=\"T_2cc88_row0_col1\" class=\"data row0 col1\" >13.333333</td>\n",
       "      <td id=\"T_2cc88_row0_col2\" class=\"data row0 col2\" >40.000000</td>\n",
       "    </tr>\n",
       "    <tr>\n",
       "      <th id=\"T_2cc88_level0_row1\" class=\"row_heading level0 row1\" >1</th>\n",
       "      <td id=\"T_2cc88_row1_col0\" class=\"data row1 col0\" >Запустить собственную службу доставки, что сократит срок доставки заказов</td>\n",
       "      <td id=\"T_2cc88_row1_col1\" class=\"data row1 col1\" >2.000000</td>\n",
       "      <td id=\"T_2cc88_row1_col2\" class=\"data row1 col2\" >4.000000</td>\n",
       "    </tr>\n",
       "    <tr>\n",
       "      <th id=\"T_2cc88_level0_row2\" class=\"row_heading level0 row2\" >2</th>\n",
       "      <td id=\"T_2cc88_row2_col0\" class=\"data row2 col0\" >Добавить блоки рекомендаций товаров на сайт интернет магазина, чтобы повысить конверсию и средний чек заказа</td>\n",
       "      <td id=\"T_2cc88_row2_col1\" class=\"data row2 col1\" >7.000000</td>\n",
       "      <td id=\"T_2cc88_row2_col2\" class=\"data row2 col2\" >56.000000</td>\n",
       "    </tr>\n",
       "    <tr>\n",
       "      <th id=\"T_2cc88_level0_row3\" class=\"row_heading level0 row3\" >3</th>\n",
       "      <td id=\"T_2cc88_row3_col0\" class=\"data row3 col0\" >Изменить структура категорий, что увеличит конверсию, т.к. пользователи быстрее найдут нужный товар</td>\n",
       "      <td id=\"T_2cc88_row3_col1\" class=\"data row3 col1\" >1.125000</td>\n",
       "      <td id=\"T_2cc88_row3_col2\" class=\"data row3 col2\" >9.000000</td>\n",
       "    </tr>\n",
       "    <tr>\n",
       "      <th id=\"T_2cc88_level0_row4\" class=\"row_heading level0 row4\" >4</th>\n",
       "      <td id=\"T_2cc88_row4_col0\" class=\"data row4 col0\" >Изменить цвет фона главной страницы, чтобы увеличить вовлеченность пользователей</td>\n",
       "      <td id=\"T_2cc88_row4_col1\" class=\"data row4 col1\" >1.000000</td>\n",
       "      <td id=\"T_2cc88_row4_col2\" class=\"data row4 col2\" >3.000000</td>\n",
       "    </tr>\n",
       "    <tr>\n",
       "      <th id=\"T_2cc88_level0_row5\" class=\"row_heading level0 row5\" >5</th>\n",
       "      <td id=\"T_2cc88_row5_col0\" class=\"data row5 col0\" >Добавить страницу отзывов клиентов о магазине, что позволит увеличить количество заказов</td>\n",
       "      <td id=\"T_2cc88_row5_col1\" class=\"data row5 col1\" >1.333333</td>\n",
       "      <td id=\"T_2cc88_row5_col2\" class=\"data row5 col2\" >4.000000</td>\n",
       "    </tr>\n",
       "    <tr>\n",
       "      <th id=\"T_2cc88_level0_row6\" class=\"row_heading level0 row6\" >6</th>\n",
       "      <td id=\"T_2cc88_row6_col0\" class=\"data row6 col0\" >Показать на главной странице баннеры с актуальными акциями и распродажами, чтобы увеличить конверсию</td>\n",
       "      <td id=\"T_2cc88_row6_col1\" class=\"data row6 col1\" >8.000000</td>\n",
       "      <td id=\"T_2cc88_row6_col2\" class=\"data row6 col2\" >40.000000</td>\n",
       "    </tr>\n",
       "    <tr>\n",
       "      <th id=\"T_2cc88_level0_row7\" class=\"row_heading level0 row7\" >7</th>\n",
       "      <td id=\"T_2cc88_row7_col0\" class=\"data row7 col0\" >Добавить форму подписки на все основные страницы, чтобы собрать базу клиентов для email-рассылок</td>\n",
       "      <td id=\"T_2cc88_row7_col1\" class=\"data row7 col1\" >11.200000</td>\n",
       "      <td id=\"T_2cc88_row7_col2\" class=\"data row7 col2\" >112.000000</td>\n",
       "    </tr>\n",
       "    <tr>\n",
       "      <th id=\"T_2cc88_level0_row8\" class=\"row_heading level0 row8\" >8</th>\n",
       "      <td id=\"T_2cc88_row8_col0\" class=\"data row8 col0\" >Запустить акцию, дающую скидку на товар в день рождения</td>\n",
       "      <td id=\"T_2cc88_row8_col1\" class=\"data row8 col1\" >16.200000</td>\n",
       "      <td id=\"T_2cc88_row8_col2\" class=\"data row8 col2\" >16.200000</td>\n",
       "    </tr>\n",
       "  </tbody>\n",
       "</table>\n"
      ],
      "text/plain": [
       "<pandas.io.formats.style.Styler at 0x7fc2f15bafd0>"
      ]
     },
     "execution_count": 3,
     "metadata": {},
     "output_type": "execute_result"
    }
   ],
   "source": [
    "def get_ice(row):\n",
    "    '''\n",
    "    функция принимает: строку из датасета\n",
    "    функция возвращает: рассчитанный фреймворк ICE\n",
    "    '''\n",
    "    return row['Impact'] * row['Confidence'] / row['Efforts']\n",
    "\n",
    "def get_rice(row):\n",
    "    '''\n",
    "    функция принимает: строку из датасета\n",
    "    функция возвращает: рассчитанный фреймворк RICE\n",
    "    '''\n",
    "    return row['Reach'] * row['Impact'] * row['Confidence'] / row['Efforts']\n",
    "\n",
    "# получаем списки с приоритетами гипотез\n",
    "hypothesis['ICE'] = hypothesis.apply(get_ice, axis=1)\n",
    "hypothesis['RICE'] = hypothesis.apply(get_rice, axis=1)\n",
    "\n",
    "# выводим значения на экран, добавляем закрашивание цветом\n",
    "hypothesis[['Hypothesis', 'ICE', 'RICE']].style.background_gradient(cmap='Greens')"
   ]
  },
  {
   "cell_type": "markdown",
   "metadata": {},
   "source": [
    "### Вывод"
   ]
  },
  {
   "cell_type": "markdown",
   "metadata": {},
   "source": [
    "- По фреймворку ICE в наивысшем приоритете стоит проверить гипотезы с индексами 8, 0, 7, 6 и 2.\n",
    "- По фреймворку RICE - 7, 2, 0, 6 и 8.\n",
    "- Приоритеты в разных фреймворках отличаются, потому что в ICE не учитывается охват пользователей.\n",
    "- В наивысшем приоритете рекомендуется исследовать гипотезу с индексом 7 (`Добавить форму подписки на все основные страницы, чтобы собрать базу клиентов для email-рассылок`)."
   ]
  },
  {
   "cell_type": "markdown",
   "metadata": {},
   "source": [
    "## Часть 2. Анализ А/В-теста <a id=\"part2\">"
   ]
  },
  {
   "cell_type": "markdown",
   "metadata": {},
   "source": [
    "Был проведен А/В-тест и получены результаты. Они записаны в файлах `orders.csv` и `visitors.csv`. Проанализируем проведенный А/В тест."
   ]
  },
  {
   "cell_type": "markdown",
   "metadata": {},
   "source": [
    "### Открытие данных <a id=\"open2\">"
   ]
  },
  {
   "cell_type": "markdown",
   "metadata": {},
   "source": [
    "Откроем файлы с данными и выведем первые 5 строк из датасетов."
   ]
  },
  {
   "cell_type": "code",
   "execution_count": 4,
   "metadata": {
    "scrolled": false
   },
   "outputs": [
    {
     "data": {
      "text/html": [
       "<div>\n",
       "<style scoped>\n",
       "    .dataframe tbody tr th:only-of-type {\n",
       "        vertical-align: middle;\n",
       "    }\n",
       "\n",
       "    .dataframe tbody tr th {\n",
       "        vertical-align: top;\n",
       "    }\n",
       "\n",
       "    .dataframe thead th {\n",
       "        text-align: right;\n",
       "    }\n",
       "</style>\n",
       "<table border=\"1\" class=\"dataframe\">\n",
       "  <thead>\n",
       "    <tr style=\"text-align: right;\">\n",
       "      <th></th>\n",
       "      <th>transactionId</th>\n",
       "      <th>visitorId</th>\n",
       "      <th>date</th>\n",
       "      <th>revenue</th>\n",
       "      <th>group</th>\n",
       "    </tr>\n",
       "  </thead>\n",
       "  <tbody>\n",
       "    <tr>\n",
       "      <th>0</th>\n",
       "      <td>3667963787</td>\n",
       "      <td>3312258926</td>\n",
       "      <td>2019-08-15</td>\n",
       "      <td>1650</td>\n",
       "      <td>B</td>\n",
       "    </tr>\n",
       "    <tr>\n",
       "      <th>1</th>\n",
       "      <td>2804400009</td>\n",
       "      <td>3642806036</td>\n",
       "      <td>2019-08-15</td>\n",
       "      <td>730</td>\n",
       "      <td>B</td>\n",
       "    </tr>\n",
       "    <tr>\n",
       "      <th>2</th>\n",
       "      <td>2961555356</td>\n",
       "      <td>4069496402</td>\n",
       "      <td>2019-08-15</td>\n",
       "      <td>400</td>\n",
       "      <td>A</td>\n",
       "    </tr>\n",
       "    <tr>\n",
       "      <th>3</th>\n",
       "      <td>3797467345</td>\n",
       "      <td>1196621759</td>\n",
       "      <td>2019-08-15</td>\n",
       "      <td>9759</td>\n",
       "      <td>B</td>\n",
       "    </tr>\n",
       "    <tr>\n",
       "      <th>4</th>\n",
       "      <td>2282983706</td>\n",
       "      <td>2322279887</td>\n",
       "      <td>2019-08-15</td>\n",
       "      <td>2308</td>\n",
       "      <td>B</td>\n",
       "    </tr>\n",
       "  </tbody>\n",
       "</table>\n",
       "</div>"
      ],
      "text/plain": [
       "   transactionId   visitorId        date  revenue group\n",
       "0     3667963787  3312258926  2019-08-15     1650     B\n",
       "1     2804400009  3642806036  2019-08-15      730     B\n",
       "2     2961555356  4069496402  2019-08-15      400     A\n",
       "3     3797467345  1196621759  2019-08-15     9759     B\n",
       "4     2282983706  2322279887  2019-08-15     2308     B"
      ]
     },
     "metadata": {},
     "output_type": "display_data"
    },
    {
     "data": {
      "text/html": [
       "<div>\n",
       "<style scoped>\n",
       "    .dataframe tbody tr th:only-of-type {\n",
       "        vertical-align: middle;\n",
       "    }\n",
       "\n",
       "    .dataframe tbody tr th {\n",
       "        vertical-align: top;\n",
       "    }\n",
       "\n",
       "    .dataframe thead th {\n",
       "        text-align: right;\n",
       "    }\n",
       "</style>\n",
       "<table border=\"1\" class=\"dataframe\">\n",
       "  <thead>\n",
       "    <tr style=\"text-align: right;\">\n",
       "      <th></th>\n",
       "      <th>date</th>\n",
       "      <th>group</th>\n",
       "      <th>visitors</th>\n",
       "    </tr>\n",
       "  </thead>\n",
       "  <tbody>\n",
       "    <tr>\n",
       "      <th>0</th>\n",
       "      <td>2019-08-01</td>\n",
       "      <td>A</td>\n",
       "      <td>719</td>\n",
       "    </tr>\n",
       "    <tr>\n",
       "      <th>1</th>\n",
       "      <td>2019-08-02</td>\n",
       "      <td>A</td>\n",
       "      <td>619</td>\n",
       "    </tr>\n",
       "    <tr>\n",
       "      <th>2</th>\n",
       "      <td>2019-08-03</td>\n",
       "      <td>A</td>\n",
       "      <td>507</td>\n",
       "    </tr>\n",
       "    <tr>\n",
       "      <th>3</th>\n",
       "      <td>2019-08-04</td>\n",
       "      <td>A</td>\n",
       "      <td>717</td>\n",
       "    </tr>\n",
       "    <tr>\n",
       "      <th>4</th>\n",
       "      <td>2019-08-05</td>\n",
       "      <td>A</td>\n",
       "      <td>756</td>\n",
       "    </tr>\n",
       "  </tbody>\n",
       "</table>\n",
       "</div>"
      ],
      "text/plain": [
       "         date group  visitors\n",
       "0  2019-08-01     A       719\n",
       "1  2019-08-02     A       619\n",
       "2  2019-08-03     A       507\n",
       "3  2019-08-04     A       717\n",
       "4  2019-08-05     A       756"
      ]
     },
     "metadata": {},
     "output_type": "display_data"
    }
   ],
   "source": [
    "orders = pd.read_csv('orders.csv')\n",
    "visitors = pd.read_csv('visitors.csv')\n",
    "\n",
    "display(orders.head())\n",
    "display(visitors.head())"
   ]
  },
  {
   "cell_type": "markdown",
   "metadata": {},
   "source": [
    "### Проверка распределения по группам <a id=\"grouping\">"
   ]
  },
  {
   "cell_type": "markdown",
   "metadata": {},
   "source": [
    "Проверим, на сколько равномерно пользователи распределены по группам, какое количество пользователей в каждой из групп."
   ]
  },
  {
   "cell_type": "code",
   "execution_count": 5,
   "metadata": {},
   "outputs": [
    {
     "name": "stdout",
     "output_type": "stream",
     "text": [
      "Группа А: пользователей 503 (48.79%)\n",
      "Группа В: пользователей 586 (56.84%)\n"
     ]
    }
   ],
   "source": [
    "# выделяем списки пользователей в каждой из групп\n",
    "visitorsA = orders[orders['group'] == 'A']['visitorId'].unique()\n",
    "visitorsB = orders[orders['group'] == 'B']['visitorId'].unique()\n",
    "\n",
    "# считаем количество пользователей в каждой из групп и общее количество\n",
    "lenVisitorsA = len(visitorsA)\n",
    "lenVisitorsB = len(visitorsB)\n",
    "lenVisitors = len(orders['visitorId'].unique())\n",
    "\n",
    "# выводим количество и процент пользователей от общего количества\n",
    "print('Группа А: пользователей {} ({:.2%})'.format(\n",
    "    lenVisitorsA, lenVisitorsA / lenVisitors\n",
    "))\n",
    "print('Группа В: пользователей {} ({:.2%})'.format(\n",
    "    lenVisitorsB, lenVisitorsB / lenVisitors\n",
    "))"
   ]
  },
  {
   "cell_type": "markdown",
   "metadata": {},
   "source": [
    "Пользователи распределены почти равномерно. Но по сумме процентов заметно, что есть пользователи, которые входят в обе группы. Проверим, сколько таких пользователей."
   ]
  },
  {
   "cell_type": "code",
   "execution_count": 6,
   "metadata": {},
   "outputs": [
    {
     "name": "stdout",
     "output_type": "stream",
     "text": [
      "Количество пользователей, входящих в обе группы: 58 (5.63%)\n"
     ]
    }
   ],
   "source": [
    "visitors_repeat = orders[\n",
    "    (orders['visitorId'].isin(visitorsA)) & (orders['visitorId'].isin(visitorsB))\n",
    "]['visitorId'].unique()\n",
    "print('Количество пользователей, входящих в обе группы: {} ({:.2%})'.format(\n",
    "    len(visitors_repeat), len(visitors_repeat) / lenVisitors\n",
    "))"
   ]
  },
  {
   "cell_type": "markdown",
   "metadata": {},
   "source": [
    "Примерно 5.63% пользователей попали в обе группы. Пересечение групп сильно влияет на результаты теста. Удалить заказы таких пользователей из анализа не можем, так как они входят в количество ежедневных посетителей в датасете `visitors`, а это повлияет на показатели конверсии в группах. А также к результатам остальных пользователей стоит отнестись с осторожностью, так как они тоже могли присутствовать в обоих группах, но из-за того, что совершили 1 заказ или вообще ни одного, в текущих данных это может быть не заметно. На данном этапе можем сделать вывод, что дальнейшие результаты анализа будут предварительными и неточными.\n",
    "\n",
    "Чтобы более честно распределить пользователей для текущего анализа, продублируем заказы пользователей, которые попали в обе группы и сделали 2 и более заказа, чтобы все их заказы отображались в обоих группах."
   ]
  },
  {
   "cell_type": "code",
   "execution_count": 7,
   "metadata": {},
   "outputs": [],
   "source": [
    "def change_group(row):\n",
    "    '''\n",
    "    функция принимает: строку датасета с пользователями\n",
    "    функция возвращает: строку пользователя с другой группой АВ теста\n",
    "    '''\n",
    "    if row['group'] == 'A':\n",
    "        row['group'] = 'B'\n",
    "    else:\n",
    "        row['group'] = 'A'\n",
    "    return row\n",
    "\n",
    "# создаем отдельный датасет с пользователями двух групп и измененными группами\n",
    "double_orders = orders[orders['visitorId'].isin(visitors_repeat)].apply(change_group, axis=1)\n",
    "\n",
    "# добавляем датасет с измененными группами пользователей двух групп\n",
    "orders = pd.concat([orders, double_orders], axis=0)"
   ]
  },
  {
   "cell_type": "markdown",
   "metadata": {},
   "source": [
    "### Подготовка данных <a id=\"preprocessing\">"
   ]
  },
  {
   "cell_type": "markdown",
   "metadata": {},
   "source": [
    "Поменяем формат даты в полях `date` у обоих датасетов."
   ]
  },
  {
   "cell_type": "code",
   "execution_count": 8,
   "metadata": {},
   "outputs": [],
   "source": [
    "orders['date'] = orders['date'].map(lambda x: dt.datetime.strptime(x, '%Y-%m-%d'))\n",
    "visitors['date'] = visitors['date'].map(lambda x: dt.datetime.strptime(x, '%Y-%m-%d'))"
   ]
  },
  {
   "cell_type": "markdown",
   "metadata": {},
   "source": [
    "Создадим отдельный датасет со всеми необходимыми данными для анализа."
   ]
  },
  {
   "cell_type": "code",
   "execution_count": 9,
   "metadata": {},
   "outputs": [],
   "source": [
    "def get_data(visitors, orders):\n",
    "    '''\n",
    "    функция принимает: данные по посетителям и заказам\n",
    "    функция возвращает: датасет с посчитанными данными для анализа\n",
    "    '''\n",
    "    # считаем посетителей в каждую дату для группы А\n",
    "    visitorsADaily = visitors[visitors['group'] == 'A'][['date', 'visitors']]\n",
    "    visitorsADaily.columns = ['date', 'visitorsPerDateA']\n",
    "\n",
    "    # считаем кумулятивное количество посетителей для группы А\n",
    "    visitorsACummulative = visitorsADaily.apply(\n",
    "        lambda x: visitorsADaily[visitorsADaily['date'] <= x['date']].agg(\n",
    "            {'date': 'max', 'visitorsPerDateA': 'sum'}\n",
    "        ),\n",
    "        axis=1,\n",
    "    )\n",
    "    visitorsACummulative.columns = ['date', 'visitorsCummulativeA']\n",
    "\n",
    "    # считаем посетителей в каждую дату для группы В\n",
    "    visitorsBDaily = visitors[visitors['group'] == 'B'][['date', 'visitors']]\n",
    "    visitorsBDaily.columns = ['date', 'visitorsPerDateB']\n",
    "\n",
    "    # считаем кумулятивное количество посетителей для группы В\n",
    "    visitorsBCummulative = visitorsBDaily.apply(\n",
    "        lambda x: visitorsBDaily[visitorsBDaily['date'] <= x['date']].agg(\n",
    "            {'date': 'max', 'visitorsPerDateB': 'sum'}\n",
    "        ),\n",
    "        axis=1,\n",
    "    )\n",
    "    visitorsBCummulative.columns = ['date', 'visitorsCummulativeB']\n",
    "\n",
    "    # считаем количество и сумму заказов, средний чек в каждую дату для группы А\n",
    "    ordersADaily = orders[orders['group'] == 'A'][\n",
    "        ['date', 'transactionId', 'visitorId', 'revenue']\n",
    "    ].groupby('date', as_index=False).agg(\n",
    "        {'transactionId': pd.Series.nunique, 'revenue': {'sum', 'mean'}}\n",
    "    )\n",
    "    ordersADaily.columns = ['date', 'ordersPerDateA', 'revenuePerDateA', 'meanCheckPerDateA']\n",
    "\n",
    "    # считаем кумулятивные количество и сумму заказов, средний чек для группы А\n",
    "    ordersACummulative = ordersADaily.apply(\n",
    "        lambda x: ordersADaily[ordersADaily['date'] <= x['date']].agg(\n",
    "            {'date': 'max', 'ordersPerDateA': 'sum', 'revenuePerDateA': 'sum', 'meanCheckPerDateA': 'mean'}\n",
    "        ),\n",
    "        axis=1,\n",
    "    ).sort_values(by=['date'])\n",
    "    ordersACummulative.columns = [\n",
    "        'date',\n",
    "        'ordersCummulativeA',\n",
    "        'revenueCummulativeA',\n",
    "        'meanCheckCummulativeA'\n",
    "    ]\n",
    "\n",
    "    # считаем количество и сумму заказов, средний чек в каждую дату для группы В\n",
    "    ordersBDaily = orders[orders['group'] == 'B'][\n",
    "        ['date', 'transactionId', 'visitorId', 'revenue']\n",
    "    ].groupby('date', as_index=False).agg(\n",
    "        {'transactionId': pd.Series.nunique, 'revenue': {'sum', 'mean'}}\n",
    "    )\n",
    "    ordersBDaily.columns = ['date', 'ordersPerDateB', 'revenuePerDateB', 'meanCheckPerDateB']\n",
    "\n",
    "    # считаем кумулятивные количество и сумму заказов, средний чек для группы В\n",
    "    ordersBCummulative = ordersBDaily.apply(\n",
    "        lambda x: ordersBDaily[ordersBDaily['date'] <= x['date']].agg(\n",
    "            {'date': 'max', 'ordersPerDateB': 'sum', 'revenuePerDateB': 'sum', 'meanCheckPerDateB': 'mean'}\n",
    "        ),\n",
    "        axis=1,\n",
    "    ).sort_values(by=['date'])\n",
    "    ordersBCummulative.columns = [\n",
    "        'date',\n",
    "        'ordersCummulativeB',\n",
    "        'revenueCummulativeB',\n",
    "        'meanCheckCummulativeB'\n",
    "    ]\n",
    "\n",
    "    # соединяем данные в 1 датасет\n",
    "    data = ordersADaily.merge(\n",
    "        ordersBDaily, left_on='date', right_on='date', how='left'\n",
    "    ).merge(\n",
    "        ordersACummulative, left_on='date', right_on='date', how='left'\n",
    "    ).merge(\n",
    "        ordersBCummulative, left_on='date', right_on='date', how='left'\n",
    "    ).merge(\n",
    "        visitorsADaily, left_on='date', right_on='date', how='left'\n",
    "    ).merge(\n",
    "        visitorsBDaily, left_on='date', right_on='date', how='left'\n",
    "    ).merge(\n",
    "        visitorsACummulative, left_on='date', right_on='date', how='left'\n",
    "    ).merge(\n",
    "        visitorsBCummulative, left_on='date', right_on='date', how='left'\n",
    "    )\n",
    "\n",
    "    # считаем конверсию по датам\n",
    "    data['conversionPerDateA'] = data['ordersPerDateA']/data['visitorsPerDateA']\n",
    "    data['conversionPerDateB'] = data['ordersPerDateB']/data['visitorsPerDateB']\n",
    "\n",
    "    # считаем кумулятивную конверсию\n",
    "    data['conversionCummulativeA'] = data['ordersCummulativeA']/data['visitorsCummulativeA']\n",
    "    data['conversionCummulativeB'] = data['ordersCummulativeB']/data['visitorsCummulativeB']\n",
    "    \n",
    "    return data\n",
    "\n",
    "# создаем датасет с нужными данными в переменной data\n",
    "data = get_data(visitors, orders)"
   ]
  },
  {
   "cell_type": "markdown",
   "metadata": {},
   "source": [
    "### Анализ кумулятивной выручки <a id=\"revenue_cummulative\">"
   ]
  },
  {
   "cell_type": "markdown",
   "metadata": {},
   "source": [
    "Построим график кумулятивной выручки по группам."
   ]
  },
  {
   "cell_type": "code",
   "execution_count": 10,
   "metadata": {},
   "outputs": [
    {
     "data": {
      "image/png": "[encoded data removed]",
      "text/plain": [
       "<Figure size 432x288 with 1 Axes>"
      ]
     },
     "metadata": {
      "needs_background": "light"
     },
     "output_type": "display_data"
    }
   ],
   "source": [
    "# Строим график выручки группы А\n",
    "plt.plot(data['date'], data['revenueCummulativeA'], label='A')\n",
    " \n",
    "# Строим график выручки группы B\n",
    "plt.plot(data['date'], data['revenueCummulativeB'], label='B')\n",
    "\n",
    "# добавляем подписи\n",
    "plt.legend()\n",
    "plt.xlabel('Дата')\n",
    "# переворачиваем подписи по оси Х\n",
    "plt.xticks(rotation=90)\n",
    "plt.ylabel('Выручка')\n",
    "plt.title('Динамика кумулятивной выручки по группам')\n",
    "plt.show();"
   ]
  },
  {
   "cell_type": "markdown",
   "metadata": {},
   "source": [
    "Вывод:\n",
    "\n",
    "- Первую половину периода выручка от обоих групп, в целом, примерно одинаково растет.\n",
    "- После половины периода выручка от группы В резко возрастает, и далее находится стабильно выше группы А примерно в одной динамике роста. Скорее всего, это связано с аномально большой покупкой некоторых пользователей. "
   ]
  },
  {
   "cell_type": "markdown",
   "metadata": {},
   "source": [
    "### Анализ кумулятивного среднего чека по группам <a id=\"mean_check_cummulative\">"
   ]
  },
  {
   "cell_type": "markdown",
   "metadata": {},
   "source": [
    "Построим график кумулятивного среднего чека по группам."
   ]
  },
  {
   "cell_type": "code",
   "execution_count": 11,
   "metadata": {},
   "outputs": [
    {
     "data": {
      "image/png": "[encoded data removed]",
      "text/plain": [
       "<Figure size 432x288 with 1 Axes>"
      ]
     },
     "metadata": {
      "needs_background": "light"
     },
     "output_type": "display_data"
    }
   ],
   "source": [
    "# собираем графики для обеих групп\n",
    "plt.plot(data['date'], data['meanCheckCummulativeA'], label='A')\n",
    "plt.plot(data['date'], data['meanCheckCummulativeB'], label='B')\n",
    "\n",
    "# добавляем подписи\n",
    "plt.legend()\n",
    "plt.xlabel('Дата')\n",
    "plt.xticks(rotation=90)\n",
    "plt.ylabel('Средний чек')\n",
    "plt.title('Динамика кумулятивного среднего чека по группам')\n",
    "plt.show();"
   ]
  },
  {
   "cell_type": "markdown",
   "metadata": {},
   "source": [
    "Вывод:\n",
    "\n",
    "- Средний чек группы В практически весь период выше, чем у группы А.\n",
    "- По аналогии с графиком выручки, заметен резкий рост в середине периода у группы В."
   ]
  },
  {
   "cell_type": "markdown",
   "metadata": {},
   "source": [
    "### Анализ относительного изменения кумулятивного среднего чека группы B к группе A <a id=\"mean_check_BtoA\">"
   ]
  },
  {
   "cell_type": "markdown",
   "metadata": {},
   "source": [
    "Построим график относительного изменения кумулятивного среднего чека группы B к группе A."
   ]
  },
  {
   "cell_type": "code",
   "execution_count": 12,
   "metadata": {},
   "outputs": [
    {
     "data": {
      "image/png": "[encoded data removed]",
      "text/plain": [
       "<Figure size 432x288 with 1 Axes>"
      ]
     },
     "metadata": {
      "needs_background": "light"
     },
     "output_type": "display_data"
    }
   ],
   "source": [
    "# cтроим отношение средних чеков\n",
    "plt.plot(data['date'], data['meanCheckCummulativeB'] / data['meanCheckCummulativeA'] - 1)\n",
    "\n",
    "# добавляем ось X\n",
    "plt.axhline(y=0, color='black', linestyle='--')\n",
    "\n",
    "# добавляем подписи к графику\n",
    "plt.xlabel('Дата')\n",
    "plt.xticks(rotation=90)\n",
    "plt.ylabel('Отношение среднего чека группы В к А')\n",
    "plt.title('Относительное изменение кумулятивного среднего чека группы В к группе А')\n",
    "plt.show();"
   ]
  },
  {
   "cell_type": "markdown",
   "metadata": {},
   "source": [
    "Вывод:\n",
    "\n",
    "- График совпадает с динамикой графика кумулятивного среднего чека обоих групп. Выводы совпадают. \n",
    "- На данный момент, сложно сказать о явном выигрыше одной из групп по среднему чеку при наличии аномального роста. А также учитывая некорректное распределение пользователей по группам."
   ]
  },
  {
   "cell_type": "markdown",
   "metadata": {},
   "source": [
    "### Анализ кумулятивной конверсии по группам <a id=\"conversion_cummulative\">"
   ]
  },
  {
   "cell_type": "markdown",
   "metadata": {},
   "source": [
    "Построим график кумулятивной конверсии по группам."
   ]
  },
  {
   "cell_type": "code",
   "execution_count": 13,
   "metadata": {},
   "outputs": [
    {
     "data": {
      "image/png": "[encoded data removed]",
      "text/plain": [
       "<Figure size 432x288 with 1 Axes>"
      ]
     },
     "metadata": {
      "needs_background": "light"
     },
     "output_type": "display_data"
    }
   ],
   "source": [
    "# строим графики\n",
    "plt.plot(data['date'], data['conversionCummulativeA'], label='A')\n",
    "plt.plot(data['date'], data['conversionCummulativeB'], label='B')\n",
    "\n",
    "# задаем масштаб осей\n",
    "plt.axis([dt.date(2019, 8, 1), dt.date(2019, 9, 1), 0, 0.045])\n",
    "\n",
    "# добавляем подписи к графику\n",
    "plt.legend()\n",
    "plt.xlabel('Дата')\n",
    "plt.xticks(rotation=90)\n",
    "plt.ylabel('Конверсия')\n",
    "plt.title('Динамика кумулятивной конверсии по группам')\n",
    "plt.show();"
   ]
  },
  {
   "cell_type": "markdown",
   "metadata": {},
   "source": [
    "Вывод: \n",
    "\n",
    "- Практически весь период, кроме первой недели, конверсия группы В незначительно выше группы А."
   ]
  },
  {
   "cell_type": "markdown",
   "metadata": {},
   "source": [
    "### Анализ относительного изменения кумулятивной конверсии группы B к группе A <a id=\"conversion_BtoA\">"
   ]
  },
  {
   "cell_type": "markdown",
   "metadata": {},
   "source": [
    "Построим график относительного изменения кумулятивной конверсии группы B к группе A."
   ]
  },
  {
   "cell_type": "code",
   "execution_count": 14,
   "metadata": {},
   "outputs": [
    {
     "data": {
      "image/png": "[encoded data removed]",
      "text/plain": [
       "<Figure size 432x288 with 1 Axes>"
      ]
     },
     "metadata": {
      "needs_background": "light"
     },
     "output_type": "display_data"
    }
   ],
   "source": [
    "# строим графики\n",
    "plt.plot(\n",
    "    data['date'], \n",
    "    data['conversionCummulativeB'] / data['conversionCummulativeA'] - 1\n",
    ")\n",
    "\n",
    "# добавляем линии и масштаб графика\n",
    "plt.axhline(y=0, color='black', linestyle='--')\n",
    "plt.axhline(y=-0.1, color='grey', linestyle='--')\n",
    "plt.axis([dt.date(2019, 8, 1), dt.date(2019, 9, 1), -0.2, 0.2])\n",
    "\n",
    "# добавляем подписи к графику\n",
    "plt.xlabel('Дата')\n",
    "plt.xticks(rotation=90)\n",
    "plt.ylabel('Отношение конверсии группы В к А')\n",
    "plt.title('Относительное изменение кумулятивной конверсии группы В к группе А')\n",
    "plt.show();"
   ]
  },
  {
   "cell_type": "markdown",
   "metadata": {},
   "source": [
    "Вывод:\n",
    "\n",
    "- Динамика графика совпадает с графиком кумулятивной конверсии обоих групп.\n",
    "- Практически весь период, кроме первой недели, относительный прирост конверсии группы В выше группы А. Большую часть периода отличие чуть выше 10%. Это показывает выигрыш группы В по текущим данным."
   ]
  },
  {
   "cell_type": "markdown",
   "metadata": {},
   "source": [
    "### Анализ количества заказов по пользователям <a id=\"transactions\">"
   ]
  },
  {
   "cell_type": "markdown",
   "metadata": {},
   "source": [
    "Посчитаем количество заказов по пользователям."
   ]
  },
  {
   "cell_type": "code",
   "execution_count": 15,
   "metadata": {},
   "outputs": [],
   "source": [
    "ordersByUsers = (\n",
    "    orders.groupby('visitorId', as_index=False)\n",
    "    .agg({'transactionId': 'nunique'})\n",
    ")\n",
    "ordersByUsers.columns = ['visitorId', 'orders']"
   ]
  },
  {
   "cell_type": "markdown",
   "metadata": {},
   "source": [
    "Построим точечный график количества заказов по пользователям."
   ]
  },
  {
   "cell_type": "code",
   "execution_count": 16,
   "metadata": {},
   "outputs": [
    {
     "data": {
      "image/png": "[encoded data removed]",
      "text/plain": [
       "<Figure size 432x288 with 1 Axes>"
      ]
     },
     "metadata": {
      "needs_background": "light"
     },
     "output_type": "display_data"
    }
   ],
   "source": [
    "# создаем переменную для оси Х с индексами датасета\n",
    "x_values = pd.Series(range(0,len(ordersByUsers)))\n",
    "\n",
    "# собираем точечный график\n",
    "plt.scatter(x_values, ordersByUsers['orders'])\n",
    "\n",
    "# добавляем подписи к графику\n",
    "plt.xlabel('Индекс пользователя')\n",
    "plt.ylabel('Количество заказов, шт')\n",
    "plt.title('Распределение количества заказов по пользователям')\n",
    "plt.show();"
   ]
  },
  {
   "cell_type": "markdown",
   "metadata": {},
   "source": [
    "Вывод:\n",
    "\n",
    "- По графику видно, что 4 пользователя совершали аномально большое количество заказов (от 8 до 11).\n",
    "- Большая часть пользователей совершала 5 и меньше заказов. Но стоит найти границы аномальных пользователей расчетом 95 и 99 перцентилей."
   ]
  },
  {
   "cell_type": "markdown",
   "metadata": {},
   "source": [
    "Посчитаем 95-й и 99-й перцентили количества заказов на пользователя."
   ]
  },
  {
   "cell_type": "code",
   "execution_count": 17,
   "metadata": {},
   "outputs": [
    {
     "name": "stdout",
     "output_type": "stream",
     "text": [
      "[2. 4.]\n"
     ]
    }
   ],
   "source": [
    "print(np.percentile(ordersByUsers['orders'], [95, 99]))"
   ]
  },
  {
   "cell_type": "markdown",
   "metadata": {},
   "source": [
    "Вывод:\n",
    "\n",
    "- 95-й перцентиль - пользователи с количеством заказов 2.\n",
    "- 99-й перцентиль - пользователи с 4 заказами.\n",
    "- Предлагаю ориентироваться на **95-й перцентиль**. Не будем учитывать в сравнительном анализе пользователей **с 3 заказами и выше**."
   ]
  },
  {
   "cell_type": "markdown",
   "metadata": {},
   "source": [
    "### Анализ стоимостей заказов <a id=\"prices\">"
   ]
  },
  {
   "cell_type": "markdown",
   "metadata": {},
   "source": [
    "Построим точечный график стоимостей заказов."
   ]
  },
  {
   "cell_type": "code",
   "execution_count": 18,
   "metadata": {},
   "outputs": [
    {
     "data": {
      "image/png": "[encoded data removed]",
      "text/plain": [
       "<Figure size 432x288 with 1 Axes>"
      ]
     },
     "metadata": {
      "needs_background": "light"
     },
     "output_type": "display_data"
    }
   ],
   "source": [
    "# переменная с индексами для оси Х\n",
    "x_values = pd.Series(range(0,len(orders)))\n",
    "\n",
    "# собираем точечный график\n",
    "plt.scatter(x_values, orders['revenue'])\n",
    "\n",
    "# добавляем подписи к графику\n",
    "plt.xlabel('Индекс заказа')\n",
    "plt.ylabel('Сумма заказа')\n",
    "plt.title('Распределение стоимости заказов')\n",
    "plt.show();"
   ]
  },
  {
   "cell_type": "markdown",
   "metadata": {},
   "source": [
    "Вывод:\n",
    "\n",
    "- По графику заметно 2 выделяющихся заказа примерно на 200 тысяч и на почти 1.3 млн.\n",
    "- Остальные заказы визуально находятся в примерно одинаковом диапазоне. Стоит проанализировать перцентили."
   ]
  },
  {
   "cell_type": "markdown",
   "metadata": {},
   "source": [
    "Посчитаем 95-й и 99-й перцентили стоимостей заказов."
   ]
  },
  {
   "cell_type": "code",
   "execution_count": 19,
   "metadata": {},
   "outputs": [
    {
     "name": "stdout",
     "output_type": "stream",
     "text": [
      "[28529. 58987.]\n"
     ]
    }
   ],
   "source": [
    "print(np.percentile(orders['revenue'], [95, 99]))"
   ]
  },
  {
   "cell_type": "markdown",
   "metadata": {},
   "source": [
    "Вывод: \n",
    "\n",
    "- 95-й перцентиль - стоимость заказов 28 529.\n",
    "- 99-й перцентиль - заказы стоимостью 59 987.\n",
    "- Предлагаю ориентироваться на **95-й перцентиль**. Не будем учитывать в сравнительном анализе заказы стоимостью **28 530 и выше**."
   ]
  },
  {
   "cell_type": "markdown",
   "metadata": {},
   "source": [
    "### Анализ статистической значимости различий в конверсии между группами по «сырым» данным <a id=\"stat_by_conversion\">"
   ]
  },
  {
   "cell_type": "markdown",
   "metadata": {},
   "source": [
    "Подготовим данные для расчета."
   ]
  },
  {
   "cell_type": "code",
   "execution_count": 20,
   "metadata": {},
   "outputs": [],
   "source": [
    "# группируем данные по посетителям, которые сделали хотя бы 1 заказ в группе А\n",
    "ordersByUsersA = (\n",
    "    orders[orders['group'] == 'A']\n",
    "    .groupby('visitorId', as_index=False)\n",
    "    .agg({'transactionId': pd.Series.nunique})\n",
    ")\n",
    "ordersByUsersA.columns = ['visitorId', 'orders']\n",
    "\n",
    "# группируем данные по посетителям, которые сделали хотя бы 1 заказ в группе В\n",
    "ordersByUsersB = (\n",
    "    orders[orders['group'] == 'B']\n",
    "    .groupby('visitorId', as_index=False)\n",
    "    .agg({'transactionId': pd.Series.nunique})\n",
    ")\n",
    "ordersByUsersB.columns = ['visitorId', 'orders']\n",
    "\n",
    "# зададим переменную, в которой пользователям будет соответствовать количество заказов. \n",
    "# Тем, кто ничего не заказал, будут соответствовать нули. Так мы подготовим выборки к проверке критерием Манна-Уитни.\n",
    "sampleA = pd.concat(\n",
    "    [\n",
    "        ordersByUsersA['orders'],\n",
    "        pd.Series(\n",
    "            0, \n",
    "            index=np.arange(\n",
    "                visitors[visitors['group']=='A']['visitors'].sum()-len(ordersByUsersA)\n",
    "            ), \n",
    "            name='orders')\n",
    "    ],\n",
    "    axis=0\n",
    ")\n",
    "\n",
    "sampleB = pd.concat(\n",
    "    [\n",
    "        ordersByUsersB['orders'],\n",
    "        pd.Series(\n",
    "            0, \n",
    "            index=np.arange(\n",
    "                visitors[visitors['group']=='B']['visitors'].sum()-len(ordersByUsersB)\n",
    "            ), \n",
    "            name='orders')\n",
    "    ],\n",
    "    axis=0\n",
    ")"
   ]
  },
  {
   "cell_type": "markdown",
   "metadata": {},
   "source": [
    "Посчитаем статистическую значимость различий в конверсии между группами по «сырым» данным — без удаления аномальных пользователей.\n",
    "\n",
    "Сформулируем гипотезы. \n",
    "- Н0 (нулевая): Нет различий в распределении конверсии в группах А и В за календарный месяц.\n",
    "- Н1 (альтернативная): Есть различия в распределении конверсии в группах А и В за календарный месяц."
   ]
  },
  {
   "cell_type": "code",
   "execution_count": 21,
   "metadata": {},
   "outputs": [
    {
     "name": "stdout",
     "output_type": "stream",
     "text": [
      "0.017\n",
      "0.113\n"
     ]
    }
   ],
   "source": [
    "# Применим критерий Манна-Уитни и отформатируем p-value, округлив его до 3 знаков после запятой.\n",
    "print(\"{0:.3f}\".format(stats.mannwhitneyu(sampleA, sampleB)[1]))\n",
    "# Выведем относительный прирост конверсии группы B: средняя конверсия группы B / средняя конверсия группы A - 1. \n",
    "# Округлим до трёх знаков после запятой.\n",
    "print(\"{0:.3f}\".format(sampleB.mean() / sampleA.mean() - 1))"
   ]
  },
  {
   "cell_type": "markdown",
   "metadata": {},
   "source": [
    "Вывод:\n",
    "\n",
    "- Первое число — p-value = 0.017 меньше 0.05. Значит, нулевую гипотезу о том, что статистически значимых различий в конверсии между группами А и В нет, можно отвергнуть.\n",
    "- Наблюдаемый выигрыш группы B в относительном приросте конверсии равен 11.3% — второе число в выводе."
   ]
  },
  {
   "cell_type": "markdown",
   "metadata": {},
   "source": [
    "### Анализ статистической значимости различий в среднем чеке заказа между группами по «сырым» данным <a id=\"stat_by_mean_check\">"
   ]
  },
  {
   "cell_type": "markdown",
   "metadata": {},
   "source": [
    "Посчитаем статистическую значимость различий в среднем чеке заказа между группами по «сырым» данным.\n",
    "\n",
    "Сформулируем гипотезы.\n",
    "\n",
    "- Н0 (нулевая): Нет различий в распределении значений дневного среднего чека в группах А и В за календарный месяц.\n",
    "- Н1 (альтернативная): Есть различия в распределении значений дневного среднего чека в группах А и В за календарный месяц."
   ]
  },
  {
   "cell_type": "code",
   "execution_count": 22,
   "metadata": {},
   "outputs": [
    {
     "name": "stdout",
     "output_type": "stream",
     "text": [
      "0.151\n",
      "0.346\n"
     ]
    }
   ],
   "source": [
    "# Применим критерий Манна-Уитни и отформатируем p-value, округлив его до 3 знаков после запятой.\n",
    "print(\"{0:.3f}\".format(stats.mannwhitneyu(data['meanCheckPerDateA'], data['meanCheckPerDateB'])[1]))\n",
    "# Выведем относительный прирост среднего чека группы B: средний чек группы B / средний чек группы A - 1. \n",
    "# Округлим до трёх знаков после запятой.\n",
    "print(\"{0:.3f}\".format(data['meanCheckPerDateB'].mean() / data['meanCheckPerDateA'].mean() - 1))"
   ]
  },
  {
   "cell_type": "markdown",
   "metadata": {},
   "source": [
    "Вывод:\n",
    "\n",
    "- Первое число — p-value = 0.714 больше 0.05. Значит, нулевую гипотезу о том, что статистически значимых различий в дневном среднем чеке между группами нет, не отвергаем.\n",
    "- Наблюдаемый относительный выигрыш группы B равен 21.1% — второе число в выводе, не является статистически значимым."
   ]
  },
  {
   "cell_type": "markdown",
   "metadata": {},
   "source": [
    "### Анализ статистической значимости различий в конверсии между группами по «очищенным» данным <a id=\"clean_stat_by_conversion\">"
   ]
  },
  {
   "cell_type": "markdown",
   "metadata": {},
   "source": [
    "Для начала подготовим \"очищенные\" данные для анализа конверсии. Напомним, что в них должны быть пользователи с количеством заказов меньше 3 и суммы заказа меньше 28 530."
   ]
  },
  {
   "cell_type": "code",
   "execution_count": 23,
   "metadata": {},
   "outputs": [],
   "source": [
    "# готовим список аномальных пользователей\n",
    "usersWithManyOrders = pd.concat(\n",
    "    [\n",
    "        ordersByUsersA[ordersByUsersA['orders'] >= 3]['visitorId'],\n",
    "        ordersByUsersB[ordersByUsersB['orders'] >= 3]['visitorId'],\n",
    "    ],\n",
    "    axis=0,\n",
    ")\n",
    "usersWithExpensiveOrders = orders[orders['revenue'] >= 28530]['visitorId']\n",
    "abnormalUsers = (\n",
    "    pd.concat([usersWithManyOrders, usersWithExpensiveOrders], axis=0)\n",
    "    .drop_duplicates()\n",
    "    .sort_values()\n",
    ")\n",
    "\n",
    "# зададим переменную, в которой пользователям будет соответствовать количество заказов\n",
    "sampleAFiltered = pd.concat(\n",
    "    [\n",
    "        ordersByUsersA[\n",
    "            np.logical_not(ordersByUsersA['visitorId'].isin(abnormalUsers))\n",
    "        ]['orders'],\n",
    "        pd.Series(\n",
    "            0,\n",
    "            index=np.arange(\n",
    "                data['visitorsPerDateA'].sum() - len(ordersByUsersA['orders'])\n",
    "            ),\n",
    "            name='orders',\n",
    "        ),\n",
    "    ],\n",
    "    axis=0,\n",
    ")\n",
    "\n",
    "sampleBFiltered = pd.concat(\n",
    "    [\n",
    "        ordersByUsersB[\n",
    "            np.logical_not(ordersByUsersB['visitorId'].isin(abnormalUsers))\n",
    "        ]['orders'],\n",
    "        pd.Series(\n",
    "            0,\n",
    "            index=np.arange(\n",
    "                data['visitorsPerDateB'].sum() - len(ordersByUsersB['orders'])\n",
    "            ),\n",
    "            name='orders',\n",
    "        ),\n",
    "    ],\n",
    "    axis=0,\n",
    ") "
   ]
  },
  {
   "cell_type": "markdown",
   "metadata": {},
   "source": [
    "Посчитаем статистическую значимость различий в конверсии между группами по «очищенным» данным."
   ]
  },
  {
   "cell_type": "code",
   "execution_count": 24,
   "metadata": {
    "scrolled": true
   },
   "outputs": [
    {
     "name": "stdout",
     "output_type": "stream",
     "text": [
      "0.014\n",
      "0.162\n"
     ]
    }
   ],
   "source": [
    "# Применим критерий Манна-Уитни и отформатируем p-value, округлив его до 3 знаков после запятой.\n",
    "print(\"{0:.3f}\".format(stats.mannwhitneyu(sampleAFiltered, sampleBFiltered)[1]))\n",
    "# Выведем относительный прирост конверсии группы B: средняя конверсия группы B / средняя конверсия группы A - 1. \n",
    "# Округлим до трёх знаков после запятой.\n",
    "print(\"{0:.3f}\".format(sampleBFiltered.mean() / sampleAFiltered.mean() - 1))"
   ]
  },
  {
   "cell_type": "markdown",
   "metadata": {},
   "source": [
    "Вывод:\n",
    "\n",
    "- p-value уменьшился, и все еще остается меньше 0.05. Значит, нулевую гипотезу о том, что статистически значимых различий в конверсии между группами А и В нет, можно отвергать. В данных без аномальных пользователей различия есть.\n",
    "- Относительный прирост конверсии группы B увеличился до 16.2%."
   ]
  },
  {
   "cell_type": "markdown",
   "metadata": {},
   "source": [
    "### Анализ статистической значимости различий в среднем чеке заказа между группами по «очищенным» данным <a id=\"clean_stat_by_mean_check\">"
   ]
  },
  {
   "cell_type": "markdown",
   "metadata": {},
   "source": [
    "Подготовим \"очищенные\" данные для анализа среднего чека."
   ]
  },
  {
   "cell_type": "code",
   "execution_count": 25,
   "metadata": {},
   "outputs": [],
   "source": [
    "data_filtered = get_data(visitors, orders[\n",
    "    (orders['visitorId'].isin(ordersByUsers[ordersByUsers['orders'] < 3]['visitorId'])) & \n",
    "    (orders['revenue'] < 28530)\n",
    "])"
   ]
  },
  {
   "cell_type": "markdown",
   "metadata": {},
   "source": [
    "Посчитаем статистическую значимость различий в среднем чеке заказа между группами по «очищенным» данным."
   ]
  },
  {
   "cell_type": "code",
   "execution_count": 26,
   "metadata": {},
   "outputs": [
    {
     "name": "stdout",
     "output_type": "stream",
     "text": [
      "0.155\n",
      "0.127\n"
     ]
    }
   ],
   "source": [
    "# Применим критерий Манна-Уитни и отформатируем p-value, округлив его до 3 знаков после запятой.\n",
    "print(\"{0:.3f}\".format(stats.mannwhitneyu(data_filtered['meanCheckPerDateA'], data_filtered['meanCheckPerDateB'])[1]))\n",
    "# Выведем относительный прирост среднего чека группы B: средний чек группы B / средний чек группы A - 1. \n",
    "# Округлим до трёх знаков после запятой.\n",
    "print(\"{0:.3f}\".format(data_filtered['meanCheckPerDateB'].mean() / data_filtered['meanCheckPerDateA'].mean() - 1))"
   ]
  },
  {
   "cell_type": "markdown",
   "metadata": {},
   "source": [
    "Вывод:\n",
    "\n",
    "- p-value уменьшился, но все еще остается больше 0.05. Нулевую гипотезу все еще не отвергаем.\n",
    "- Относительный прирост среднего чека группы В обратился, и стал меньше нуля. По \"очищенным\" данным группа В проигрывает на 4.5%, но этот результат не считаем статистически значимым."
   ]
  },
  {
   "cell_type": "markdown",
   "metadata": {},
   "source": [
    "## Общий вывод <a id=\"total\">"
   ]
  },
  {
   "cell_type": "markdown",
   "metadata": {},
   "source": [
    "### Приоритизация гипотез\n",
    "- По фреймворку ICE в наивысшем приоритете стоит проверить гипотезы с индексами 8, 0, 7, 6 и 2.\n",
    "- По фреймворку RICE - 7, 2, 0, 6 и 8.\n",
    "- Приоритеты в разных фреймворках отличаются, потому что в ICE не учитывается охват пользователей.\n",
    "- В наивысшем приоритете рекомендуется исследовать гипотезу с индексом 7 (`Добавить форму подписки на все основные страницы, чтобы собрать базу клиентов для email-рассылок`).\n",
    "\n",
    "### Анализ А/В-теста\n",
    "\n",
    "Имеющиеся факты:\n",
    "- В полученных данных было замечено более 5% пользователей, которые попали в обе группы. Скорее всего, таких пользователей больше, но в имеющихся данных их найти не удалось, так как они могли совершить всего 1 покупку или ни одной.\n",
    "- После игнорирования аномальных пользователей некоторые результаты теста практически не изменились. \n",
    "- У распределения конверсии групп А и В есть статистически значимые различия, значит результатам их анализа можем доверять.\n",
    "- Конверсия группы В выигрывает, что было заметно по графикам с \"сырыми\" данными, а также по тестам после фильтрации аномалий.\n",
    "- Для дневного среднего чека обоих групп статистически значимого различия нет ни по «сырым», ни по данным после фильтрации аномалий. \n",
    "- При этом относительный прирост среднего чека обратился в пользу группы А после игнорирования аномальных пользователей. Но этот результат не считаем статистически значимым.\n",
    "\n",
    "Вывод:\n",
    "- С учетом пользователей, попавших в обе группы, статистически значимой разницы по среднему чеку нет (чек не увеличился, но и не уменьшился), но при выросшей конверсии с сохранившимся средним чеком выручка будет также расти. Значит, можем завершить анализ A/B-теста, и сказать, что он оказался успешным!\n",
    "- Рекомендуется найти причины неравномерного распределения пользователей в группы, чтобы избежать искажений дальнейших анализов."
   ]
  }
 ],
 "metadata": {
  "ExecuteTimeLog": [
   {
    "duration": 1192,
    "start_time": "2022-10-07T06:44:21.499Z"
   },
   {
    "duration": 90,
    "start_time": "2022-10-07T06:44:22.693Z"
   },
   {
    "duration": 9,
    "start_time": "2022-10-07T06:44:22.785Z"
   },
   {
    "duration": 16,
    "start_time": "2022-10-07T06:44:22.796Z"
   },
   {
    "duration": 151,
    "start_time": "2022-10-07T06:44:22.814Z"
   },
   {
    "duration": 13,
    "start_time": "2022-10-07T06:44:22.967Z"
   },
   {
    "duration": 254,
    "start_time": "2022-10-07T06:44:22.982Z"
   },
   {
    "duration": 265,
    "start_time": "2022-10-07T06:44:23.238Z"
   },
   {
    "duration": 191,
    "start_time": "2022-10-07T06:44:23.504Z"
   },
   {
    "duration": 317,
    "start_time": "2022-10-07T06:44:23.697Z"
   },
   {
    "duration": 202,
    "start_time": "2022-10-07T06:44:24.016Z"
   },
   {
    "duration": 260,
    "start_time": "2022-10-07T06:44:24.219Z"
   },
   {
    "duration": 6,
    "start_time": "2022-10-07T06:44:24.481Z"
   },
   {
    "duration": 123,
    "start_time": "2022-10-07T06:44:24.488Z"
   },
   {
    "duration": 5,
    "start_time": "2022-10-07T06:44:24.612Z"
   },
   {
    "duration": 147,
    "start_time": "2022-10-07T06:44:24.619Z"
   },
   {
    "duration": 9,
    "start_time": "2022-10-07T06:44:24.768Z"
   },
   {
    "duration": 13,
    "start_time": "2022-10-07T06:44:24.778Z"
   },
   {
    "duration": 9,
    "start_time": "2022-10-07T06:44:24.792Z"
   },
   {
    "duration": 248,
    "start_time": "2022-10-07T06:44:24.802Z"
   },
   {
    "duration": 7,
    "start_time": "2022-10-07T06:44:25.052Z"
   },
   {
    "duration": 21,
    "start_time": "2022-10-07T06:44:25.060Z"
   },
   {
    "duration": 1064,
    "start_time": "2022-10-07T09:07:25.340Z"
   },
   {
    "duration": 94,
    "start_time": "2022-10-07T09:07:26.406Z"
   },
   {
    "duration": 9,
    "start_time": "2022-10-07T09:07:26.504Z"
   },
   {
    "duration": 16,
    "start_time": "2022-10-07T09:07:26.515Z"
   },
   {
    "duration": 64,
    "start_time": "2022-10-07T09:07:26.532Z"
   },
   {
    "duration": 14,
    "start_time": "2022-10-07T09:07:26.598Z"
   },
   {
    "duration": 238,
    "start_time": "2022-10-07T09:07:26.613Z"
   },
   {
    "duration": 256,
    "start_time": "2022-10-07T09:07:26.853Z"
   },
   {
    "duration": 191,
    "start_time": "2022-10-07T09:07:27.112Z"
   },
   {
    "duration": 355,
    "start_time": "2022-10-07T09:07:27.304Z"
   },
   {
    "duration": 193,
    "start_time": "2022-10-07T09:07:27.661Z"
   },
   {
    "duration": 291,
    "start_time": "2022-10-07T09:07:27.855Z"
   },
   {
    "duration": 6,
    "start_time": "2022-10-07T09:07:28.147Z"
   },
   {
    "duration": 127,
    "start_time": "2022-10-07T09:07:28.155Z"
   },
   {
    "duration": 23,
    "start_time": "2022-10-07T09:07:28.284Z"
   },
   {
    "duration": 145,
    "start_time": "2022-10-07T09:07:28.312Z"
   },
   {
    "duration": 5,
    "start_time": "2022-10-07T09:07:28.458Z"
   },
   {
    "duration": 17,
    "start_time": "2022-10-07T09:07:28.464Z"
   },
   {
    "duration": 14,
    "start_time": "2022-10-07T09:07:28.483Z"
   },
   {
    "duration": 256,
    "start_time": "2022-10-07T09:07:28.499Z"
   },
   {
    "duration": 7,
    "start_time": "2022-10-07T09:07:28.757Z"
   },
   {
    "duration": 17,
    "start_time": "2022-10-07T09:07:28.766Z"
   },
   {
    "duration": 5,
    "start_time": "2022-10-07T09:13:46.941Z"
   },
   {
    "duration": 1190,
    "start_time": "2022-10-08T12:17:30.477Z"
   },
   {
    "duration": 92,
    "start_time": "2022-10-08T12:17:31.669Z"
   },
   {
    "duration": 51,
    "start_time": "2022-10-08T12:17:31.762Z"
   },
   {
    "duration": 13,
    "start_time": "2022-10-08T12:17:31.815Z"
   },
   {
    "duration": 173,
    "start_time": "2022-10-08T12:17:31.830Z"
   },
   {
    "duration": 9,
    "start_time": "2022-10-08T12:17:32.005Z"
   },
   {
    "duration": 17,
    "start_time": "2022-10-08T12:17:32.016Z"
   },
   {
    "duration": 19,
    "start_time": "2022-10-08T12:17:32.035Z"
   },
   {
    "duration": 15,
    "start_time": "2022-10-08T12:17:32.055Z"
   },
   {
    "duration": 247,
    "start_time": "2022-10-08T12:17:32.073Z"
   },
   {
    "duration": 281,
    "start_time": "2022-10-08T12:17:32.322Z"
   },
   {
    "duration": 188,
    "start_time": "2022-10-08T12:17:32.605Z"
   },
   {
    "duration": 332,
    "start_time": "2022-10-08T12:17:32.795Z"
   },
   {
    "duration": 210,
    "start_time": "2022-10-08T12:17:33.129Z"
   },
   {
    "duration": 295,
    "start_time": "2022-10-08T12:17:33.341Z"
   },
   {
    "duration": 6,
    "start_time": "2022-10-08T12:17:33.638Z"
   },
   {
    "duration": 137,
    "start_time": "2022-10-08T12:17:33.645Z"
   },
   {
    "duration": 4,
    "start_time": "2022-10-08T12:17:33.784Z"
   },
   {
    "duration": 148,
    "start_time": "2022-10-08T12:17:33.789Z"
   },
   {
    "duration": 4,
    "start_time": "2022-10-08T12:17:33.940Z"
   },
   {
    "duration": 10,
    "start_time": "2022-10-08T12:17:33.946Z"
   },
   {
    "duration": 24,
    "start_time": "2022-10-08T12:17:33.958Z"
   },
   {
    "duration": 225,
    "start_time": "2022-10-08T12:17:33.983Z"
   },
   {
    "duration": 6,
    "start_time": "2022-10-08T12:17:34.209Z"
   },
   {
    "duration": 12,
    "start_time": "2022-10-08T12:17:34.217Z"
   },
   {
    "duration": 1063,
    "start_time": "2022-10-09T05:46:01.320Z"
   },
   {
    "duration": 98,
    "start_time": "2022-10-09T05:46:02.384Z"
   },
   {
    "duration": 50,
    "start_time": "2022-10-09T05:46:02.484Z"
   },
   {
    "duration": 14,
    "start_time": "2022-10-09T05:46:02.536Z"
   },
   {
    "duration": 62,
    "start_time": "2022-10-09T05:46:02.553Z"
   },
   {
    "duration": 8,
    "start_time": "2022-10-09T05:46:02.616Z"
   },
   {
    "duration": 9,
    "start_time": "2022-10-09T05:46:02.625Z"
   },
   {
    "duration": 20,
    "start_time": "2022-10-09T05:46:02.635Z"
   },
   {
    "duration": 17,
    "start_time": "2022-10-09T05:46:02.657Z"
   },
   {
    "duration": 244,
    "start_time": "2022-10-09T05:46:02.676Z"
   },
   {
    "duration": 273,
    "start_time": "2022-10-09T05:46:02.922Z"
   },
   {
    "duration": 203,
    "start_time": "2022-10-09T05:46:03.196Z"
   },
   {
    "duration": 272,
    "start_time": "2022-10-09T05:46:03.400Z"
   },
   {
    "duration": 210,
    "start_time": "2022-10-09T05:46:03.674Z"
   },
   {
    "duration": 284,
    "start_time": "2022-10-09T05:46:03.886Z"
   },
   {
    "duration": 8,
    "start_time": "2022-10-09T05:46:04.172Z"
   },
   {
    "duration": 145,
    "start_time": "2022-10-09T05:46:04.181Z"
   },
   {
    "duration": 4,
    "start_time": "2022-10-09T05:46:04.328Z"
   },
   {
    "duration": 159,
    "start_time": "2022-10-09T05:46:04.334Z"
   },
   {
    "duration": 3,
    "start_time": "2022-10-09T05:46:04.495Z"
   },
   {
    "duration": 19,
    "start_time": "2022-10-09T05:46:04.499Z"
   },
   {
    "duration": 8,
    "start_time": "2022-10-09T05:46:04.520Z"
   },
   {
    "duration": 243,
    "start_time": "2022-10-09T05:46:04.529Z"
   },
   {
    "duration": 6,
    "start_time": "2022-10-09T05:46:04.773Z"
   },
   {
    "duration": 11,
    "start_time": "2022-10-09T05:46:04.781Z"
   },
   {
    "duration": 1000,
    "start_time": "2022-10-09T05:46:42.897Z"
   },
   {
    "duration": 98,
    "start_time": "2022-10-09T05:46:43.899Z"
   },
   {
    "duration": 54,
    "start_time": "2022-10-09T05:46:43.999Z"
   },
   {
    "duration": 14,
    "start_time": "2022-10-09T05:46:44.055Z"
   },
   {
    "duration": 68,
    "start_time": "2022-10-09T05:46:44.071Z"
   },
   {
    "duration": 9,
    "start_time": "2022-10-09T05:46:44.140Z"
   },
   {
    "duration": 24,
    "start_time": "2022-10-09T05:46:44.150Z"
   },
   {
    "duration": 33,
    "start_time": "2022-10-09T05:46:44.175Z"
   },
   {
    "duration": 31,
    "start_time": "2022-10-09T05:46:44.209Z"
   },
   {
    "duration": 254,
    "start_time": "2022-10-09T05:46:44.243Z"
   },
   {
    "duration": 297,
    "start_time": "2022-10-09T05:46:44.499Z"
   },
   {
    "duration": 191,
    "start_time": "2022-10-09T05:46:44.798Z"
   },
   {
    "duration": 283,
    "start_time": "2022-10-09T05:46:44.991Z"
   },
   {
    "duration": 223,
    "start_time": "2022-10-09T05:46:45.275Z"
   },
   {
    "duration": 304,
    "start_time": "2022-10-09T05:46:45.501Z"
   },
   {
    "duration": 8,
    "start_time": "2022-10-09T05:46:45.807Z"
   },
   {
    "duration": 149,
    "start_time": "2022-10-09T05:46:45.816Z"
   },
   {
    "duration": 4,
    "start_time": "2022-10-09T05:46:45.967Z"
   },
   {
    "duration": 162,
    "start_time": "2022-10-09T05:46:45.972Z"
   },
   {
    "duration": 5,
    "start_time": "2022-10-09T05:46:46.135Z"
   },
   {
    "duration": 17,
    "start_time": "2022-10-09T05:46:46.141Z"
   },
   {
    "duration": 10,
    "start_time": "2022-10-09T05:46:46.160Z"
   },
   {
    "duration": 251,
    "start_time": "2022-10-09T05:46:46.171Z"
   },
   {
    "duration": 7,
    "start_time": "2022-10-09T05:46:46.423Z"
   },
   {
    "duration": 14,
    "start_time": "2022-10-09T05:46:46.432Z"
   },
   {
    "duration": 11,
    "start_time": "2022-10-09T05:50:01.305Z"
   },
   {
    "duration": 1242,
    "start_time": "2022-10-09T15:29:10.041Z"
   },
   {
    "duration": 169,
    "start_time": "2022-10-09T15:29:11.285Z"
   },
   {
    "duration": 59,
    "start_time": "2022-10-09T15:29:11.455Z"
   },
   {
    "duration": 19,
    "start_time": "2022-10-09T15:29:11.517Z"
   },
   {
    "duration": 189,
    "start_time": "2022-10-09T15:29:11.538Z"
   },
   {
    "duration": 16,
    "start_time": "2022-10-09T15:29:11.729Z"
   },
   {
    "duration": 18,
    "start_time": "2022-10-09T15:29:11.747Z"
   },
   {
    "duration": 23,
    "start_time": "2022-10-09T15:29:11.767Z"
   },
   {
    "duration": 34,
    "start_time": "2022-10-09T15:29:11.792Z"
   },
   {
    "duration": 294,
    "start_time": "2022-10-09T15:29:11.830Z"
   },
   {
    "duration": 276,
    "start_time": "2022-10-09T15:29:12.128Z"
   },
   {
    "duration": 201,
    "start_time": "2022-10-09T15:29:12.406Z"
   },
   {
    "duration": 350,
    "start_time": "2022-10-09T15:29:12.609Z"
   },
   {
    "duration": 213,
    "start_time": "2022-10-09T15:29:12.960Z"
   },
   {
    "duration": 301,
    "start_time": "2022-10-09T15:29:13.175Z"
   },
   {
    "duration": 7,
    "start_time": "2022-10-09T15:29:13.477Z"
   },
   {
    "duration": 149,
    "start_time": "2022-10-09T15:29:13.485Z"
   },
   {
    "duration": 7,
    "start_time": "2022-10-09T15:29:13.636Z"
   },
   {
    "duration": 161,
    "start_time": "2022-10-09T15:29:13.645Z"
   },
   {
    "duration": 4,
    "start_time": "2022-10-09T15:29:13.807Z"
   },
   {
    "duration": 176,
    "start_time": "2022-10-09T15:29:13.813Z"
   },
   {
    "duration": 19,
    "start_time": "2022-10-09T15:29:13.991Z"
   },
   {
    "duration": 15,
    "start_time": "2022-10-09T15:29:14.012Z"
   },
   {
    "duration": 22,
    "start_time": "2022-10-09T15:29:14.030Z"
   },
   {
    "duration": 25,
    "start_time": "2022-10-09T15:29:14.054Z"
   },
   {
    "duration": 261,
    "start_time": "2022-10-09T15:29:14.081Z"
   },
   {
    "duration": 6,
    "start_time": "2022-10-09T15:29:14.344Z"
   },
   {
    "duration": 1115,
    "start_time": "2022-10-10T08:33:02.300Z"
   },
   {
    "duration": 126,
    "start_time": "2022-10-10T08:33:03.417Z"
   },
   {
    "duration": 64,
    "start_time": "2022-10-10T08:33:03.544Z"
   },
   {
    "duration": 12,
    "start_time": "2022-10-10T08:33:03.610Z"
   },
   {
    "duration": 210,
    "start_time": "2022-10-10T08:33:03.623Z"
   },
   {
    "duration": 7,
    "start_time": "2022-10-10T08:33:03.834Z"
   },
   {
    "duration": 13,
    "start_time": "2022-10-10T08:33:03.842Z"
   },
   {
    "duration": 22,
    "start_time": "2022-10-10T08:33:03.856Z"
   },
   {
    "duration": 23,
    "start_time": "2022-10-10T08:33:03.879Z"
   },
   {
    "duration": 234,
    "start_time": "2022-10-10T08:33:03.904Z"
   },
   {
    "duration": 262,
    "start_time": "2022-10-10T08:33:04.140Z"
   },
   {
    "duration": 241,
    "start_time": "2022-10-10T08:33:04.404Z"
   },
   {
    "duration": 341,
    "start_time": "2022-10-10T08:33:04.647Z"
   },
   {
    "duration": 190,
    "start_time": "2022-10-10T08:33:04.989Z"
   },
   {
    "duration": 314,
    "start_time": "2022-10-10T08:33:05.180Z"
   },
   {
    "duration": 9,
    "start_time": "2022-10-10T08:33:05.495Z"
   },
   {
    "duration": 124,
    "start_time": "2022-10-10T08:33:05.505Z"
   },
   {
    "duration": 4,
    "start_time": "2022-10-10T08:33:05.631Z"
   },
   {
    "duration": 140,
    "start_time": "2022-10-10T08:33:05.637Z"
   },
   {
    "duration": 5,
    "start_time": "2022-10-10T08:33:05.779Z"
   },
   {
    "duration": 141,
    "start_time": "2022-10-10T08:33:05.785Z"
   },
   {
    "duration": 20,
    "start_time": "2022-10-10T08:33:05.927Z"
   },
   {
    "duration": 6,
    "start_time": "2022-10-10T08:33:05.949Z"
   },
   {
    "duration": 15,
    "start_time": "2022-10-10T08:33:05.956Z"
   },
   {
    "duration": 41,
    "start_time": "2022-10-10T08:33:05.973Z"
   },
   {
    "duration": 221,
    "start_time": "2022-10-10T08:33:06.015Z"
   },
   {
    "duration": 6,
    "start_time": "2022-10-10T08:33:06.237Z"
   }
  ],
  "kernelspec": {
   "display_name": "Python 3 (ipykernel)",
   "language": "python",
   "name": "python3"
  },
  "language_info": {
   "codemirror_mode": {
    "name": "ipython",
    "version": 3
   },
   "file_extension": ".py",
   "mimetype": "text/x-python",
   "name": "python",
   "nbconvert_exporter": "python",
   "pygments_lexer": "ipython3",
   "version": "3.9.12"
  },
  "toc": {
   "base_numbering": 1,
   "nav_menu": {},
   "number_sections": true,
   "sideBar": true,
   "skip_h1_title": true,
   "title_cell": "Table of Contents",
   "title_sidebar": "Contents",
   "toc_cell": false,
   "toc_position": {
    "height": "calc(100% - 180px)",
    "left": "10px",
    "top": "150px",
    "width": "165px"
   },
   "toc_section_display": true,
   "toc_window_display": true
  }
 },
 "nbformat": 4,
 "nbformat_minor": 2
}
